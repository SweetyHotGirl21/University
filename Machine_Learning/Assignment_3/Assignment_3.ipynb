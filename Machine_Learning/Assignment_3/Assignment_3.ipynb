{
 "cells": [
  {
   "cell_type": "markdown",
   "metadata": {},
   "source": [
    "# Machine Learning Homework 3"
   ]
  },
  {
   "cell_type": "markdown",
   "metadata": {},
   "source": [
    "## Instructions"
   ]
  },
  {
   "cell_type": "markdown",
   "metadata": {},
   "source": [
    "**Completing the homework:**  Follow along with the text and code in the notebook from start to finish.  There are two parts and 5 graded questions, worth a total of 5 points.  While some code is provided for you in the notebook, there are two types of work left for you:\n",
    "- **Tasks:** This work is meant to help you better understand the course material an will help you answer the questions.  Importantly, this work is not graded.  Tt is optional, but highly recommended.\n",
    "- **Questions:** These are the questions you need to answer and that are graded.\n",
    "    \n",
    "**How to turn in the homework**:  You need to make **two different Moodle submissions**.  First, you must open the Moodle Homework 3 Answers resources and answer the questions exactly how they correspond to those found in the Notebook.  Second, you must upload your notebook to the Moodle Homework 3 Notebook Upload.\n",
    "\n",
    "This homework is due **before class on Monday, May 10.**"
   ]
  },
  {
   "cell_type": "markdown",
   "metadata": {},
   "source": [
    "## Imports\n",
    "\n",
    "Below are the all the imports you will need to complete the homework.  You may use additional libraries if you desire, but they should not be needed."
   ]
  },
  {
   "cell_type": "code",
   "execution_count": 69,
   "metadata": {},
   "outputs": [],
   "source": [
    "import pandas as pd\n",
    "import numpy as np\n",
    "import seaborn as sns\n",
    "\n",
    "from sklearn import tree\n",
    "from sklearn.model_selection import train_test_split\n",
    "from sklearn.linear_model import LogisticRegression\n",
    "from sklearn.tree import DecisionTreeClassifier\n",
    "from sklearn.metrics import mean_squared_error, confusion_matrix, accuracy_score, roc_auc_score, precision_score, recall_score, f1_score, roc_curve, auc\n",
    "from sklearn.preprocessing import StandardScaler\n",
    "\n",
    "import pandas as pd\n",
    "import seaborn as sns\n",
    "from aequitas.group import Group\n",
    "from aequitas.bias import Bias\n",
    "from aequitas.fairness import Fairness\n",
    "from aequitas.plotting import Plot\n",
    "\n",
    "import shap\n",
    "import xgboost\n",
    "\n",
    "import warnings; warnings.simplefilter('ignore')\n",
    "\n",
    "%matplotlib inline\n",
    "\n",
    "from sklearn.cluster import KMeans\n",
    "from sklearn.datasets import make_blobs\n",
    "\n",
    "from matplotlib import pyplot as plt\n",
    "%matplotlib inline\n",
    "\n",
    "import warnings\n",
    "\n",
    "pd.set_option('display.max_columns', None)\n",
    "pd.set_option('display.max_rows', None)\n",
    "warnings.filterwarnings(\"ignore\") "
   ]
  },
  {
   "cell_type": "markdown",
   "metadata": {},
   "source": [
    "# Bias and Fairness"
   ]
  },
  {
   "cell_type": "markdown",
   "metadata": {},
   "source": [
    "## Choosing a fairness metric"
   ]
  },
  {
   "cell_type": "markdown",
   "metadata": {},
   "source": [
    "Consider the following scenario:\n",
    "\n",
    "Suppose a certain country in Europe is building a model to predict the risk that a criminal is going to recidivate, similiar to the prediction made by the COMPAS model discussed in class.  However, in contrast to COMPAS, the goal is not to use these scores to determine whether or not an individual is allowed to be free; instead, those individuals with a high risk score will be admitted into a special program.  The special program has three components:  (1) the individuals recieve one-on-one counseling, (2) the individuals will recieve a monthly stipend, and (3) the individuals are set up with housing.  The program is a benefit to the individuals and is aimed at reducing recividism."
   ]
  },
  {
   "cell_type": "markdown",
   "metadata": {},
   "source": [
    "**Task:**  Consider the confusion matrix for the model.  How would you interpret the true positive, false positives, true negatives, and false negatives?"
   ]
  },
  {
   "cell_type": "markdown",
   "metadata": {},
   "source": [
    "The country is trying to decide on the proper fairness metric to use for their machine learning model, and cares about the protected attribute race.  In terms of representation, they would either accept a model that has equal nominal representation of different races, or equal proportional representation in the special program.  They are also concerend about errors made by the model, and want to make sure that predictive equity among groups is acheieved for people with need."
   ]
  },
  {
   "cell_type": "markdown",
   "metadata": {},
   "source": [
    "**Task:**  Review the Aequitas guidelines for fairness metrics, and think about them in the context of this problem:  http://www.datasciencepublicpolicy.org/projects/aequitas/."
   ]
  },
  {
   "cell_type": "markdown",
   "metadata": {},
   "source": [
    "**Question 1 (1 pt):** Which of the following is NOT a good choice for a fairness metric for the model?\n",
    "\n",
    "> a) False Negative Rate Parity \\\n",
    "> b) Minimizing Disparate Impact \\\n",
    "> c) Demographic Parity \\\n",
    "> d) False Discovery Rate Parity"
   ]
  },
  {
   "cell_type": "code",
   "execution_count": 70,
   "metadata": {},
   "outputs": [],
   "source": [
    "# d)"
   ]
  },
  {
   "cell_type": "markdown",
   "metadata": {},
   "source": [
    "## Auditing and mitigating bias"
   ]
  },
  {
   "cell_type": "markdown",
   "metadata": {},
   "source": [
    "We will now work on a machine learning problem related to student educational outcomes.  The goal of Part 1 of this  homework assignment is to build a model that can accurately predict whether or not a student will pass their final year of high school, and audit that model for bias.\n",
    "\n",
    "The data we will use contains **student achievement in high school** for students enrolled in two Portuguese schools. The data features include **student grades, demographics, social and school-related features** and it was collected by using school reports and questionnaires [Cortez and Silva, 2008].  This data comes from a study carried about by Paulo Cortez at the University of Minho, located in Guimaraes, Portugal.  More information on the data and the problem can be found here:   https://www.kaggle.com/dipam7/student-grade-prediction.\n",
    "\n",
    "The **business context** of this problem is building a machine learning model that can accurately predict if a student will fail their final year of secondary education, so that they may be enrolled pre-emptively into remedial courses."
   ]
  },
  {
   "cell_type": "code",
   "execution_count": 71,
   "metadata": {},
   "outputs": [],
   "source": [
    "X = pd.read_csv(\"matrices/X.csv\",index_col=0)\n",
    "y = pd.read_csv(\"matrices/y.csv\",index_col=0,squeeze = True)"
   ]
  },
  {
   "cell_type": "code",
   "execution_count": 72,
   "metadata": {},
   "outputs": [
    {
     "data": {
      "text/html": [
       "<div>\n",
       "<style scoped>\n",
       "    .dataframe tbody tr th:only-of-type {\n",
       "        vertical-align: middle;\n",
       "    }\n",
       "\n",
       "    .dataframe tbody tr th {\n",
       "        vertical-align: top;\n",
       "    }\n",
       "\n",
       "    .dataframe thead th {\n",
       "        text-align: right;\n",
       "    }\n",
       "</style>\n",
       "<table border=\"1\" class=\"dataframe\">\n",
       "  <thead>\n",
       "    <tr style=\"text-align: right;\">\n",
       "      <th></th>\n",
       "      <th>absences</th>\n",
       "      <th>failures</th>\n",
       "      <th>grade1</th>\n",
       "      <th>traveltime</th>\n",
       "      <th>studytime</th>\n",
       "      <th>famrel</th>\n",
       "      <th>freetime</th>\n",
       "      <th>goout</th>\n",
       "      <th>Dalc</th>\n",
       "      <th>Walc</th>\n",
       "      <th>health</th>\n",
       "      <th>activities</th>\n",
       "      <th>nursery</th>\n",
       "      <th>internet</th>\n",
       "      <th>romantic</th>\n",
       "      <th>school_gp</th>\n",
       "      <th>address_urban</th>\n",
       "      <th>famsize_gt3</th>\n",
       "      <th>Pstatus_togethor</th>\n",
       "      <th>sex_female</th>\n",
       "      <th>health_mjob</th>\n",
       "      <th>other_mjob</th>\n",
       "      <th>services_mjob</th>\n",
       "      <th>teacher_mjob</th>\n",
       "      <th>health_fjob</th>\n",
       "      <th>other_fjob</th>\n",
       "      <th>services_fjob</th>\n",
       "      <th>teacher_fjob</th>\n",
       "      <th>home_reason</th>\n",
       "      <th>other_reason</th>\n",
       "      <th>reputation_reason</th>\n",
       "      <th>mother_guardian</th>\n",
       "      <th>other_guardian</th>\n",
       "    </tr>\n",
       "  </thead>\n",
       "  <tbody>\n",
       "    <tr>\n",
       "      <th>0</th>\n",
       "      <td>12</td>\n",
       "      <td>0</td>\n",
       "      <td>15</td>\n",
       "      <td>1</td>\n",
       "      <td>1</td>\n",
       "      <td>3</td>\n",
       "      <td>2</td>\n",
       "      <td>1</td>\n",
       "      <td>1</td>\n",
       "      <td>4</td>\n",
       "      <td>5</td>\n",
       "      <td>0</td>\n",
       "      <td>1</td>\n",
       "      <td>1</td>\n",
       "      <td>0</td>\n",
       "      <td>1</td>\n",
       "      <td>1</td>\n",
       "      <td>1</td>\n",
       "      <td>0</td>\n",
       "      <td>1</td>\n",
       "      <td>0</td>\n",
       "      <td>0</td>\n",
       "      <td>1</td>\n",
       "      <td>0</td>\n",
       "      <td>0</td>\n",
       "      <td>1</td>\n",
       "      <td>0</td>\n",
       "      <td>0</td>\n",
       "      <td>0</td>\n",
       "      <td>0</td>\n",
       "      <td>0</td>\n",
       "      <td>0</td>\n",
       "      <td>0</td>\n",
       "    </tr>\n",
       "    <tr>\n",
       "      <th>1</th>\n",
       "      <td>2</td>\n",
       "      <td>0</td>\n",
       "      <td>17</td>\n",
       "      <td>1</td>\n",
       "      <td>2</td>\n",
       "      <td>5</td>\n",
       "      <td>3</td>\n",
       "      <td>4</td>\n",
       "      <td>1</td>\n",
       "      <td>3</td>\n",
       "      <td>3</td>\n",
       "      <td>1</td>\n",
       "      <td>0</td>\n",
       "      <td>1</td>\n",
       "      <td>0</td>\n",
       "      <td>1</td>\n",
       "      <td>1</td>\n",
       "      <td>1</td>\n",
       "      <td>1</td>\n",
       "      <td>1</td>\n",
       "      <td>0</td>\n",
       "      <td>1</td>\n",
       "      <td>0</td>\n",
       "      <td>0</td>\n",
       "      <td>0</td>\n",
       "      <td>1</td>\n",
       "      <td>0</td>\n",
       "      <td>0</td>\n",
       "      <td>0</td>\n",
       "      <td>0</td>\n",
       "      <td>0</td>\n",
       "      <td>1</td>\n",
       "      <td>0</td>\n",
       "    </tr>\n",
       "    <tr>\n",
       "      <th>2</th>\n",
       "      <td>0</td>\n",
       "      <td>2</td>\n",
       "      <td>9</td>\n",
       "      <td>2</td>\n",
       "      <td>1</td>\n",
       "      <td>4</td>\n",
       "      <td>4</td>\n",
       "      <td>5</td>\n",
       "      <td>3</td>\n",
       "      <td>5</td>\n",
       "      <td>5</td>\n",
       "      <td>0</td>\n",
       "      <td>0</td>\n",
       "      <td>1</td>\n",
       "      <td>0</td>\n",
       "      <td>1</td>\n",
       "      <td>1</td>\n",
       "      <td>0</td>\n",
       "      <td>1</td>\n",
       "      <td>0</td>\n",
       "      <td>1</td>\n",
       "      <td>0</td>\n",
       "      <td>0</td>\n",
       "      <td>0</td>\n",
       "      <td>0</td>\n",
       "      <td>0</td>\n",
       "      <td>1</td>\n",
       "      <td>0</td>\n",
       "      <td>0</td>\n",
       "      <td>0</td>\n",
       "      <td>0</td>\n",
       "      <td>1</td>\n",
       "      <td>0</td>\n",
       "    </tr>\n",
       "    <tr>\n",
       "      <th>3</th>\n",
       "      <td>4</td>\n",
       "      <td>0</td>\n",
       "      <td>14</td>\n",
       "      <td>2</td>\n",
       "      <td>2</td>\n",
       "      <td>4</td>\n",
       "      <td>4</td>\n",
       "      <td>3</td>\n",
       "      <td>1</td>\n",
       "      <td>1</td>\n",
       "      <td>3</td>\n",
       "      <td>1</td>\n",
       "      <td>1</td>\n",
       "      <td>1</td>\n",
       "      <td>0</td>\n",
       "      <td>0</td>\n",
       "      <td>1</td>\n",
       "      <td>1</td>\n",
       "      <td>1</td>\n",
       "      <td>0</td>\n",
       "      <td>0</td>\n",
       "      <td>1</td>\n",
       "      <td>0</td>\n",
       "      <td>0</td>\n",
       "      <td>0</td>\n",
       "      <td>0</td>\n",
       "      <td>1</td>\n",
       "      <td>0</td>\n",
       "      <td>1</td>\n",
       "      <td>0</td>\n",
       "      <td>0</td>\n",
       "      <td>0</td>\n",
       "      <td>0</td>\n",
       "    </tr>\n",
       "    <tr>\n",
       "      <th>4</th>\n",
       "      <td>2</td>\n",
       "      <td>0</td>\n",
       "      <td>12</td>\n",
       "      <td>2</td>\n",
       "      <td>1</td>\n",
       "      <td>4</td>\n",
       "      <td>3</td>\n",
       "      <td>2</td>\n",
       "      <td>1</td>\n",
       "      <td>4</td>\n",
       "      <td>5</td>\n",
       "      <td>0</td>\n",
       "      <td>1</td>\n",
       "      <td>0</td>\n",
       "      <td>0</td>\n",
       "      <td>1</td>\n",
       "      <td>1</td>\n",
       "      <td>1</td>\n",
       "      <td>1</td>\n",
       "      <td>1</td>\n",
       "      <td>0</td>\n",
       "      <td>0</td>\n",
       "      <td>0</td>\n",
       "      <td>0</td>\n",
       "      <td>0</td>\n",
       "      <td>1</td>\n",
       "      <td>0</td>\n",
       "      <td>0</td>\n",
       "      <td>1</td>\n",
       "      <td>0</td>\n",
       "      <td>0</td>\n",
       "      <td>1</td>\n",
       "      <td>0</td>\n",
       "    </tr>\n",
       "  </tbody>\n",
       "</table>\n",
       "</div>"
      ],
      "text/plain": [
       "   absences  failures  grade1  traveltime  studytime  famrel  freetime  goout  \\\n",
       "0        12         0      15           1          1       3         2      1   \n",
       "1         2         0      17           1          2       5         3      4   \n",
       "2         0         2       9           2          1       4         4      5   \n",
       "3         4         0      14           2          2       4         4      3   \n",
       "4         2         0      12           2          1       4         3      2   \n",
       "\n",
       "   Dalc  Walc  health  activities  nursery  internet  romantic  school_gp  \\\n",
       "0     1     4       5           0        1         1         0          1   \n",
       "1     1     3       3           1        0         1         0          1   \n",
       "2     3     5       5           0        0         1         0          1   \n",
       "3     1     1       3           1        1         1         0          0   \n",
       "4     1     4       5           0        1         0         0          1   \n",
       "\n",
       "   address_urban  famsize_gt3  Pstatus_togethor  sex_female  health_mjob  \\\n",
       "0              1            1                 0           1            0   \n",
       "1              1            1                 1           1            0   \n",
       "2              1            0                 1           0            1   \n",
       "3              1            1                 1           0            0   \n",
       "4              1            1                 1           1            0   \n",
       "\n",
       "   other_mjob  services_mjob  teacher_mjob  health_fjob  other_fjob  \\\n",
       "0           0              1             0            0           1   \n",
       "1           1              0             0            0           1   \n",
       "2           0              0             0            0           0   \n",
       "3           1              0             0            0           0   \n",
       "4           0              0             0            0           1   \n",
       "\n",
       "   services_fjob  teacher_fjob  home_reason  other_reason  reputation_reason  \\\n",
       "0              0             0            0             0                  0   \n",
       "1              0             0            0             0                  0   \n",
       "2              1             0            0             0                  0   \n",
       "3              1             0            1             0                  0   \n",
       "4              0             0            1             0                  0   \n",
       "\n",
       "   mother_guardian  other_guardian  \n",
       "0                0               0  \n",
       "1                1               0  \n",
       "2                1               0  \n",
       "3                0               0  \n",
       "4                1               0  "
      ]
     },
     "execution_count": 72,
     "metadata": {},
     "output_type": "execute_result"
    }
   ],
   "source": [
    "X.head()"
   ]
  },
  {
   "cell_type": "markdown",
   "metadata": {},
   "source": [
    "We are now going to work with a Random Forest model.  Please use the `random_state=42` when training the classifier."
   ]
  },
  {
   "cell_type": "markdown",
   "metadata": {},
   "source": [
    "Now we will divide the data into training and testing data using the sklearn `train_test_split` function."
   ]
  },
  {
   "cell_type": "code",
   "execution_count": 73,
   "metadata": {},
   "outputs": [],
   "source": [
    "X_train, X_test, y_train, y_test = train_test_split(X, y, test_size=0.4, random_state=42)"
   ]
  },
  {
   "cell_type": "markdown",
   "metadata": {},
   "source": [
    "**Task:** Print out and plot the feature importance of the RandomForestClassifier.  What is the most important feature?  What is the least important feature?  Do you notice any feature importance that may indicate bias in the model?"
   ]
  },
  {
   "cell_type": "code",
   "execution_count": 74,
   "metadata": {},
   "outputs": [
    {
     "name": "stdout",
     "output_type": "stream",
     "text": [
      "              precision    recall  f1-score   support\n",
      "\n",
      "           0       0.99      0.85      0.91       373\n",
      "           1       0.42      0.91      0.58        45\n",
      "\n",
      "    accuracy                           0.86       418\n",
      "   macro avg       0.71      0.88      0.75       418\n",
      "weighted avg       0.93      0.86      0.88       418\n",
      "\n"
     ]
    }
   ],
   "source": [
    "from sklearn.ensemble import RandomForestClassifier\n",
    "\n",
    "model = RandomForestClassifier(n_estimators=100, random_state=42, max_depth = 6)\n",
    "model.fit(X_train, y_train)\n",
    "\n",
    "model.fit(X_train, y_train)\n",
    "y_pred = model.predict(X_test)\n",
    "\n",
    "from sklearn.metrics import classification_report\n",
    "print(classification_report(y_pred, y_test))"
   ]
  },
  {
   "cell_type": "code",
   "execution_count": 75,
   "metadata": {},
   "outputs": [
    {
     "name": "stdout",
     "output_type": "stream",
     "text": [
      "absences 0.08165817564711951\n",
      "failures 0.09316393898870437\n",
      "grade1 0.43680732085213203\n",
      "traveltime 0.016379253354668232\n",
      "studytime 0.020109998092071067\n",
      "famrel 0.03266078053334526\n",
      "freetime 0.02217689727099665\n",
      "goout 0.034817207564433766\n",
      "Dalc 0.021827077037824768\n",
      "Walc 0.02357554412441934\n",
      "health 0.02462119426146109\n",
      "activities 0.008763914485614933\n",
      "nursery 0.007754376555521284\n",
      "internet 0.015244349874225373\n",
      "romantic 0.013765839666429832\n",
      "school_gp 0.016588723596342992\n",
      "address_urban 0.012108844617909533\n",
      "famsize_gt3 0.010027242335080535\n",
      "Pstatus_togethor 0.005546063341417193\n",
      "sex_female 0.007148121943724799\n",
      "health_mjob 0.0025829551236134746\n",
      "other_mjob 0.009053798062316489\n",
      "services_mjob 0.006633079180204706\n",
      "teacher_mjob 0.005750418339734966\n",
      "health_fjob 0.0012869067920734142\n",
      "other_fjob 0.010971588346056726\n",
      "services_fjob 0.013722787946560169\n",
      "teacher_fjob 0.003314858762737637\n",
      "home_reason 0.009203466032491288\n",
      "other_reason 0.00590546099271829\n",
      "reputation_reason 0.008944835881570856\n",
      "mother_guardian 0.007287103770340526\n",
      "other_guardian 0.010597876626138751\n"
     ]
    }
   ],
   "source": [
    "for name, score in zip(X.columns, model.feature_importances_):\n",
    "    print(name, score)"
   ]
  },
  {
   "cell_type": "code",
   "execution_count": 76,
   "metadata": {},
   "outputs": [
    {
     "data": {
      "text/plain": [
       "Text(0.5, 0, 'Random Forest Feature Importance, visualized')"
      ]
     },
     "execution_count": 76,
     "metadata": {},
     "output_type": "execute_result"
    },
    {
     "data": {
      "image/png": "[encoded data removed]",
      "text/plain": [
       "<Figure size 720x576 with 1 Axes>"
      ]
     },
     "metadata": {
      "needs_background": "light"
     },
     "output_type": "display_data"
    }
   ],
   "source": [
    "plt.rcParams[\"figure.figsize\"] = (10,8)\n",
    "sorted_idx = model.feature_importances_.argsort()\n",
    "plt.barh(X_train.columns[sorted_idx], model.feature_importances_[sorted_idx])\n",
    "plt.xlabel(\"Random Forest Feature Importance, visualized\")"
   ]
  },
  {
   "cell_type": "markdown",
   "metadata": {},
   "source": [
    "**Question 2 (1 pt):** What is the feature importance for the variable `sex_female`?\n",
    "\n",
    "> a) `0.01` \\\n",
    "> b) `0.007`  \\\n",
    "> c) `0.09` \\\n",
    "> d) `0.436`"
   ]
  },
  {
   "cell_type": "code",
   "execution_count": 77,
   "metadata": {},
   "outputs": [],
   "source": [
    "# b)"
   ]
  },
  {
   "cell_type": "markdown",
   "metadata": {},
   "source": [
    "**Task:** Based on the feature importance of the `sex_female` variable, do you think it has a significant impact on the output of the model?  Reflect on whether or not this means there will be bias present in the model.\n",
    "\n",
    "Regardless, it is important that we conduct a more *robust* bias audit of our model.  To do this, we will use the tool Aequitas.\n",
    "\n",
    "Before we begin, we must first select a fairness metric.  There are several choices that woud make sense (take some time to reflect on these on your own), but for the purposes of this notebook, we will focus on the **False Negative Rate**.\n",
    "\n",
    "Consider the **False Negative** in this context:  a FN is a student that the model predicts will *not* recieve a failing grade, when in reality, they would.  Had they been desiginated as high risk, they would have recieved accesss to the special intervention that is part of our business context.\n",
    "\n",
    "To put this another way, a False Negative Rate disparity between groups would indicate that we were disproportionately *missing out* on desiginating individuals from one group who needed help for special intervention, compared to another other groups."
   ]
  },
  {
   "cell_type": "markdown",
   "metadata": {},
   "source": [
    "**Task:** Follow along with the Aequitas documentation to find the False Negative Rates of the males and females for your model:  https://dssg.github.io/aequitas/examples/compas_demo.html\n",
    "\n",
    "*Note:* Aequitas requires some pre-processing to run properly; that has been done for you in the code cell below and the pre-processed dataset is stored in the variable `df`."
   ]
  },
  {
   "cell_type": "code",
   "execution_count": 78,
   "metadata": {},
   "outputs": [],
   "source": [
    "aequitas = X_train.filter(items=[\"sex_female\"])\n",
    "aequitas[\"sex\"] = aequitas[\"sex_female\"].apply(lambda x: \"F\" if x == 1 else \"M\")\n",
    "aequitas[\"label_value\"] = y_train\n",
    "y_pred_train = model.predict(X_train)\n",
    "aequitas[\"score\"] = y_pred_train\n",
    "df = aequitas.drop(columns=[\"sex_female\"])\n",
    "\n"
   ]
  },
  {
   "cell_type": "markdown",
   "metadata": {},
   "source": [
    "**Task:** Calculate the False Negative Rate disparity of the model using the formula `FNR_female / FNR_male`.  What does this value represent?  When would the disparity be equal to `1.0`?  What does a disparity less than `1.0` mean?  What does a disparity greater than `1.0` mean?"
   ]
  },
  {
   "cell_type": "code",
   "execution_count": 79,
   "metadata": {},
   "outputs": [
    {
     "data": {
      "text/html": [
       "<div>\n",
       "<style scoped>\n",
       "    .dataframe tbody tr th:only-of-type {\n",
       "        vertical-align: middle;\n",
       "    }\n",
       "\n",
       "    .dataframe tbody tr th {\n",
       "        vertical-align: top;\n",
       "    }\n",
       "\n",
       "    .dataframe thead th {\n",
       "        text-align: right;\n",
       "    }\n",
       "</style>\n",
       "<table border=\"1\" class=\"dataframe\">\n",
       "  <thead>\n",
       "    <tr style=\"text-align: right;\">\n",
       "      <th></th>\n",
       "      <th>model_id</th>\n",
       "      <th>score_threshold</th>\n",
       "      <th>k</th>\n",
       "      <th>attribute_name</th>\n",
       "      <th>attribute_value</th>\n",
       "      <th>pp</th>\n",
       "      <th>pn</th>\n",
       "      <th>fp</th>\n",
       "      <th>fn</th>\n",
       "      <th>tn</th>\n",
       "      <th>tp</th>\n",
       "      <th>group_label_pos</th>\n",
       "      <th>group_label_neg</th>\n",
       "      <th>group_size</th>\n",
       "      <th>total_entities</th>\n",
       "    </tr>\n",
       "  </thead>\n",
       "  <tbody>\n",
       "    <tr>\n",
       "      <th>0</th>\n",
       "      <td>0</td>\n",
       "      <td>binary 0/1</td>\n",
       "      <td>99</td>\n",
       "      <td>sex</td>\n",
       "      <td>F</td>\n",
       "      <td>60</td>\n",
       "      <td>313</td>\n",
       "      <td>2</td>\n",
       "      <td>19</td>\n",
       "      <td>294</td>\n",
       "      <td>58</td>\n",
       "      <td>77</td>\n",
       "      <td>296</td>\n",
       "      <td>373</td>\n",
       "      <td>626</td>\n",
       "    </tr>\n",
       "    <tr>\n",
       "      <th>1</th>\n",
       "      <td>0</td>\n",
       "      <td>binary 0/1</td>\n",
       "      <td>99</td>\n",
       "      <td>sex</td>\n",
       "      <td>M</td>\n",
       "      <td>39</td>\n",
       "      <td>214</td>\n",
       "      <td>0</td>\n",
       "      <td>17</td>\n",
       "      <td>197</td>\n",
       "      <td>39</td>\n",
       "      <td>56</td>\n",
       "      <td>197</td>\n",
       "      <td>253</td>\n",
       "      <td>626</td>\n",
       "    </tr>\n",
       "  </tbody>\n",
       "</table>\n",
       "</div>"
      ],
      "text/plain": [
       "   model_id score_threshold   k attribute_name attribute_value  pp   pn  fp  \\\n",
       "0         0      binary 0/1  99            sex               F  60  313   2   \n",
       "1         0      binary 0/1  99            sex               M  39  214   0   \n",
       "\n",
       "   fn   tn  tp  group_label_pos  group_label_neg  group_size  total_entities  \n",
       "0  19  294  58               77              296         373             626  \n",
       "1  17  197  39               56              197         253             626  "
      ]
     },
     "execution_count": 79,
     "metadata": {},
     "output_type": "execute_result"
    }
   ],
   "source": [
    "g = Group()\n",
    "xtab, _ = g.get_crosstabs(df)\n",
    "absolute_metrics = g.list_absolute_metrics(xtab)\n",
    "xtab[[col for col in xtab.columns if col not in absolute_metrics]]"
   ]
  },
  {
   "cell_type": "code",
   "execution_count": 80,
   "metadata": {},
   "outputs": [
    {
     "data": {
      "text/html": [
       "<div>\n",
       "<style scoped>\n",
       "    .dataframe tbody tr th:only-of-type {\n",
       "        vertical-align: middle;\n",
       "    }\n",
       "\n",
       "    .dataframe tbody tr th {\n",
       "        vertical-align: top;\n",
       "    }\n",
       "\n",
       "    .dataframe thead th {\n",
       "        text-align: right;\n",
       "    }\n",
       "</style>\n",
       "<table border=\"1\" class=\"dataframe\">\n",
       "  <thead>\n",
       "    <tr style=\"text-align: right;\">\n",
       "      <th></th>\n",
       "      <th>attribute_name</th>\n",
       "      <th>attribute_value</th>\n",
       "      <th>tpr</th>\n",
       "      <th>tnr</th>\n",
       "      <th>for</th>\n",
       "      <th>fdr</th>\n",
       "      <th>fpr</th>\n",
       "      <th>fnr</th>\n",
       "      <th>npv</th>\n",
       "      <th>precision</th>\n",
       "      <th>ppr</th>\n",
       "      <th>pprev</th>\n",
       "      <th>prev</th>\n",
       "    </tr>\n",
       "  </thead>\n",
       "  <tbody>\n",
       "    <tr>\n",
       "      <th>0</th>\n",
       "      <td>sex</td>\n",
       "      <td>F</td>\n",
       "      <td>0.753247</td>\n",
       "      <td>0.993243</td>\n",
       "      <td>0.060703</td>\n",
       "      <td>0.033333</td>\n",
       "      <td>0.006757</td>\n",
       "      <td>0.246753</td>\n",
       "      <td>0.939297</td>\n",
       "      <td>0.966667</td>\n",
       "      <td>0.606061</td>\n",
       "      <td>0.160858</td>\n",
       "      <td>0.206434</td>\n",
       "    </tr>\n",
       "    <tr>\n",
       "      <th>1</th>\n",
       "      <td>sex</td>\n",
       "      <td>M</td>\n",
       "      <td>0.696429</td>\n",
       "      <td>1.000000</td>\n",
       "      <td>0.079439</td>\n",
       "      <td>0.000000</td>\n",
       "      <td>0.000000</td>\n",
       "      <td>0.303571</td>\n",
       "      <td>0.920561</td>\n",
       "      <td>1.000000</td>\n",
       "      <td>0.393939</td>\n",
       "      <td>0.154150</td>\n",
       "      <td>0.221344</td>\n",
       "    </tr>\n",
       "  </tbody>\n",
       "</table>\n",
       "</div>"
      ],
      "text/plain": [
       "  attribute_name attribute_value       tpr       tnr       for       fdr  \\\n",
       "0            sex               F  0.753247  0.993243  0.060703  0.033333   \n",
       "1            sex               M  0.696429  1.000000  0.079439  0.000000   \n",
       "\n",
       "        fpr       fnr       npv  precision       ppr     pprev      prev  \n",
       "0  0.006757  0.246753  0.939297   0.966667  0.606061  0.160858  0.206434  \n",
       "1  0.000000  0.303571  0.920561   1.000000  0.393939  0.154150  0.221344  "
      ]
     },
     "execution_count": 80,
     "metadata": {},
     "output_type": "execute_result"
    }
   ],
   "source": [
    "xtab[['attribute_name', 'attribute_value'] + absolute_metrics]"
   ]
  },
  {
   "cell_type": "code",
   "execution_count": 81,
   "metadata": {},
   "outputs": [
    {
     "data": {
      "text/plain": [
       "0.81"
      ]
     },
     "execution_count": 81,
     "metadata": {},
     "output_type": "execute_result"
    }
   ],
   "source": [
    "round(0.24675/0.303571,2)"
   ]
  },
  {
   "cell_type": "markdown",
   "metadata": {},
   "source": [
    "**Question 3 (1 pt):** Approximately what is the False Negative Rate disparity of the RandomForestClassifier?\n",
    "\n",
    "> a) `1.2` \\\n",
    "> b) `1.0` \\\n",
    "> c) `0.8`  \\\n",
    "> d) `0.6`"
   ]
  },
  {
   "cell_type": "code",
   "execution_count": 82,
   "metadata": {},
   "outputs": [],
   "source": [
    "# c)"
   ]
  },
  {
   "cell_type": "markdown",
   "metadata": {},
   "source": [
    "**Task:**  Reflect on your answer for Question 3.  Do you think the model is equitable to both males and females?  Generally, as a rule-of-thumb, we accept disparities between `0.85` and `1.15` as fair."
   ]
  },
  {
   "cell_type": "markdown",
   "metadata": {},
   "source": [
    "**Task:** First, train a new RandomForestClassifier using the same hyperparameters as earlier (and remember to use `random_state=42`), but this time, drop the feature `sex_female` from the train and test matrices.  Second, carry out the same Aequitas analysis as before and find the FNR disparity between the males and females."
   ]
  },
  {
   "cell_type": "code",
   "execution_count": 83,
   "metadata": {},
   "outputs": [
    {
     "data": {
      "text/html": [
       "<div>\n",
       "<style scoped>\n",
       "    .dataframe tbody tr th:only-of-type {\n",
       "        vertical-align: middle;\n",
       "    }\n",
       "\n",
       "    .dataframe tbody tr th {\n",
       "        vertical-align: top;\n",
       "    }\n",
       "\n",
       "    .dataframe thead th {\n",
       "        text-align: right;\n",
       "    }\n",
       "</style>\n",
       "<table border=\"1\" class=\"dataframe\">\n",
       "  <thead>\n",
       "    <tr style=\"text-align: right;\">\n",
       "      <th></th>\n",
       "      <th>sex</th>\n",
       "      <th>label_value</th>\n",
       "      <th>score</th>\n",
       "    </tr>\n",
       "  </thead>\n",
       "  <tbody>\n",
       "    <tr>\n",
       "      <th>497</th>\n",
       "      <td>F</td>\n",
       "      <td>1</td>\n",
       "      <td>1</td>\n",
       "    </tr>\n",
       "    <tr>\n",
       "      <th>326</th>\n",
       "      <td>F</td>\n",
       "      <td>1</td>\n",
       "      <td>1</td>\n",
       "    </tr>\n",
       "    <tr>\n",
       "      <th>144</th>\n",
       "      <td>F</td>\n",
       "      <td>1</td>\n",
       "      <td>1</td>\n",
       "    </tr>\n",
       "    <tr>\n",
       "      <th>545</th>\n",
       "      <td>M</td>\n",
       "      <td>1</td>\n",
       "      <td>0</td>\n",
       "    </tr>\n",
       "    <tr>\n",
       "      <th>622</th>\n",
       "      <td>M</td>\n",
       "      <td>0</td>\n",
       "      <td>0</td>\n",
       "    </tr>\n",
       "  </tbody>\n",
       "</table>\n",
       "</div>"
      ],
      "text/plain": [
       "    sex  label_value  score\n",
       "497   F            1      1\n",
       "326   F            1      1\n",
       "144   F            1      1\n",
       "545   M            1      0\n",
       "622   M            0      0"
      ]
     },
     "execution_count": 83,
     "metadata": {},
     "output_type": "execute_result"
    }
   ],
   "source": [
    "x_train_new = X_train.drop('sex_female', 1)\n",
    "clf = RandomForestClassifier(max_depth=6, n_estimators=100, random_state = 42)\n",
    "clf.fit(x_train_new, y_train)\n",
    "aequitas = X_train.filter(items=[\"sex_female\"])\n",
    "aequitas[\"sex\"] = aequitas[\"sex_female\"].apply(lambda x: \"F\" if x == 1 else \"M\")\n",
    "aequitas[\"label_value\"] = y_train\n",
    "y_pred_train = clf.predict(x_train_new)\n",
    "aequitas[\"score\"] = y_pred_train\n",
    "df = aequitas.drop(columns=[\"sex_female\"])\n",
    "df.head()"
   ]
  },
  {
   "cell_type": "code",
   "execution_count": 84,
   "metadata": {},
   "outputs": [
    {
     "data": {
      "text/html": [
       "<div>\n",
       "<style scoped>\n",
       "    .dataframe tbody tr th:only-of-type {\n",
       "        vertical-align: middle;\n",
       "    }\n",
       "\n",
       "    .dataframe tbody tr th {\n",
       "        vertical-align: top;\n",
       "    }\n",
       "\n",
       "    .dataframe thead th {\n",
       "        text-align: right;\n",
       "    }\n",
       "</style>\n",
       "<table border=\"1\" class=\"dataframe\">\n",
       "  <thead>\n",
       "    <tr style=\"text-align: right;\">\n",
       "      <th></th>\n",
       "      <th>attribute_name</th>\n",
       "      <th>attribute_value</th>\n",
       "      <th>tpr</th>\n",
       "      <th>tnr</th>\n",
       "      <th>for</th>\n",
       "      <th>fdr</th>\n",
       "      <th>fpr</th>\n",
       "      <th>fnr</th>\n",
       "      <th>npv</th>\n",
       "      <th>precision</th>\n",
       "      <th>ppr</th>\n",
       "      <th>pprev</th>\n",
       "      <th>prev</th>\n",
       "    </tr>\n",
       "  </thead>\n",
       "  <tbody>\n",
       "    <tr>\n",
       "      <th>0</th>\n",
       "      <td>sex</td>\n",
       "      <td>F</td>\n",
       "      <td>0.7532</td>\n",
       "      <td>0.9966</td>\n",
       "      <td>0.0605</td>\n",
       "      <td>0.0169</td>\n",
       "      <td>0.0034</td>\n",
       "      <td>0.2468</td>\n",
       "      <td>0.9395</td>\n",
       "      <td>0.9831</td>\n",
       "      <td>0.59</td>\n",
       "      <td>0.1582</td>\n",
       "      <td>0.2064</td>\n",
       "    </tr>\n",
       "    <tr>\n",
       "      <th>1</th>\n",
       "      <td>sex</td>\n",
       "      <td>M</td>\n",
       "      <td>0.7143</td>\n",
       "      <td>0.9949</td>\n",
       "      <td>0.0755</td>\n",
       "      <td>0.0244</td>\n",
       "      <td>0.0051</td>\n",
       "      <td>0.2857</td>\n",
       "      <td>0.9245</td>\n",
       "      <td>0.9756</td>\n",
       "      <td>0.41</td>\n",
       "      <td>0.1621</td>\n",
       "      <td>0.2213</td>\n",
       "    </tr>\n",
       "  </tbody>\n",
       "</table>\n",
       "</div>"
      ],
      "text/plain": [
       "  attribute_name attribute_value     tpr     tnr     for     fdr     fpr  \\\n",
       "0            sex               F  0.7532  0.9966  0.0605  0.0169  0.0034   \n",
       "1            sex               M  0.7143  0.9949  0.0755  0.0244  0.0051   \n",
       "\n",
       "      fnr     npv  precision   ppr   pprev    prev  \n",
       "0  0.2468  0.9395     0.9831  0.59  0.1582  0.2064  \n",
       "1  0.2857  0.9245     0.9756  0.41  0.1621  0.2213  "
      ]
     },
     "execution_count": 84,
     "metadata": {},
     "output_type": "execute_result"
    }
   ],
   "source": [
    "g = Group()\n",
    "xtab, _ = g.get_crosstabs(df)\n",
    "absolute_metrics = g.list_absolute_metrics(xtab)\n",
    "xtab[[col for col in xtab.columns if col not in absolute_metrics]]\n",
    "xtab[['attribute_name', 'attribute_value'] + absolute_metrics].round(4)\n"
   ]
  },
  {
   "cell_type": "markdown",
   "metadata": {},
   "source": [
    "**Question 4 (1 pt):** Approximately what is the False Negative Rate disparity of the RandomForestClassifier trained without the `sex_female` feature?\n",
    "\n",
    "> a) `1.2` \\\n",
    "> b) `1.05` \\\n",
    "> c) `0.85` \\\n",
    "> d) `0.60`"
   ]
  },
  {
   "cell_type": "code",
   "execution_count": 85,
   "metadata": {},
   "outputs": [
    {
     "name": "stdout",
     "output_type": "stream",
     "text": [
      "0.86\n"
     ]
    }
   ],
   "source": [
    "print(round((0.2468/0.2857),2))"
   ]
  },
  {
   "cell_type": "code",
   "execution_count": 86,
   "metadata": {},
   "outputs": [],
   "source": [
    "# c)"
   ]
  },
  {
   "cell_type": "markdown",
   "metadata": {},
   "source": [
    "**Task:** Reflect on the answer you found to Question 4.  Is the model more fair, or less fair?  Would you be comfortable deploying this model into the real world?  What would you say to someone concerned about the fairness of the model with respect to gender?  Could you defend the decision in a way that many different stakeholders - like policymakers, educators, students affected by the model, and even society-at-large - would see it as fair and just?\n",
    "\n",
    "What is the performance of the new model?  Was there a tradeoff between model performance and fairness?"
   ]
  },
  {
   "cell_type": "markdown",
   "metadata": {},
   "source": [
    "## Explainability"
   ]
  },
  {
   "cell_type": "markdown",
   "metadata": {},
   "source": [
    "Before deploying our model into production, we should gain some insight on *how* it is working, and *why* it is scoring the students the way it is.\n",
    "\n",
    "To do this, we will use the **black-box explainer SHAP**.  This is a post-hoc explainability method, meaning that is applied *after* our model has been trained.\n",
    "\n",
    "Before we begin explaining, we will train a commonly used black-box model for our data called XGBoost."
   ]
  },
  {
   "cell_type": "markdown",
   "metadata": {},
   "source": [
    "**Task:**  Train an XGBoost model using the hyperparemters `n_estimators=200, max_depth=5, random_state=42`.  Inspect the models performance and compare it to the Random Forest models we used earlier."
   ]
  },
  {
   "cell_type": "code",
   "execution_count": 87,
   "metadata": {},
   "outputs": [
    {
     "name": "stdout",
     "output_type": "stream",
     "text": [
      "[18:34:32] WARNING: C:/Users/Administrator/workspace/xgboost-win64_release_1.4.0/src/learner.cc:573: \n",
      "Parameters: { \"random_forest\" } might not be used.\n",
      "\n",
      "  This may not be accurate due to some parameters are only used in language bindings but\n",
      "  passed down to XGBoost core.  Or some parameters are not used but slip through this\n",
      "  verification. Please open an issue if you find above cases.\n",
      "\n",
      "\n",
      "[18:34:32] WARNING: C:/Users/Administrator/workspace/xgboost-win64_release_1.4.0/src/learner.cc:1095: Starting in XGBoost 1.3.0, the default evaluation metric used with the objective 'binary:logistic' was changed from 'error' to 'logloss'. Explicitly set eval_metric if you'd like to restore the old behavior.\n"
     ]
    },
    {
     "data": {
      "text/plain": [
       "XGBClassifier(base_score=0.5, booster='gbtree', colsample_bylevel=1,\n",
       "              colsample_bynode=1, colsample_bytree=1, gamma=0, gpu_id=-1,\n",
       "              importance_type='gain', interaction_constraints='',\n",
       "              learning_rate=0.300000012, max_delta_step=0, max_depth=5,\n",
       "              min_child_weight=1, missing=nan, monotone_constraints='()',\n",
       "              n_estimators=200, n_jobs=8, num_parallel_tree=1, random_forest=42,\n",
       "              random_state=0, reg_alpha=0, reg_lambda=1, scale_pos_weight=1,\n",
       "              subsample=1, tree_method='exact', validate_parameters=1,\n",
       "              verbosity=None)"
      ]
     },
     "execution_count": 87,
     "metadata": {},
     "output_type": "execute_result"
    }
   ],
   "source": [
    "clf = xgboost.XGBClassifier(n_estimators=200, max_depth=5,random_forest=42)\n",
    "clf.fit(X_train,y_train)"
   ]
  },
  {
   "cell_type": "code",
   "execution_count": 88,
   "metadata": {},
   "outputs": [],
   "source": [
    "explainer = shap.TreeExplainer(clf)\n",
    "shap_values = explainer.shap_values(X_test)"
   ]
  },
  {
   "cell_type": "code",
   "execution_count": 89,
   "metadata": {},
   "outputs": [
    {
     "data": {
      "image/png": "[encoded data removed]",
      "text/plain": [
       "<Figure size 576x684 with 2 Axes>"
      ]
     },
     "metadata": {
      "needs_background": "light"
     },
     "output_type": "display_data"
    }
   ],
   "source": [
    "shap.summary_plot(shap_values, X_test, plot_type='dot')"
   ]
  },
  {
   "cell_type": "markdown",
   "metadata": {},
   "source": [
    "**Task:** Import the `shap` package and construct and use the `TreeExplainer` method to create a `summary_plot` (use the dot representation) for the XGBoost Classifier you just trained.\n",
    "\n",
    "*Note: you will want to use shap_vales instead of shap_values[1] as the first parameter.*"
   ]
  },
  {
   "cell_type": "markdown",
   "metadata": {},
   "source": [
    "**Task:** Reflect on the meaning of the plot.  What does each dot represent?  What do the color of the dots represent?  What is the impact on the model output?"
   ]
  },
  {
   "cell_type": "markdown",
   "metadata": {},
   "source": [
    "**Question 5 (1 pt):** What is the most important feature of the XGBoost Classifier, and what impact does it have on the model output when its' values are high?\n",
    "\n",
    "> a) `grade1`, positive \\\n",
    "> b) `grade1`, negative \\\n",
    "> c) `failures`, positive \\\n",
    "> d) `failures`, negative"
   ]
  },
  {
   "cell_type": "code",
   "execution_count": 90,
   "metadata": {},
   "outputs": [],
   "source": [
    "# b)"
   ]
  },
  {
   "cell_type": "markdown",
   "metadata": {},
   "source": [
    "**Task:** Audit the XGBoost model for bias."
   ]
  }
 ],
 "metadata": {
  "kernelspec": {
   "display_name": "Python [conda env:.conda-mlcourse]",
   "language": "python",
   "name": "conda-env-.conda-mlcourse-py"
  },
  "language_info": {
   "codemirror_mode": {
    "name": "ipython",
    "version": 3
   },
   "file_extension": ".py",
   "mimetype": "text/x-python",
   "name": "python",
   "nbconvert_exporter": "python",
   "pygments_lexer": "ipython3",
   "version": "3.8.8"
  }
 },
 "nbformat": 4,
 "nbformat_minor": 4
}

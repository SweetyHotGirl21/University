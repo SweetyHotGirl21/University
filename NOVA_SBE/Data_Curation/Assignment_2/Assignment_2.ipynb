{
 "cells": [
  {
   "cell_type": "markdown",
   "metadata": {},
   "source": [
    "## Assignment 2 Numpy and pandas\n",
    "\n",
    "This assignment will contain 3 questions with details as below. The due date is October 9 (Friday), 2020 23:59PM. Each late day will result in 20% loss of total points."
   ]
  },
  {
   "cell_type": "markdown",
   "metadata": {},
   "source": [
    "### Question 1 (30 points) Just another ordinary yet least square\n",
    "\n",
    "Every college student with a business degree may know linear regression pretty well. Essentially, linear regression models the linear regression between a scalar variable (dependent variable) and a list of independent variables, expressed in matrix notation as:\n",
    "\n",
    "\\begin{equation}\n",
    "\\mathbf{y} = X\\boldsymbol\\theta + \\boldsymbol\\varepsilon\n",
    "\\end{equation}\n"
   ]
  },
  {
   "cell_type": "markdown",
   "metadata": {},
   "source": [
    "Ordinary least squares (OLS) allows to find the value of $\\theta$ as a *closed-form solution* —in other words, a mathematical equation that gives the result directly. This is called\n",
    "the *Normal Equation*:\n",
    "\n",
    "\\begin{equation}\n",
    "\\hat{\\theta} = (X^T\\cdot X)^{-1}\\cdot X^T\\cdot y\n",
    "\\end{equation}"
   ]
  },
  {
   "cell_type": "markdown",
   "metadata": {},
   "source": [
    "**Question 1.1** (5 points): Load the data from ```independent_variable.npy``` and ```dependent_variable.npy```, and list the dimensions of the independent variables and the dependent variable, respectively."
   ]
  },
  {
   "cell_type": "code",
   "execution_count": null,
   "metadata": {},
   "outputs": [],
   "source": [
    "import numpy as np\n",
    "import pandas as pd\n",
    "in_var = np.array(np.load(\"independent_variable.npy\"))\n",
    "de_var = np.array(np.load(\"dependent_variable.npy\"))\n",
    "print(in_var.shape, \"Shape of independet variable. So 4 Varaibeles with 10000 obeservations each.\")\n",
    "print(de_var.shape, \"Shape of dependent variable. So 1 Varaibeles with 10000 obeservations each.\")\n",
    "#Dimensions\n",
    "print(in_var.ndim, \"Dimensions of independet variable\", de_var.ndim, \"dimensions of dependet variable.\")\n",
    "print()"
   ]
  },
  {
   "cell_type": "markdown",
   "metadata": {},
   "source": [
    "**Question 1.2** (15 points) Now implement the normal equation of Ordinary Least Squres using numpy to estimate the $\\theta$. Show the estimated value of $\\theta$, denoted as $\\hat{\\boldsymbol\\theta}$. Also perform the Least Squares using ```numpy.polyfit``` function (with polynomial degree of 1), check whether estimated $\\theta$ from your own implementation is equal to the estimated value of polynomial regression."
   ]
  },
  {
   "cell_type": "code",
   "execution_count": null,
   "metadata": {},
   "outputs": [],
   "source": [
    "in_var_trans = np.transpose(in_var)\n",
    "de_var = np.array(de_var[:,0])\n",
    "Invers = np.linalg.inv(np.matmul(in_var_trans,in_var))\n",
    "Tetha_hat_1 = np.matmul(np.matmul(Invers,in_var_trans),de_var)\n",
    "print(Tetha_hat_1)"
   ]
  },
  {
   "cell_type": "code",
   "execution_count": null,
   "metadata": {},
   "outputs": [],
   "source": [
    "#help(np.polyfit)\n",
    "de_var = np.array(np.load(\"dependent_variable.npy\"))\n",
    "in_var = np.array(np.load(\"independent_variable.npy\"))\n",
    "de_var = np.array(de_var[:,0])\n",
    "Tetha_hat_2 = np.linalg.lstsq(b= de_var ,a = in_var, rcond = None)[0]\n",
    "Tetha_hat_1_r = np.round(Tetha_hat_1, 8)\n",
    "Tetha_hat_2_r = np.round(Tetha_hat_2, 8)\n",
    "print(\"Tetha hat estimated by np.linalg.lstsq = \", Tetha_hat_2_r) \n",
    "print(\"Tetha hat calculated = \", Tetha_hat_1_r)\n",
    "print(Tetha_hat_1_r == Tetha_hat_2_r)\n",
    "print(\"The estimatated values are the same!\")"
   ]
  },
  {
   "cell_type": "markdown",
   "metadata": {},
   "source": [
    "**Question 1.3** (10 points) Now use the estimated $\\hat{\\boldsymbol\\theta}$ to *predict* the value of $y$ using the equation:\n",
    "\n",
    "\\begin{equation}\n",
    "\\mathbf{\\hat{y}} = X\\hat{\\boldsymbol\\theta}\n",
    "\\end{equation}\n",
    "\n",
    "Calculate the prediction errors the linear regression model has made between the $\\hat{y}$ and $y$ as:\n",
    "\n",
    "\\begin{equation}\n",
    "\\mathbf{E} = \\sum_{j=0}^n |\\hat{y}_j - y_j|^2\n",
    "\\end{equation}\n"
   ]
  },
  {
   "cell_type": "code",
   "execution_count": null,
   "metadata": {},
   "outputs": [],
   "source": [
    "y_hat = np.matmul(in_var,Tetha_hat_2)\n",
    "#Calculat prediction errors squared\n",
    "e_i = (np.absolute(y_hat-de_var))**2\n",
    "#print(e_i, \"these are the predicted squared errors.\")\n",
    "#Sum of prediction errors\n",
    "E = sum(e_i)\n",
    "print(E, \"This is the sum of squared errors.\")"
   ]
  },
  {
   "cell_type": "markdown",
   "metadata": {},
   "source": [
    "### Question 2 (30 points)  Is it Instagrammable?\n",
    "\n",
    "Consider any photo you take at Carcavelos beach:\n",
    "\n",
    "![carcavelos](https://www.cm-oeiras.pt/pt/descobrir/patrimonio/PublishingImages/Paginas/fortesaojuliaobarra/CM145328.JPG)\n",
    "\n",
    "<br>\n",
    "\n",
    "An image is composed of three matrixes, each one for an RGB (red, green and blue) channel. Each matrix has values between 0 and 255.\n",
    "\n",
    "\n",
    "![image](https://static.packt-cdn.com/products/9781789613964/graphics/e91171a3-f7ea-411e-a3e1-6d3892b8e1e5.png)\n",
    "\n",
    "In this exercise, you will apply a filter to the image in a process called convolution. This process uses the filter as a matrix that is multiplied as a sliding window to an image. On the following animation, the filter is represented as yellow, the image channel as green, and the convolution result as red.\n",
    "\n",
    "![convolution](https://icecreamlabs.com/wp-content/uploads/2018/08/33-con.gif)\n",
    "\n",
    "\n",
    "Note that the resulting matrix has a smaller shape than the original. To ensure the same shape consider a padding with value 0 that enables the filter to slide through every pixel value as shown in the following image:\n",
    "\n",
    "<br>\n",
    "\n",
    "![padding](https://media5.datahacker.rs/2018/11/sl_1.png)\n",
    "\n",
    "<br><br>\n",
    "\n",
    "This question requires the `numpy` and `Pillow` libraries that may already be installed on your enviroment. However, if you have a problem importing these libraries, install it via pip. Example for Pillow: `pip install Pillow` \n",
    "\n",
    "<br>\n",
    "\n",
    "Consider the following code to convert an image into a numpy array:\n",
    "\n",
    "```python\n",
    "from PIL import Image\n",
    "from numpy import asarray\n",
    "\n",
    "# load the image\n",
    "image = Image.open('carcavelos.jpg')\n",
    "\n",
    "# convert image to numpy array\n",
    "data = asarray(image)\n",
    "```\n",
    "\n",
    "\n",
    "\n",
    "You can save a numpy array as an image with the following code:\n",
    "\n",
    "```python\n",
    "\"\"\"\n",
    "color image\n",
    "\"\"\"\n",
    "\n",
    "# convert numpy array to image\n",
    "img = Image.fromarray(data, 'RGB')\n",
    "\n",
    "# save image and .png\n",
    "img.save('image.png')\n",
    "\n",
    "\"\"\"\n",
    "grayscale image\n",
    "\"\"\"\n",
    "\n",
    "# convert numpy array to image\n",
    "data = data.astype(np.uint8)\n",
    "img = Image.fromarray(data)\n",
    "\n",
    "# save grayscale image as .png\n",
    "img.save('image.png')\n",
    "```"
   ]
  },
  {
   "cell_type": "markdown",
   "metadata": {},
   "source": [
    "Answer the following questions:"
   ]
  },
  {
   "cell_type": "markdown",
   "metadata": {},
   "source": [
    "**Question 2.1** (5 points) What is the shape of the image? Answer with the shape and indicate what each dimension represents."
   ]
  },
  {
   "cell_type": "code",
   "execution_count": null,
   "metadata": {},
   "outputs": [],
   "source": [
    "from PIL import Image\n",
    "from numpy import asarray\n",
    "# load the image\n",
    "image = Image.open('Data_Ass_2\\carcavelos.jpg')\n",
    "# convert image to numpy array\n",
    "data = asarray(image)\n",
    "print(data.shape)\n",
    "print(data.shape[0],\"is the hight in pixcel of the picture.\\n\",\n",
    "     data.shape[1],\"is the wdith of the picture.\\n\",\n",
    "     data.shape[2],\"In this array are the three values of the color (RGB) strorred for each pixcel.\")\n",
    "#print(data[[0]][0])\n",
    "#print(data[[0]][0].shape)\n"
   ]
  },
  {
   "cell_type": "markdown",
   "metadata": {},
   "source": [
    "**Question 2.2** (10 points) Save the \"carcavelos.jpg\" image as a grayscale image into \"carcavelos-grayscale.png\". The image should result from a numpy array with only one channel instead of 3, consider the following weights for each channel: 0.30*R + 0.59*G + 0.11*B"
   ]
  },
  {
   "cell_type": "code",
   "execution_count": null,
   "metadata": {},
   "outputs": [],
   "source": [
    "color = [0.3,0.59,0.11]\n",
    "\n",
    "data_gray = data*color\n",
    "#print(data_gray)\n",
    "data_gray_com = np.sum(data_gray,axis = 2)\n",
    "#print(data_gray_com)\n",
    "\n",
    "# convert numpy array to image\n",
    "data_gray = data_gray_com.astype(np.uint8)\n",
    "img = Image.fromarray(data_gray)\n",
    "\n",
    "# save grayscale image as .png\n",
    "img.save('Data_Ass_2\\carcavelos_grayscale.png')"
   ]
  },
  {
   "cell_type": "markdown",
   "metadata": {},
   "source": [
    "**Question 2.3** (15 points) Apply convolution operations as described above to \"carcavelos.jpg\". \n",
    "1. Save an image into \"carcavelos-sharpen.png\" with the applied filter: `np.array([[0,-1,0],[-1,5,-1],[0,-1,0]])`\n",
    "2. Save an image into \"carcavelos-blur.png\" with the applied filter: `np.array([[1,1,1],[1,1,1],[1,1,1]])/9`"
   ]
  },
  {
   "cell_type": "code",
   "execution_count": null,
   "metadata": {},
   "outputs": [],
   "source": [
    "#sharping filter\n",
    "arr_sharp  = np.array([[0,-1,0],[-1,5,-1],[0,-1,0]])\n",
    "#blurring filter\n",
    "arr_blur = np.array([[1,1,1],[1,1,1],[1,1,1]])/9\n",
    "\n",
    "#load the image\n",
    "image = Image.open('Data_Ass_2\\carcavelos.jpg')\n",
    "image = asarray(image)"
   ]
  },
  {
   "cell_type": "code",
   "execution_count": null,
   "metadata": {},
   "outputs": [],
   "source": [
    "def conv(image, filt):\n",
    "    R, G, B    = image[:, :, 0], image[:, :, 1], image[:, :, 2]\n",
    "    im = np.zeros((image.shape[0], image.shape[1], image.shape[2]))\n",
    "    # convolution output\n",
    "    R_out = np.zeros_like(R)\n",
    "    G_out = np.zeros_like(G)\n",
    "    B_out = np.zeros_like(B)\n",
    "    # Add padding to red\n",
    "    R_padded = np.zeros((R.shape[0] + 2, R.shape[1] + 2))\n",
    "    R_padded[1:-1, 1:-1] = R\n",
    "    # Add padding to green\n",
    "    G_padded = np.zeros((G.shape[0] + 2, G.shape[1] + 2))\n",
    "    G_padded[1:-1, 1:-1] = G\n",
    "    # Add padding to Blue\n",
    "    B_padded = np.zeros((B.shape[0] + 2, B.shape[1] + 2))\n",
    "    B_padded[1:-1, 1:-1] = B\n",
    "    for i in range(R.shape[1]):\n",
    "        for j in range(R.shape[0]):\n",
    "            R_out[j, i]=(filt * R_padded[j: j+3, i: i+3]).sum()\n",
    "    for i in range(G.shape[1]):\n",
    "        for j in range(G.shape[0]):\n",
    "            G_out[j, i]=(filt * G_padded[j: j+3, i: i+3]).sum()\n",
    "    for i in range(B.shape[1]):\n",
    "        for j in range(B.shape[0]):\n",
    "            B_out[j, i]=(filt * B_padded[j: j+3, i: i+3]).sum()\n",
    "    im[:, :, 0], im[:, :, 1], im[:, :, 2] = R_out, G_out, B_out\n",
    "    print(\"The array for the image is created.\")\n",
    "    return im"
   ]
  },
  {
   "cell_type": "code",
   "execution_count": null,
   "metadata": {},
   "outputs": [],
   "source": [
    "image_sharpen = conv(image, arr_sharp)\n",
    "image_sharpen = image_sharpen.astype(np.uint8)\n",
    "img = Image.fromarray(image_sharpen)\n",
    "img.save('Data_Ass_2\\carcavelos-sharpen.png')"
   ]
  },
  {
   "cell_type": "code",
   "execution_count": null,
   "metadata": {},
   "outputs": [],
   "source": [
    "image_blur = conv(image, arr_blur)\n",
    "image_blur = image_blur.astype(np.uint8)\n",
    "img = Image.fromarray(image_blur)\n",
    "img.save('Data_Ass_2\\carcavelos-blur.png')"
   ]
  },
  {
   "cell_type": "markdown",
   "metadata": {},
   "source": [
    "### Question 3 My Heart Will Go On (40 points) \n",
    "\n",
    "![](https://camo.githubusercontent.com/78ca11f9a2e6c36bbee928124a7d3f9abc3abb2b/68747470733a2f2f696d672d73332e6f6e6564696f2e636f6d2f69642d3537616336353563393365613835613733323935343639652f7265762d302f7261772f732d613730613530323939633033303464336535383266356230373338613366653730396533613564662e6a7067)\n",
    "\n",
    "The RMS Titanic was a British passenger liner that sank in the North Atlantic Ocean in the early morning hours of 15 April 1912, after it collided with an iceberg during its maiden voyage from Southampton to New York City. There were an estimated 2,224 passengers and crew aboard the ship, and more than 1,500 died, making it one of the deadliest commercial peacetime maritime disasters in modern history. The RMS Titanic was the largest ship afloat at the time it entered service and was the second of three Olympic-class ocean liners operated by the White Star Line. The Titanic was built by the Harland and Wolff shipyard in Belfast. Thomas Andrews, her architect, died in the disaster.  Incorporating both historical and fictionalized aspects, the film Titanic is a 1997 American epic romance and disaster film based on accounts of the sinking of the RMS Titanic directed, written, co-produced, and co-edited by James Cameron, and stars Leonardo DiCaprio and Kate Winslet as members of different social classes who fall in love aboard the ship during its ill-fated maiden voyage.\n",
    "\n",
    "**Titanic dataset (titanic.csv)**\n",
    "The titanic.xlsx contains list of detailed passenger information aboard with the description in the data dictionary as below.\n",
    "\n",
    "Data Dictionary \n",
    "\n",
    "| Variable        | Definition           | Key  |\n",
    "| ------------- |:-------------:| -----:|\n",
    "| survived      | Survival | 0 = No, 1 = Yes |\n",
    "| pclass      | Ticket class      |   1 = 1st, 2 = 2nd, 3 = 3rd |\n",
    "| sex         | Gender   |      |\n",
    "| age | Age in years      |     |\n",
    "| sibsp | # of siblings / spouses aboard the Titanic      |   Sibling = brother, sister Spouse = husband, wife |\n",
    "| parch | # of parents / children aboard the Titanic      |     |\n",
    "| fare | Passenger fare      |     |\n",
    "| cabin | Cabin number      |     |\n",
    "| embarked | Port of Embarkation     |   C = Cherbourg, Q = Queenstown, S = Southampton  |\n",
    "| class | Class of tickets      |  First, Second, Third class   |\n",
    "| who   | Identity              |  man, woman, child            |\n",
    "| adult_male |  Is male adult or not | Ture, False              |\n",
    "| embark_town | The town of embarkation  | Cherbourg, Queenstown, Southampton |\n",
    "| alive       | same as the survived  | no, yes |\n",
    "| alone       | Is alone or not       | True, False |\n",
    "\n",
    "\n",
    "Answer the following questions using the provided dataset. You can write down intermediate results obtained while working towards the final answers."
   ]
  },
  {
   "cell_type": "markdown",
   "metadata": {
    "collapsed": true
   },
   "source": [
    "**Question 3.1** (10 points)\n",
    "\n",
    "Read the `titanic.csv` and show how many passengers records are in the data.\n",
    "\n",
    "Due to the errors in the history archives, there are several problems you need to address first in order to obtain the correct data:\n",
    "\n",
    "1. In the column of *`sibsp`*, the value of 1 is mistakenly recorded as -1\n",
    "2. In the column of *`survived`*, the value of 0 is mistakenly recorded as NaN"
   ]
  },
  {
   "cell_type": "code",
   "execution_count": null,
   "metadata": {},
   "outputs": [],
   "source": [
    "titanic = pd.read_csv(\"Data_Ass_2/titanic.csv\", sep =\",\", skiprows=15, index_col = 0)\n",
    "titanic[\"sibsp\"].replace(to_replace = -1,value = 1,inplace = True)\n",
    "titanic[\"survived\"] = titanic[\"survived\"].fillna(0)\n",
    "print(titanic.shape[0], \"passangers are recorded in the data\")\n",
    "titanic"
   ]
  },
  {
   "cell_type": "markdown",
   "metadata": {},
   "source": [
    "**Question 3.2** (5 points) Show how many male and female passengers there are, as a percentage of the total number of passangers:"
   ]
  },
  {
   "cell_type": "code",
   "execution_count": null,
   "metadata": {},
   "outputs": [],
   "source": [
    "titanic_sex_t = titanic['sex'].value_counts()\n",
    "print(\"There are \", titanic_sex_t[0], \"males and \", titanic_sex_t[1], \"female passengers in total numbers.\")\n",
    "titanic_sex_n = titanic['sex'].value_counts(normalize=True)\n",
    "print(\"There are \", round(titanic_sex_n[0]*100,4), \"% males and \", round(titanic_sex_n[1]*100,4), \"% female passengers as a proportion of total passengers\")"
   ]
  },
  {
   "cell_type": "markdown",
   "metadata": {},
   "source": [
    "**Question 3.3** (5 points) \n",
    "Show the average number of siblings/spouses for passengers embarked from Southampton"
   ]
  },
  {
   "cell_type": "code",
   "execution_count": null,
   "metadata": {},
   "outputs": [],
   "source": [
    "print(titanic.groupby(\"embark_town\").sibsp.mean())\n",
    "print(\"\\nThe passenger embarked in Southamption have 0.571429 siblings/spouses in average.\")"
   ]
  },
  {
   "cell_type": "markdown",
   "metadata": {},
   "source": [
    "**Question 3.4** (5 points) Show the median age of passengers that are adult male:"
   ]
  },
  {
   "cell_type": "code",
   "execution_count": null,
   "metadata": {},
   "outputs": [],
   "source": [
    "titanic34 = titanic[[\"adult_male\",\"age\"]]\n",
    "print(titanic34.groupby(\"adult_male\").age.median())\n",
    "# Only using the information given in the column \"adult_male\", no self calcualtions\n",
    "print(\"The median age of passengers that are adult males is\",titanic34.groupby(\"adult_male\").age.median()[1]) "
   ]
  },
  {
   "cell_type": "markdown",
   "metadata": {},
   "source": [
    "**Question 3.5** (5 points) Show the mean difference of fares between First Class passengers and Third Class passengers: "
   ]
  },
  {
   "cell_type": "code",
   "execution_count": null,
   "metadata": {},
   "outputs": [],
   "source": [
    "titanic35 = titanic[[\"pclass\",\"fare\"]]\n",
    "print(titanic35.groupby(\"pclass\").fare.mean())\n",
    "meandiff = (titanic35.groupby(\"pclass\").fare.mean()[1])-(titanic35.groupby(\"pclass\").fare.mean()[3])\n",
    "print(\"The mean difference of fares between First Class and Third Class passengers is\", meandiff)"
   ]
  },
  {
   "cell_type": "markdown",
   "metadata": {},
   "source": [
    "**Question 3.6** (5 points) Show the survival status of passengers with the top 10 highest fares:"
   ]
  },
  {
   "cell_type": "code",
   "execution_count": null,
   "metadata": {},
   "outputs": [],
   "source": [
    "titanic36 = titanic[[\"fare\",\"alive\"]]\n",
    "titanic36 = titanic36.sort_values(\"fare\", ascending = False)\n",
    "print(titanic36.head(10))\n"
   ]
  },
  {
   "cell_type": "markdown",
   "metadata": {},
   "source": [
    "**Question 3.7** (5 points)\n",
    "Show the survival rate of men, women and children, respectively:"
   ]
  },
  {
   "cell_type": "code",
   "execution_count": null,
   "metadata": {},
   "outputs": [],
   "source": [
    "titanic37 = titanic[[\"who\",\"survived\"]]\n",
    "titanic37_group = titanic37.groupby(\"who\").survived.mean()\n",
    "print(round(titanic37_group[0]*100,4),\"% survival rate of children.\\n\",\n",
    "     round(titanic37_group[1]*100,4),\"% survival rate of men.\\n\",\n",
    "     round(titanic37_group[2]*100,4),\"% survival rate of women.\\n\")"
   ]
  }
 ],
 "metadata": {
  "kernelspec": {
   "display_name": "Python 3",
   "language": "python",
   "name": "python3"
  },
  "language_info": {
   "codemirror_mode": {
    "name": "ipython",
    "version": 3
   },
   "file_extension": ".py",
   "mimetype": "text/x-python",
   "name": "python",
   "nbconvert_exporter": "python",
   "pygments_lexer": "ipython3",
   "version": "3.8.3"
  }
 },
 "nbformat": 4,
 "nbformat_minor": 2
}

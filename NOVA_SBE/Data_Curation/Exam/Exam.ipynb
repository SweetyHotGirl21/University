{
 "cells": [
  {
   "cell_type": "markdown",
   "metadata": {},
   "source": [
    "# 2489-2021 Data Curation T1 Final Exam \n",
    "\n",
    "The final exam will contain 1 question with subquestions. \n",
    "\n",
    "## Lemon or Peach? (60 points)\n",
    "\n",
    "For those who have taken ECON 101, you should already be quite familar with the term **lemon car** that refers to a car found to be defective only after it has been bought. In 1970, economist George Akerlof published a paper \"The Market for Lemons: Quality Uncertainty and the Market Mechanism\" that explored how the quality of goods traded in a market can degrade in the presence of *information asymmetry* between buyers and sellers. This leads to the **adverse selection** problem that  sellers will sell only when they hold \"lemons\" and they will leave the market when they hold \"peaches\". As such, Adverse selection is a market mechanism that can lead to a market collapse. In 2001, Akerlof, along with Michael Spence, and Joseph Stiglitz, jointly received the Nobel Memorial Prize in Economic Sciences, for their research on issues related to asymmetric information.\n",
    "\n",
    "![lemoncar](https://blog.drivetime.com/wp-content/uploads/2014/06/lemon-car.png)\n",
    "\n",
    "Online information system creates platform for buyers and sellers to trade their goods with information about the goods. However, lemon problem becomes even worse as buyers have no way to verify and examine the goods (such as used cars) and have to rely on information posted by the sellers. \n",
    "\n",
    "In order to address this problem, large-scale historical purchase data would allow online retailers to alleviate the issue. For example, OLX group is a global online marketplace operating in 45 countries. The OLX marketplace is a platform for buying and selling services and goods such as electronics, fashion items, furniture, household goods, Properties, cars and bikes. Their business model is to charge sellers listing fees when they post the advertisement. Their business objective is to facilitate transactions on the platform such that buyers would be willing to repeately purchase quality goods with reasonable price and sellers would be willing to list more goods for profits. \n",
    "\n",
    "As the analyst, you are given the task **to examine the information about listings of used cars on OLX Portugal that a car is considered to be sold or not if the days of listing is within the 30 days.** Otherwise, the seller has to pay extra to relist the advertisement until it is sold or withdrawn. \n",
    "\n",
    "\n",
    "\n",
    "**OLX Car Dataset (olx_car_dataset.csv)**\n",
    "All car listings are contained in the file olx_car_dataset.csv. Each line of this file after the header row represents one listing of car on the OLX platform, and has the following format:\n",
    "**`'ID', 'region_id', 'private_business', 'price', 'make', 'model', 'fuel_type', 'mileage', 'reg_year', 'eng_capacity', 'color', 'capacity', 'dayslive'`**\n",
    "\n",
    "The columns are quite self-explained. `dayslive` is the days of the listing on the OLX until the card is sold or withdrawn. \n",
    "\n",
    "\n",
    "Answer the following questions using the provided dataset. You can write down intermediate results towards the final answers."
   ]
  },
  {
   "cell_type": "code",
   "execution_count": 1,
   "metadata": {},
   "outputs": [],
   "source": [
    "import pandas as pd\n",
    "import numpy as np\n",
    "import math"
   ]
  },
  {
   "cell_type": "markdown",
   "metadata": {},
   "source": [
    "### Question 1 (15 points) \n",
    "\n",
    "The dataset can store up to 10,000 car listings and therefore in total contains 3 parts. \n",
    "\n",
    "Meanwhile, each part of the data contains a few errors that need to be resolved:\n",
    "\n",
    "- the ```price``` column of part1 is mistakenly encoded as ```prices``` \n",
    "- the ```region_id``` column of part 1 is all in the wrong sign, e.g. the region_id of 11 is wrongly encoded as -11\n",
    "- the ```private_business``` column of part2 is mistakenly encoded as ```private```\n",
    "- the ```mileage``` column of part2 is miscalculated by taking a logarithm of its original value\n",
    "- the ```capacity``` column of part3 is wrongly set as missing value when the capacity is 5\n",
    "- the ```model``` column of part3 is wrongly encoded with also the ```make``` columns, e.g. BMW 320 should have BMW in the column ```make``` and 320 in the column ```model```.\n",
    "\n",
    "Read the datasets and concatenate them all into one dataset and show how many car listings are in the entire dataset?"
   ]
  },
  {
   "cell_type": "code",
   "execution_count": 13,
   "metadata": {},
   "outputs": [
    {
     "data": {
      "text/html": [
       "<div>\n",
       "<style scoped>\n",
       "    .dataframe tbody tr th:only-of-type {\n",
       "        vertical-align: middle;\n",
       "    }\n",
       "\n",
       "    .dataframe tbody tr th {\n",
       "        vertical-align: top;\n",
       "    }\n",
       "\n",
       "    .dataframe thead th {\n",
       "        text-align: right;\n",
       "    }\n",
       "</style>\n",
       "<table border=\"1\" class=\"dataframe\">\n",
       "  <thead>\n",
       "    <tr style=\"text-align: right;\">\n",
       "      <th></th>\n",
       "      <th>Unnamed: 0.1</th>\n",
       "      <th>ID</th>\n",
       "      <th>region_id</th>\n",
       "      <th>private_business</th>\n",
       "      <th>price</th>\n",
       "      <th>make</th>\n",
       "      <th>model</th>\n",
       "      <th>fuel_type</th>\n",
       "      <th>mileage</th>\n",
       "      <th>reg_year</th>\n",
       "      <th>eng_capacity</th>\n",
       "      <th>color</th>\n",
       "      <th>capacity</th>\n",
       "      <th>dayslive</th>\n",
       "    </tr>\n",
       "  </thead>\n",
       "  <tbody>\n",
       "    <tr>\n",
       "      <th>0</th>\n",
       "      <td>0</td>\n",
       "      <td>6321a87b1e923f46d9acdf3322fcee72a6879188</td>\n",
       "      <td>11</td>\n",
       "      <td>business</td>\n",
       "      <td>29250.0</td>\n",
       "      <td>mini</td>\n",
       "      <td>cooper</td>\n",
       "      <td>diesel</td>\n",
       "      <td>14500.0</td>\n",
       "      <td>2017</td>\n",
       "      <td>1496</td>\n",
       "      <td>blue</td>\n",
       "      <td>5.0</td>\n",
       "      <td>15</td>\n",
       "    </tr>\n",
       "    <tr>\n",
       "      <th>1</th>\n",
       "      <td>1</td>\n",
       "      <td>0a3d81767bf143b60729f7ee1c764db91f05f557</td>\n",
       "      <td>13</td>\n",
       "      <td>business</td>\n",
       "      <td>3999.0</td>\n",
       "      <td>land-rover</td>\n",
       "      <td>freelander</td>\n",
       "      <td>diesel</td>\n",
       "      <td>150000.0</td>\n",
       "      <td>2000</td>\n",
       "      <td>2000</td>\n",
       "      <td>green</td>\n",
       "      <td>5.0</td>\n",
       "      <td>98</td>\n",
       "    </tr>\n",
       "    <tr>\n",
       "      <th>2</th>\n",
       "      <td>2</td>\n",
       "      <td>2671be1fef116b2d5b1d6ecebb734ce349232ca2</td>\n",
       "      <td>11</td>\n",
       "      <td>business</td>\n",
       "      <td>30600.0</td>\n",
       "      <td>mercedes-benz</td>\n",
       "      <td>c-250</td>\n",
       "      <td>diesel</td>\n",
       "      <td>118827.0</td>\n",
       "      <td>2013</td>\n",
       "      <td>2143</td>\n",
       "      <td>white</td>\n",
       "      <td>5.0</td>\n",
       "      <td>110</td>\n",
       "    </tr>\n",
       "    <tr>\n",
       "      <th>3</th>\n",
       "      <td>3</td>\n",
       "      <td>628ac15170274c64fa4aa70b3a917cbc1b2c4d89</td>\n",
       "      <td>11</td>\n",
       "      <td>business</td>\n",
       "      <td>25500.0</td>\n",
       "      <td>volvo</td>\n",
       "      <td>xc-60</td>\n",
       "      <td>diesel</td>\n",
       "      <td>102519.0</td>\n",
       "      <td>2013</td>\n",
       "      <td>1984</td>\n",
       "      <td>other</td>\n",
       "      <td>5.0</td>\n",
       "      <td>17</td>\n",
       "    </tr>\n",
       "    <tr>\n",
       "      <th>4</th>\n",
       "      <td>4</td>\n",
       "      <td>5a73a4a249f4044b9b42eae533cb6a72b4a0c35a</td>\n",
       "      <td>11</td>\n",
       "      <td>business</td>\n",
       "      <td>7000.0</td>\n",
       "      <td>opel</td>\n",
       "      <td>vectra</td>\n",
       "      <td>diesel</td>\n",
       "      <td>120000.0</td>\n",
       "      <td>2004</td>\n",
       "      <td>2172</td>\n",
       "      <td>blue</td>\n",
       "      <td>5.0</td>\n",
       "      <td>33</td>\n",
       "    </tr>\n",
       "    <tr>\n",
       "      <th>...</th>\n",
       "      <td>...</td>\n",
       "      <td>...</td>\n",
       "      <td>...</td>\n",
       "      <td>...</td>\n",
       "      <td>...</td>\n",
       "      <td>...</td>\n",
       "      <td>...</td>\n",
       "      <td>...</td>\n",
       "      <td>...</td>\n",
       "      <td>...</td>\n",
       "      <td>...</td>\n",
       "      <td>...</td>\n",
       "      <td>...</td>\n",
       "      <td>...</td>\n",
       "    </tr>\n",
       "    <tr>\n",
       "      <th>26365</th>\n",
       "      <td>26365</td>\n",
       "      <td>7c367aa8556d15f9e9973f8dd13541e1c26f63bc</td>\n",
       "      <td>3</td>\n",
       "      <td>business</td>\n",
       "      <td>18250.0</td>\n",
       "      <td>renault</td>\n",
       "      <td>captur</td>\n",
       "      <td>diesel</td>\n",
       "      <td>8800.0</td>\n",
       "      <td>2018</td>\n",
       "      <td>1461</td>\n",
       "      <td>brown</td>\n",
       "      <td>5.0</td>\n",
       "      <td>24</td>\n",
       "    </tr>\n",
       "    <tr>\n",
       "      <th>26366</th>\n",
       "      <td>26366</td>\n",
       "      <td>6a90f7f5a642d8eb8f75ac8f41af1e2cafc304e6</td>\n",
       "      <td>11</td>\n",
       "      <td>business</td>\n",
       "      <td>21500.0</td>\n",
       "      <td>bmw</td>\n",
       "      <td>320</td>\n",
       "      <td>diesel</td>\n",
       "      <td>73736.0</td>\n",
       "      <td>2014</td>\n",
       "      <td>1995</td>\n",
       "      <td>other</td>\n",
       "      <td>5.0</td>\n",
       "      <td>7</td>\n",
       "    </tr>\n",
       "    <tr>\n",
       "      <th>26367</th>\n",
       "      <td>26367</td>\n",
       "      <td>7de1412ec35c4d11e6ac8ca070979dab293beb26</td>\n",
       "      <td>15</td>\n",
       "      <td>business</td>\n",
       "      <td>31890.0</td>\n",
       "      <td>peugeot</td>\n",
       "      <td>3008</td>\n",
       "      <td>diesel</td>\n",
       "      <td>15000.0</td>\n",
       "      <td>2018</td>\n",
       "      <td>1560</td>\n",
       "      <td>white</td>\n",
       "      <td>5.0</td>\n",
       "      <td>10</td>\n",
       "    </tr>\n",
       "    <tr>\n",
       "      <th>26368</th>\n",
       "      <td>26368</td>\n",
       "      <td>f03ab44cc1f9ef695041c253e133096fae28d9d6</td>\n",
       "      <td>15</td>\n",
       "      <td>business</td>\n",
       "      <td>18850.0</td>\n",
       "      <td>fiat</td>\n",
       "      <td>tipo</td>\n",
       "      <td>diesel</td>\n",
       "      <td>51100.0</td>\n",
       "      <td>2017</td>\n",
       "      <td>1600</td>\n",
       "      <td>blue</td>\n",
       "      <td>5.0</td>\n",
       "      <td>20</td>\n",
       "    </tr>\n",
       "    <tr>\n",
       "      <th>26369</th>\n",
       "      <td>26369</td>\n",
       "      <td>4abdc6f15830ab771161712270ed2c0528365451</td>\n",
       "      <td>11</td>\n",
       "      <td>business</td>\n",
       "      <td>3750.0</td>\n",
       "      <td>lancia</td>\n",
       "      <td>phedra</td>\n",
       "      <td>diesel</td>\n",
       "      <td>200000.0</td>\n",
       "      <td>2004</td>\n",
       "      <td>2200</td>\n",
       "      <td>golden</td>\n",
       "      <td>7.0</td>\n",
       "      <td>7</td>\n",
       "    </tr>\n",
       "  </tbody>\n",
       "</table>\n",
       "<p>26370 rows × 14 columns</p>\n",
       "</div>"
      ],
      "text/plain": [
       "       Unnamed: 0.1                                        ID  region_id  \\\n",
       "0                 0  6321a87b1e923f46d9acdf3322fcee72a6879188         11   \n",
       "1                 1  0a3d81767bf143b60729f7ee1c764db91f05f557         13   \n",
       "2                 2  2671be1fef116b2d5b1d6ecebb734ce349232ca2         11   \n",
       "3                 3  628ac15170274c64fa4aa70b3a917cbc1b2c4d89         11   \n",
       "4                 4  5a73a4a249f4044b9b42eae533cb6a72b4a0c35a         11   \n",
       "...             ...                                       ...        ...   \n",
       "26365         26365  7c367aa8556d15f9e9973f8dd13541e1c26f63bc          3   \n",
       "26366         26366  6a90f7f5a642d8eb8f75ac8f41af1e2cafc304e6         11   \n",
       "26367         26367  7de1412ec35c4d11e6ac8ca070979dab293beb26         15   \n",
       "26368         26368  f03ab44cc1f9ef695041c253e133096fae28d9d6         15   \n",
       "26369         26369  4abdc6f15830ab771161712270ed2c0528365451         11   \n",
       "\n",
       "      private_business    price           make       model fuel_type  \\\n",
       "0             business  29250.0           mini      cooper    diesel   \n",
       "1             business   3999.0     land-rover  freelander    diesel   \n",
       "2             business  30600.0  mercedes-benz       c-250    diesel   \n",
       "3             business  25500.0          volvo       xc-60    diesel   \n",
       "4             business   7000.0           opel      vectra    diesel   \n",
       "...                ...      ...            ...         ...       ...   \n",
       "26365         business  18250.0        renault      captur    diesel   \n",
       "26366         business  21500.0            bmw         320    diesel   \n",
       "26367         business  31890.0        peugeot        3008    diesel   \n",
       "26368         business  18850.0           fiat        tipo    diesel   \n",
       "26369         business   3750.0         lancia      phedra    diesel   \n",
       "\n",
       "        mileage  reg_year  eng_capacity   color  capacity  dayslive  \n",
       "0       14500.0      2017          1496    blue       5.0        15  \n",
       "1      150000.0      2000          2000   green       5.0        98  \n",
       "2      118827.0      2013          2143   white       5.0       110  \n",
       "3      102519.0      2013          1984   other       5.0        17  \n",
       "4      120000.0      2004          2172    blue       5.0        33  \n",
       "...         ...       ...           ...     ...       ...       ...  \n",
       "26365    8800.0      2018          1461   brown       5.0        24  \n",
       "26366   73736.0      2014          1995   other       5.0         7  \n",
       "26367   15000.0      2018          1560   white       5.0        10  \n",
       "26368   51100.0      2017          1600    blue       5.0        20  \n",
       "26369  200000.0      2004          2200  golden       7.0         7  \n",
       "\n",
       "[26370 rows x 14 columns]"
      ]
     },
     "execution_count": 13,
     "metadata": {},
     "output_type": "execute_result"
    }
   ],
   "source": [
    "car1 = pd.read_csv(\"cars_dataset_part1.csv\", index_col = 0, header = 0)\n",
    "car2 = pd.read_csv(\"cars_dataset_part2.csv\", index_col = 0, header = 0)\n",
    "car3 = pd.read_csv(\"cars_dataset_part3.csv\", index_col = 0, header = 0)\n",
    "\n",
    "car1[[\"region_id\"]] = (-1)*car1[[\"region_id\"]] #fix reigion\n",
    "car1.rename(columns = {\"prices\": \"price\"}, inplace = True) #fix prices\n",
    "\n",
    "car2.rename(columns = {\"private\": \"private_business\"}, inplace = True) #fix prices\n",
    "car2[\"mileage\"] = np.exp(car2[\"mileage\"])\n",
    "\n",
    "car3[\"capacity\"] = car3[\"capacity\"].fillna(5)\n",
    "\n",
    "car3[\"model\"] = car3.model.str.split(\"-\").str[1:len(car3.model.str.split(\"-\"))]\n",
    "car3_new = car3.copy()\n",
    "car3[\"model\"] = pd.DataFrame(car3.model.tolist(), index= car3.index)\n",
    "\n",
    "car = [car1,car2,car3]\n",
    "olx_car_dataset = pd.concat(car)\n",
    "olx_car_dataset"
   ]
  },
  {
   "cell_type": "markdown",
   "metadata": {},
   "source": [
    "### Question 2 (5 points) \n",
    "Show the average price of all diesel cars"
   ]
  },
  {
   "cell_type": "code",
   "execution_count": 15,
   "metadata": {},
   "outputs": [
    {
     "name": "stdout",
     "output_type": "stream",
     "text": [
      "17820.627270439607\n"
     ]
    }
   ],
   "source": [
    "a_price = olx_car_dataset[olx_car_dataset[\"fuel_type\"] == \"diesel\"][\"price\"].mean()\n",
    "print(a_price)"
   ]
  },
  {
   "cell_type": "markdown",
   "metadata": {},
   "source": [
    "### Question 3 (5 points)\n",
    "\n",
    "Show the median mileage of all eletric vehicles from region 13:"
   ]
  },
  {
   "cell_type": "code",
   "execution_count": 16,
   "metadata": {},
   "outputs": [
    {
     "data": {
      "text/plain": [
       "37499.99999999998"
      ]
     },
     "execution_count": 16,
     "metadata": {},
     "output_type": "execute_result"
    }
   ],
   "source": [
    "olx_car_dataset[((olx_car_dataset[\"region_id\"] == 13) & (olx_car_dataset[\"fuel_type\"] == \"electric\"))][\"mileage\"].median()"
   ]
  },
  {
   "cell_type": "markdown",
   "metadata": {},
   "source": [
    "### Question 4 (5 points)\n",
    "\n",
    "Show the top 5 most popular car make listed by private owners and registered since 2017: "
   ]
  },
  {
   "cell_type": "code",
   "execution_count": 17,
   "metadata": {},
   "outputs": [
    {
     "data": {
      "text/html": [
       "<div>\n",
       "<style scoped>\n",
       "    .dataframe tbody tr th:only-of-type {\n",
       "        vertical-align: middle;\n",
       "    }\n",
       "\n",
       "    .dataframe tbody tr th {\n",
       "        vertical-align: top;\n",
       "    }\n",
       "\n",
       "    .dataframe thead th {\n",
       "        text-align: right;\n",
       "    }\n",
       "</style>\n",
       "<table border=\"1\" class=\"dataframe\">\n",
       "  <thead>\n",
       "    <tr style=\"text-align: right;\">\n",
       "      <th></th>\n",
       "      <th>count</th>\n",
       "    </tr>\n",
       "    <tr>\n",
       "      <th>make</th>\n",
       "      <th></th>\n",
       "    </tr>\n",
       "  </thead>\n",
       "  <tbody>\n",
       "    <tr>\n",
       "      <th>renault</th>\n",
       "      <td>17</td>\n",
       "    </tr>\n",
       "    <tr>\n",
       "      <th>mercedes-benz</th>\n",
       "      <td>16</td>\n",
       "    </tr>\n",
       "    <tr>\n",
       "      <th>fiat</th>\n",
       "      <td>10</td>\n",
       "    </tr>\n",
       "    <tr>\n",
       "      <th>peugeot</th>\n",
       "      <td>8</td>\n",
       "    </tr>\n",
       "    <tr>\n",
       "      <th>vw</th>\n",
       "      <td>7</td>\n",
       "    </tr>\n",
       "  </tbody>\n",
       "</table>\n",
       "</div>"
      ],
      "text/plain": [
       "               count\n",
       "make                \n",
       "renault           17\n",
       "mercedes-benz     16\n",
       "fiat              10\n",
       "peugeot            8\n",
       "vw                 7"
      ]
     },
     "execution_count": 17,
     "metadata": {},
     "output_type": "execute_result"
    }
   ],
   "source": [
    "q4 = olx_car_dataset[((olx_car_dataset[\"private_business\"] == \"private\")& (olx_car_dataset[\"reg_year\"] > 2016))]\n",
    "q4.groupby([\"make\"])[\"make\"].agg([\"count\"]).sort_values(by='count', ascending=False).head(5)\n"
   ]
  },
  {
   "cell_type": "markdown",
   "metadata": {},
   "source": [
    "### Question 5 (5 points)\n",
    "\n",
    "Show the difference of average price of diesel cars with mileage larger than 100,000 kms and smaller than 5,000 kms. What do you find? How about gaz cars? "
   ]
  },
  {
   "cell_type": "code",
   "execution_count": 18,
   "metadata": {},
   "outputs": [
    {
     "name": "stdout",
     "output_type": "stream",
     "text": [
      "The difference of avarge price of diesel cars with mileage larger than 100,000 kms and smaller than 5,000 kms is -13771.328550553235\n",
      "The cars with less kms are more expensive.\n",
      "The difference for gaz cars with the same mileage is:  -16058.669174508608\n",
      "One can assume that it is pretty much the same\n"
     ]
    }
   ],
   "source": [
    "diesel_100 = olx_car_dataset[((olx_car_dataset[\"mileage\"] > 100000) & (olx_car_dataset[\"fuel_type\"] == \"diesel\"))][\"price\"].mean()\n",
    "diesel_5 = olx_car_dataset[((olx_car_dataset[\"mileage\"] < 5000) & (olx_car_dataset[\"fuel_type\"] == \"diesel\"))][\"price\"].mean()\n",
    "diff100_5 = diesel_100 - diesel_5\n",
    "print(\"The difference of avarge price of diesel cars with mileage larger than 100,000 kms and smaller than 5,000 kms is\", diff100_5)\n",
    "print(\"The cars with less kms are more expensive.\")\n",
    "gaz_100 = olx_car_dataset[((olx_car_dataset[\"mileage\"] > 100000) & (olx_car_dataset[\"fuel_type\"] == \"gaz\"))][\"price\"].mean()\n",
    "gaz_5 = olx_car_dataset[((olx_car_dataset[\"mileage\"] < 5000) & (olx_car_dataset[\"fuel_type\"] == \"gaz\"))][\"price\"].mean()\n",
    "diff_gaz_100_5  = gaz_100-gaz_5\n",
    "diff_gaz_100_5\n",
    "print(\"The difference for gaz cars with the same mileage is: \", diff_gaz_100_5)\n",
    "print(\"One can assume that it is pretty much the same\")"
   ]
  },
  {
   "cell_type": "markdown",
   "metadata": {},
   "source": [
    "### Question 6 (5 points)\n",
    "\n",
    "For cars with the most popular color, how many of them are sold by business sellers in region 11 and with capacity of 5 passengers?"
   ]
  },
  {
   "cell_type": "code",
   "execution_count": 19,
   "metadata": {},
   "outputs": [
    {
     "name": "stdout",
     "output_type": "stream",
     "text": [
      "       count\n",
      "color       \n",
      "white  11180\n",
      "2101  white cars, are sold by business sellers in region 11 and with capacity of 5 passengers\n"
     ]
    }
   ],
   "source": [
    "print(olx_car_dataset.groupby([\"color\"])[\"color\"].agg([\"count\"]).sort_values(by='count', ascending=False).head(1))\n",
    "#white is the most popular color\n",
    "olx_white = olx_car_dataset[olx_car_dataset[\"color\"] == \"white\"]\n",
    "p = olx_white[(olx_white[\"region_id\"]==11) & (olx_white[\"private_business\"] == \"business\") & (olx_white[\"capacity\"]==5)].agg(\"count\")[1]\n",
    "print(p,\" white cars, are sold by business sellers in region 11 and with capacity of 5 passengers\")"
   ]
  },
  {
   "cell_type": "markdown",
   "metadata": {},
   "source": [
    "### Question 7 (5 points)\n",
    "\n",
    "Which model is listed the most expensive? On average, how many days does this model stay on the listing?"
   ]
  },
  {
   "cell_type": "code",
   "execution_count": 20,
   "metadata": {},
   "outputs": [
    {
     "name": "stdout",
     "output_type": "stream",
     "text": [
      "The Audi A6 Avant is listed the most expensive.\n",
      "62.36363636363637 days this model stays on the listing\n"
     ]
    }
   ],
   "source": [
    "olx_car_dataset.sort_values(\"price\",ascending=False).head(1)\n",
    "print(\"The Audi A6 Avant is listed the most expensive.\")\n",
    "listting = olx_car_dataset[olx_car_dataset[\"model\"] == \"a6-avant\"][\"dayslive\"].mean()\n",
    "print(listting, \"days this model stays on the listing\")"
   ]
  },
  {
   "cell_type": "markdown",
   "metadata": {},
   "source": [
    "### Qustion 8 (5 points)\n",
    "\n",
    "For cars listed in region of 11 and 13, can you identify the top 5 model and make of cars that have the highest sales (i.e. the listing days smaller or less than 30 days)?"
   ]
  },
  {
   "cell_type": "code",
   "execution_count": 21,
   "metadata": {},
   "outputs": [
    {
     "data": {
      "text/html": [
       "<div>\n",
       "<style scoped>\n",
       "    .dataframe tbody tr th:only-of-type {\n",
       "        vertical-align: middle;\n",
       "    }\n",
       "\n",
       "    .dataframe tbody tr th {\n",
       "        vertical-align: top;\n",
       "    }\n",
       "\n",
       "    .dataframe thead th {\n",
       "        text-align: right;\n",
       "    }\n",
       "</style>\n",
       "<table border=\"1\" class=\"dataframe\">\n",
       "  <thead>\n",
       "    <tr style=\"text-align: right;\">\n",
       "      <th></th>\n",
       "      <th></th>\n",
       "      <th>count</th>\n",
       "    </tr>\n",
       "    <tr>\n",
       "      <th>make</th>\n",
       "      <th>model</th>\n",
       "      <th></th>\n",
       "    </tr>\n",
       "  </thead>\n",
       "  <tbody>\n",
       "    <tr>\n",
       "      <th rowspan=\"2\" valign=\"top\">renault</th>\n",
       "      <th>clio</th>\n",
       "      <td>309</td>\n",
       "    </tr>\n",
       "    <tr>\n",
       "      <th>megane</th>\n",
       "      <td>231</td>\n",
       "    </tr>\n",
       "    <tr>\n",
       "      <th>seat</th>\n",
       "      <th>ibiza</th>\n",
       "      <td>208</td>\n",
       "    </tr>\n",
       "    <tr>\n",
       "      <th>nissan</th>\n",
       "      <th>qashqai</th>\n",
       "      <td>184</td>\n",
       "    </tr>\n",
       "    <tr>\n",
       "      <th>mercedes-benz</th>\n",
       "      <th>benz</th>\n",
       "      <td>178</td>\n",
       "    </tr>\n",
       "  </tbody>\n",
       "</table>\n",
       "</div>"
      ],
      "text/plain": [
       "                       count\n",
       "make          model         \n",
       "renault       clio       309\n",
       "              megane     231\n",
       "seat          ibiza      208\n",
       "nissan        qashqai    184\n",
       "mercedes-benz benz       178"
      ]
     },
     "execution_count": 21,
     "metadata": {},
     "output_type": "execute_result"
    }
   ],
   "source": [
    "q8 = olx_car_dataset[(olx_car_dataset[\"region_id\"] == 11) | (olx_car_dataset[\"region_id\"] == 13)]\n",
    "q8 = q8[(q8[\"dayslive\"]<30)]\n",
    "q8.groupby([\"make\",\"model\"])[\"model\"].agg([\"count\"]).sort_values(by = \"count\",ascending=False).head(5)"
   ]
  },
  {
   "cell_type": "markdown",
   "metadata": {},
   "source": [
    "### Qustion 9 (5 points)\n",
    "\n",
    "Show the correlation between mileage, reg_year, eng_capacity and price. What do you observe? "
   ]
  },
  {
   "cell_type": "code",
   "execution_count": 22,
   "metadata": {},
   "outputs": [
    {
     "name": "stdout",
     "output_type": "stream",
     "text": [
      "               mileage  reg_year  eng_capacity     price\n",
      "mileage       1.000000 -0.627917      0.170031 -0.145366\n",
      "reg_year     -0.627917  1.000000     -0.138543  0.148113\n",
      "eng_capacity  0.170031 -0.138543      1.000000  0.083119\n",
      "price        -0.145366  0.148113      0.083119  1.000000\n",
      "older cars have more ileage, and more eng_capacity, while they have a higher price.\n",
      "the price of cars is lover for more milage and increasing in reg_year. So older cars have an higher price. May there are many old-timer sold on OLX\n"
     ]
    }
   ],
   "source": [
    "print(olx_car_dataset[[\"mileage\", \"reg_year\", \"eng_capacity\", \"price\"]].corr())\n",
    "print(\"older cars have more ileage, and more eng_capacity, while they have a higher price.\")\n",
    "print(\"the price of cars is lover for more milage and increasing in reg_year. So older cars have an higher price. May there are many old-timer sold on OLX\")"
   ]
  },
  {
   "cell_type": "markdown",
   "metadata": {},
   "source": [
    "### Qustion 10 (5 points)\n",
    "\n",
    "Show the pivot table of mean and standard deviation for car prices  across the type of sellers and region (as the row), and fuel_types (as the column). If there are no available cars in each category, set the value to be 0."
   ]
  },
  {
   "cell_type": "code",
   "execution_count": null,
   "metadata": {},
   "outputs": [],
   "source": [
    "#q8.groupby([\"private_business\",\"region_id\",])[\"fuel_type\"][]\n",
    "pd.pivot_table(data=olx_car_dataset, index=[\"private_business\",\"region_id\"], values = \"fuel_type\")"
   ]
  },
  {
   "cell_type": "code",
   "execution_count": null,
   "metadata": {},
   "outputs": [],
   "source": []
  }
 ],
 "metadata": {
  "kernelspec": {
   "display_name": "Python 3",
   "language": "python",
   "name": "python3"
  },
  "language_info": {
   "codemirror_mode": {
    "name": "ipython",
    "version": 3
   },
   "file_extension": ".py",
   "mimetype": "text/x-python",
   "name": "python",
   "nbconvert_exporter": "python",
   "pygments_lexer": "ipython3",
   "version": "3.8.8"
  }
 },
 "nbformat": 4,
 "nbformat_minor": 2
}

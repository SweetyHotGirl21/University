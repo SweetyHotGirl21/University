{
 "cells": [
  {
   "cell_type": "code",
   "execution_count": 1,
   "metadata": {},
   "outputs": [],
   "source": [
    "# Libraries to treat data\n",
    "import numpy as np\n",
    "import pandas as pd\n",
    "\n",
    "# Library to plot data\n",
    "import matplotlib.pyplot as plt\n",
    "\n",
    "# Modeling\n",
    "import statsmodels.api as sm\n",
    "import statsmodels.formula.api as smf\n",
    "from statsmodels.formula.api import ols\n",
    "from statsmodels.stats.stattools import durbin_watson\n",
    "from statsmodels.stats.diagnostic import het_white\n",
    "from statsmodels.compat import lzip\n",
    "from patsy import dmatrices"
   ]
  },
  {
   "cell_type": "code",
   "execution_count": 2,
   "metadata": {},
   "outputs": [],
   "source": [
    "# Reading the csv files with the datasets for each index\n",
    "SP500_data = pd.read_csv(\"sp500_data.csv\", delimiter = \",\", sep = \".\", error_bad_lines= False)\n",
    "FTSE100_data = pd.read_csv(\"ftse100_data.csv\", delimiter = \",\", sep = \".\", error_bad_lines= False)\n",
    "Bovespa_data = pd.read_csv(\"bovespa_data.csv\", delimiter = \",\", sep = \".\", error_bad_lines= False)\n",
    "HangSeng_data = pd.read_csv(\"hangseng_data.csv\", delimiter = \",\", sep = \".\", error_bad_lines= False)"
   ]
  },
  {
   "cell_type": "code",
   "execution_count": 3,
   "metadata": {},
   "outputs": [
    {
     "data": {
      "text/html": [
       "<div>\n",
       "<style scoped>\n",
       "    .dataframe tbody tr th:only-of-type {\n",
       "        vertical-align: middle;\n",
       "    }\n",
       "\n",
       "    .dataframe tbody tr th {\n",
       "        vertical-align: top;\n",
       "    }\n",
       "\n",
       "    .dataframe thead th {\n",
       "        text-align: right;\n",
       "    }\n",
       "</style>\n",
       "<table border=\"1\" class=\"dataframe\">\n",
       "  <thead>\n",
       "    <tr style=\"text-align: right;\">\n",
       "      <th></th>\n",
       "      <th>Unnamed: 0</th>\n",
       "      <th>Date</th>\n",
       "      <th>Index</th>\n",
       "      <th>PE</th>\n",
       "      <th>Yield</th>\n",
       "    </tr>\n",
       "  </thead>\n",
       "  <tbody>\n",
       "    <tr>\n",
       "      <th>0</th>\n",
       "      <td>0</td>\n",
       "      <td>2000-01-31</td>\n",
       "      <td>1394.46</td>\n",
       "      <td>31.42</td>\n",
       "      <td>-0.052245</td>\n",
       "    </tr>\n",
       "    <tr>\n",
       "      <th>1</th>\n",
       "      <td>1</td>\n",
       "      <td>2000-02-29</td>\n",
       "      <td>1366.42</td>\n",
       "      <td>28.95</td>\n",
       "      <td>-0.020313</td>\n",
       "    </tr>\n",
       "    <tr>\n",
       "      <th>2</th>\n",
       "      <td>2</td>\n",
       "      <td>2000-03-31</td>\n",
       "      <td>1498.58</td>\n",
       "      <td>27.83</td>\n",
       "      <td>0.092324</td>\n",
       "    </tr>\n",
       "    <tr>\n",
       "      <th>3</th>\n",
       "      <td>3</td>\n",
       "      <td>2000-04-30</td>\n",
       "      <td>1452.43</td>\n",
       "      <td>29.96</td>\n",
       "      <td>-0.031280</td>\n",
       "    </tr>\n",
       "    <tr>\n",
       "      <th>4</th>\n",
       "      <td>4</td>\n",
       "      <td>2000-05-31</td>\n",
       "      <td>1420.60</td>\n",
       "      <td>28.51</td>\n",
       "      <td>-0.022159</td>\n",
       "    </tr>\n",
       "    <tr>\n",
       "      <th>...</th>\n",
       "      <td>...</td>\n",
       "      <td>...</td>\n",
       "      <td>...</td>\n",
       "      <td>...</td>\n",
       "      <td>...</td>\n",
       "    </tr>\n",
       "    <tr>\n",
       "      <th>247</th>\n",
       "      <td>247</td>\n",
       "      <td>2020-08-31</td>\n",
       "      <td>3500.31</td>\n",
       "      <td>32.97</td>\n",
       "      <td>0.067719</td>\n",
       "    </tr>\n",
       "    <tr>\n",
       "      <th>248</th>\n",
       "      <td>248</td>\n",
       "      <td>2020-09-30</td>\n",
       "      <td>3363.00</td>\n",
       "      <td>34.68</td>\n",
       "      <td>-0.040018</td>\n",
       "    </tr>\n",
       "    <tr>\n",
       "      <th>249</th>\n",
       "      <td>249</td>\n",
       "      <td>2020-10-31</td>\n",
       "      <td>3269.96</td>\n",
       "      <td>33.99</td>\n",
       "      <td>-0.028056</td>\n",
       "    </tr>\n",
       "    <tr>\n",
       "      <th>250</th>\n",
       "      <td>250</td>\n",
       "      <td>2020-11-30</td>\n",
       "      <td>3621.63</td>\n",
       "      <td>33.10</td>\n",
       "      <td>0.102146</td>\n",
       "    </tr>\n",
       "    <tr>\n",
       "      <th>251</th>\n",
       "      <td>251</td>\n",
       "      <td>2020-12-31</td>\n",
       "      <td>3756.07</td>\n",
       "      <td>36.66</td>\n",
       "      <td>0.036449</td>\n",
       "    </tr>\n",
       "  </tbody>\n",
       "</table>\n",
       "<p>252 rows × 5 columns</p>\n",
       "</div>"
      ],
      "text/plain": [
       "     Unnamed: 0        Date    Index     PE     Yield\n",
       "0             0  2000-01-31  1394.46  31.42 -0.052245\n",
       "1             1  2000-02-29  1366.42  28.95 -0.020313\n",
       "2             2  2000-03-31  1498.58  27.83  0.092324\n",
       "3             3  2000-04-30  1452.43  29.96 -0.031280\n",
       "4             4  2000-05-31  1420.60  28.51 -0.022159\n",
       "..          ...         ...      ...    ...       ...\n",
       "247         247  2020-08-31  3500.31  32.97  0.067719\n",
       "248         248  2020-09-30  3363.00  34.68 -0.040018\n",
       "249         249  2020-10-31  3269.96  33.99 -0.028056\n",
       "250         250  2020-11-30  3621.63  33.10  0.102146\n",
       "251         251  2020-12-31  3756.07  36.66  0.036449\n",
       "\n",
       "[252 rows x 5 columns]"
      ]
     },
     "execution_count": 3,
     "metadata": {},
     "output_type": "execute_result"
    }
   ],
   "source": [
    "SP500_data"
   ]
  },
  {
   "cell_type": "code",
   "execution_count": 4,
   "metadata": {},
   "outputs": [
    {
     "name": "stdout",
     "output_type": "stream",
     "text": [
      "                            OLS Regression Results                            \n",
      "==============================================================================\n",
      "Dep. Variable:                  Index   R-squared:                       0.034\n",
      "Model:                            OLS   Adj. R-squared:                  0.030\n",
      "Method:                 Least Squares   F-statistic:                     8.845\n",
      "Date:                Fri, 12 Mar 2021   Prob (F-statistic):            0.00323\n",
      "Time:                        12:14:29   Log-Likelihood:                -1995.5\n",
      "No. Observations:                 252   AIC:                             3995.\n",
      "Df Residuals:                     250   BIC:                             4002.\n",
      "Df Model:                           1                                         \n",
      "Covariance Type:            nonrobust                                         \n",
      "==============================================================================\n",
      "                 coef    std err          t      P>|t|      [0.025      0.975]\n",
      "------------------------------------------------------------------------------\n",
      "Intercept   1843.8693     75.885     24.298      0.000    1694.414    1993.325\n",
      "PE            -7.2377      2.434     -2.974      0.003     -12.031      -2.445\n",
      "==============================================================================\n",
      "Omnibus:                       39.011   Durbin-Watson:                   0.017\n",
      "Prob(Omnibus):                  0.000   Jarque-Bera (JB):               53.086\n",
      "Skew:                           1.115   Prob(JB):                     2.97e-12\n",
      "Kurtosis:                       3.294   Cond. No.                         56.3\n",
      "==============================================================================\n",
      "\n",
      "Warnings:\n",
      "[1] Standard Errors assume that the covariance matrix of the errors is correctly specified.\n"
     ]
    }
   ],
   "source": [
    "# Fit the linear regression model\n",
    "model_price_SP500 = ols('Index ~ PE', data=SP500_data).fit()\n",
    "\n",
    "# View the regression results' summary\n",
    "print(model_price_SP500.summary())"
   ]
  },
  {
   "cell_type": "code",
   "execution_count": 5,
   "metadata": {},
   "outputs": [
    {
     "data": {
      "text/plain": [
       "0.0166406300797759"
      ]
     },
     "execution_count": 5,
     "metadata": {},
     "output_type": "execute_result"
    }
   ],
   "source": [
    "# Perform Durbin-Watson test\n",
    "durbin_watson(model_price_SP500.resid)"
   ]
  },
  {
   "cell_type": "code",
   "execution_count": 6,
   "metadata": {},
   "outputs": [
    {
     "data": {
      "text/plain": [
       "[('Lagrange Multiplier statistic:', 16.55370698097271),\n",
       " (\"LM test's p-value:\", 0.00025433621363943576),\n",
       " ('F-statistic:', 8.753319038089728),\n",
       " (\"F-test's p-value:\", 0.0002119185043895085)]"
      ]
     },
     "execution_count": 6,
     "metadata": {},
     "output_type": "execute_result"
    }
   ],
   "source": [
    "# Perform White test\n",
    "model_price_SP500.resid\n",
    "price_SP500, PE_SP500 = dmatrices('Index ~ PE', SP500_data, return_type='dataframe')\n",
    "keys = ['Lagrange Multiplier statistic:', 'LM test\\'s p-value:', 'F-statistic:', 'F-test\\'s p-value:']\n",
    "results_price_SP500 = het_white(model_price_SP500.resid, PE_SP500)\n",
    "lzip(keys, results_price_SP500)"
   ]
  },
  {
   "cell_type": "code",
   "execution_count": 7,
   "metadata": {},
   "outputs": [
    {
     "name": "stdout",
     "output_type": "stream",
     "text": [
      "                            OLS Regression Results                            \n",
      "==============================================================================\n",
      "Dep. Variable:                  Yield   R-squared:                       0.004\n",
      "Model:                            OLS   Adj. R-squared:                 -0.000\n",
      "Method:                 Least Squares   F-statistic:                    0.9395\n",
      "Date:                Fri, 12 Mar 2021   Prob (F-statistic):              0.333\n",
      "Time:                        12:14:36   Log-Likelihood:                 429.06\n",
      "No. Observations:                 252   AIC:                            -854.1\n",
      "Df Residuals:                     250   BIC:                            -847.1\n",
      "Df Model:                           1                                         \n",
      "Covariance Type:            nonrobust                                         \n",
      "==============================================================================\n",
      "                 coef    std err          t      P>|t|      [0.025      0.975]\n",
      "------------------------------------------------------------------------------\n",
      "Intercept     -0.0003      0.005     -0.067      0.947      -0.010       0.010\n",
      "PE             0.0002      0.000      0.969      0.333      -0.000       0.000\n",
      "==============================================================================\n",
      "Omnibus:                       29.647   Durbin-Watson:                   1.853\n",
      "Prob(Omnibus):                  0.000   Jarque-Bera (JB):               43.861\n",
      "Skew:                          -0.727   Prob(JB):                     2.99e-10\n",
      "Kurtosis:                       4.436   Cond. No.                         56.3\n",
      "==============================================================================\n",
      "\n",
      "Warnings:\n",
      "[1] Standard Errors assume that the covariance matrix of the errors is correctly specified.\n"
     ]
    }
   ],
   "source": [
    "# Fit the linear regression model\n",
    "model_yield_SP500 = ols('Yield ~ PE', data=SP500_data).fit()\n",
    "\n",
    "# View the regression results' summary\n",
    "print(model_yield_SP500.summary())"
   ]
  },
  {
   "cell_type": "code",
   "execution_count": 8,
   "metadata": {},
   "outputs": [
    {
     "data": {
      "text/plain": [
       "1.8528358849834616"
      ]
     },
     "execution_count": 8,
     "metadata": {},
     "output_type": "execute_result"
    }
   ],
   "source": [
    "# Perform Durbin-Watson test\n",
    "durbin_watson(model_yield_SP500.resid)"
   ]
  },
  {
   "cell_type": "code",
   "execution_count": 9,
   "metadata": {},
   "outputs": [
    {
     "data": {
      "text/plain": [
       "[('Lagrange Multiplier statistic:', 11.170969240369033),\n",
       " (\"LM test's p-value:\", 0.0037519310675896947),\n",
       " ('F-statistic:', 5.774991769219355),\n",
       " (\"F-test's p-value:\", 0.0035349475999538484)]"
      ]
     },
     "execution_count": 9,
     "metadata": {},
     "output_type": "execute_result"
    }
   ],
   "source": [
    "# Perform White test\n",
    "model_yield_SP500.resid\n",
    "yield_SP500, PE_SP500 = dmatrices('Yield ~ PE', SP500_data, return_type='dataframe')\n",
    "keys = ['Lagrange Multiplier statistic:', 'LM test\\'s p-value:', 'F-statistic:', 'F-test\\'s p-value:']\n",
    "results_yield_SP500 = het_white(model_yield_SP500.resid, PE_SP500)\n",
    "lzip(keys, results_yield_SP500)"
   ]
  },
  {
   "cell_type": "code",
   "execution_count": 10,
   "metadata": {},
   "outputs": [
    {
     "data": {
      "text/html": [
       "<div>\n",
       "<style scoped>\n",
       "    .dataframe tbody tr th:only-of-type {\n",
       "        vertical-align: middle;\n",
       "    }\n",
       "\n",
       "    .dataframe tbody tr th {\n",
       "        vertical-align: top;\n",
       "    }\n",
       "\n",
       "    .dataframe thead th {\n",
       "        text-align: right;\n",
       "    }\n",
       "</style>\n",
       "<table border=\"1\" class=\"dataframe\">\n",
       "  <thead>\n",
       "    <tr style=\"text-align: right;\">\n",
       "      <th></th>\n",
       "      <th>Unnamed: 0</th>\n",
       "      <th>Date</th>\n",
       "      <th>Index</th>\n",
       "      <th>PE</th>\n",
       "      <th>Yield</th>\n",
       "    </tr>\n",
       "  </thead>\n",
       "  <tbody>\n",
       "    <tr>\n",
       "      <th>0</th>\n",
       "      <td>0</td>\n",
       "      <td>2000-01-31</td>\n",
       "      <td>6268.54</td>\n",
       "      <td>29.92</td>\n",
       "      <td>-0.100345</td>\n",
       "    </tr>\n",
       "    <tr>\n",
       "      <th>1</th>\n",
       "      <td>1</td>\n",
       "      <td>2000-02-29</td>\n",
       "      <td>6232.56</td>\n",
       "      <td>27.49</td>\n",
       "      <td>-0.005756</td>\n",
       "    </tr>\n",
       "    <tr>\n",
       "      <th>2</th>\n",
       "      <td>2</td>\n",
       "      <td>2000-03-31</td>\n",
       "      <td>6540.22</td>\n",
       "      <td>27.59</td>\n",
       "      <td>0.048184</td>\n",
       "    </tr>\n",
       "    <tr>\n",
       "      <th>3</th>\n",
       "      <td>3</td>\n",
       "      <td>2000-04-30</td>\n",
       "      <td>6327.43</td>\n",
       "      <td>28.96</td>\n",
       "      <td>-0.033077</td>\n",
       "    </tr>\n",
       "    <tr>\n",
       "      <th>4</th>\n",
       "      <td>4</td>\n",
       "      <td>2000-05-31</td>\n",
       "      <td>6359.35</td>\n",
       "      <td>29.27</td>\n",
       "      <td>0.005032</td>\n",
       "    </tr>\n",
       "    <tr>\n",
       "      <th>...</th>\n",
       "      <td>...</td>\n",
       "      <td>...</td>\n",
       "      <td>...</td>\n",
       "      <td>...</td>\n",
       "      <td>...</td>\n",
       "    </tr>\n",
       "    <tr>\n",
       "      <th>247</th>\n",
       "      <td>247</td>\n",
       "      <td>2020-08-31</td>\n",
       "      <td>5963.57</td>\n",
       "      <td>14.91</td>\n",
       "      <td>0.011097</td>\n",
       "    </tr>\n",
       "    <tr>\n",
       "      <th>248</th>\n",
       "      <td>248</td>\n",
       "      <td>2020-09-30</td>\n",
       "      <td>5866.10</td>\n",
       "      <td>16.88</td>\n",
       "      <td>-0.016479</td>\n",
       "    </tr>\n",
       "    <tr>\n",
       "      <th>249</th>\n",
       "      <td>249</td>\n",
       "      <td>2020-10-31</td>\n",
       "      <td>5577.27</td>\n",
       "      <td>16.60</td>\n",
       "      <td>-0.050491</td>\n",
       "    </tr>\n",
       "    <tr>\n",
       "      <th>250</th>\n",
       "      <td>250</td>\n",
       "      <td>2020-11-30</td>\n",
       "      <td>6266.19</td>\n",
       "      <td>15.38</td>\n",
       "      <td>0.116469</td>\n",
       "    </tr>\n",
       "    <tr>\n",
       "      <th>251</th>\n",
       "      <td>251</td>\n",
       "      <td>2020-12-31</td>\n",
       "      <td>6460.52</td>\n",
       "      <td>17.02</td>\n",
       "      <td>0.030541</td>\n",
       "    </tr>\n",
       "  </tbody>\n",
       "</table>\n",
       "<p>252 rows × 5 columns</p>\n",
       "</div>"
      ],
      "text/plain": [
       "     Unnamed: 0        Date    Index     PE     Yield\n",
       "0             0  2000-01-31  6268.54  29.92 -0.100345\n",
       "1             1  2000-02-29  6232.56  27.49 -0.005756\n",
       "2             2  2000-03-31  6540.22  27.59  0.048184\n",
       "3             3  2000-04-30  6327.43  28.96 -0.033077\n",
       "4             4  2000-05-31  6359.35  29.27  0.005032\n",
       "..          ...         ...      ...    ...       ...\n",
       "247         247  2020-08-31  5963.57  14.91  0.011097\n",
       "248         248  2020-09-30  5866.10  16.88 -0.016479\n",
       "249         249  2020-10-31  5577.27  16.60 -0.050491\n",
       "250         250  2020-11-30  6266.19  15.38  0.116469\n",
       "251         251  2020-12-31  6460.52  17.02  0.030541\n",
       "\n",
       "[252 rows x 5 columns]"
      ]
     },
     "execution_count": 10,
     "metadata": {},
     "output_type": "execute_result"
    }
   ],
   "source": [
    "FTSE100_data"
   ]
  },
  {
   "cell_type": "code",
   "execution_count": 11,
   "metadata": {},
   "outputs": [
    {
     "name": "stdout",
     "output_type": "stream",
     "text": [
      "                            OLS Regression Results                            \n",
      "==============================================================================\n",
      "Dep. Variable:                  Index   R-squared:                       0.062\n",
      "Model:                            OLS   Adj. R-squared:                  0.059\n",
      "Method:                 Least Squares   F-statistic:                     16.63\n",
      "Date:                Fri, 12 Mar 2021   Prob (F-statistic):           6.10e-05\n",
      "Time:                        12:14:47   Log-Likelihood:                -2089.6\n",
      "No. Observations:                 252   AIC:                             4183.\n",
      "Df Residuals:                     250   BIC:                             4190.\n",
      "Df Model:                           1                                         \n",
      "Covariance Type:            nonrobust                                         \n",
      "==============================================================================\n",
      "                 coef    std err          t      P>|t|      [0.025      0.975]\n",
      "------------------------------------------------------------------------------\n",
      "Intercept   5239.0928    172.328     30.402      0.000    4899.692    5578.493\n",
      "PE            39.5993      9.709      4.079      0.000      20.477      58.721\n",
      "==============================================================================\n",
      "Omnibus:                        8.191   Durbin-Watson:                   0.059\n",
      "Prob(Omnibus):                  0.017   Jarque-Bera (JB):                6.975\n",
      "Skew:                          -0.327   Prob(JB):                       0.0306\n",
      "Kurtosis:                       2.513   Cond. No.                         50.2\n",
      "==============================================================================\n",
      "\n",
      "Warnings:\n",
      "[1] Standard Errors assume that the covariance matrix of the errors is correctly specified.\n"
     ]
    }
   ],
   "source": [
    "# Fit the linear regression model\n",
    "model_price_FTSE100 = ols('Index ~ PE', data=FTSE100_data).fit()\n",
    "\n",
    "# View the regression results' summary\n",
    "print(model_price_FTSE100.summary())"
   ]
  },
  {
   "cell_type": "code",
   "execution_count": 12,
   "metadata": {},
   "outputs": [
    {
     "data": {
      "text/plain": [
       "0.058860861391029966"
      ]
     },
     "execution_count": 12,
     "metadata": {},
     "output_type": "execute_result"
    }
   ],
   "source": [
    "# Perform Durbin-Watson test\n",
    "durbin_watson(model_price_FTSE100.resid)"
   ]
  },
  {
   "cell_type": "code",
   "execution_count": 13,
   "metadata": {},
   "outputs": [
    {
     "data": {
      "text/plain": [
       "[('Lagrange Multiplier statistic:', 17.980348396595826),\n",
       " (\"LM test's p-value:\", 0.00012462838129464508),\n",
       " ('F-statistic:', 9.565664080082831),\n",
       " (\"F-test's p-value:\", 9.943689746014514e-05)]"
      ]
     },
     "execution_count": 13,
     "metadata": {},
     "output_type": "execute_result"
    }
   ],
   "source": [
    "# Perform White test\n",
    "model_price_FTSE100.resid\n",
    "price_FTSE100, PE_FTSE100 = dmatrices('Index ~ PE', FTSE100_data, return_type='dataframe')\n",
    "keys = ['Lagrange Multiplier statistic:', 'LM test\\'s p-value:', 'F-statistic:', 'F-test\\'s p-value:']\n",
    "results_price_FTSE100 = het_white(model_price_FTSE100.resid, PE_FTSE100)\n",
    "lzip(keys, results_price_FTSE100)"
   ]
  },
  {
   "cell_type": "code",
   "execution_count": 14,
   "metadata": {},
   "outputs": [
    {
     "name": "stdout",
     "output_type": "stream",
     "text": [
      "                            OLS Regression Results                            \n",
      "==============================================================================\n",
      "Dep. Variable:                  Yield   R-squared:                       0.001\n",
      "Model:                            OLS   Adj. R-squared:                 -0.003\n",
      "Method:                 Least Squares   F-statistic:                    0.2072\n",
      "Date:                Fri, 12 Mar 2021   Prob (F-statistic):              0.649\n",
      "Time:                        12:14:53   Log-Likelihood:                 448.54\n",
      "No. Observations:                 252   AIC:                            -893.1\n",
      "Df Residuals:                     250   BIC:                            -886.0\n",
      "Df Model:                           1                                         \n",
      "Covariance Type:            nonrobust                                         \n",
      "==============================================================================\n",
      "                 coef    std err          t      P>|t|      [0.025      0.975]\n",
      "------------------------------------------------------------------------------\n",
      "Intercept      0.0028      0.007      0.387      0.699      -0.012       0.017\n",
      "PE            -0.0002      0.000     -0.455      0.649      -0.001       0.001\n",
      "==============================================================================\n",
      "Omnibus:                       25.977   Durbin-Watson:                   1.962\n",
      "Prob(Omnibus):                  0.000   Jarque-Bera (JB):               34.074\n",
      "Skew:                          -0.707   Prob(JB):                     3.99e-08\n",
      "Kurtosis:                       4.116   Cond. No.                         50.2\n",
      "==============================================================================\n",
      "\n",
      "Warnings:\n",
      "[1] Standard Errors assume that the covariance matrix of the errors is correctly specified.\n"
     ]
    }
   ],
   "source": [
    "# Fit the linear regression model\n",
    "model_yield_FTSE100 = ols('Yield ~ PE', data=FTSE100_data).fit()\n",
    "\n",
    "# View the regression results' summary\n",
    "print(model_yield_FTSE100.summary())"
   ]
  },
  {
   "cell_type": "code",
   "execution_count": 15,
   "metadata": {},
   "outputs": [
    {
     "data": {
      "text/plain": [
       "1.9620431034399788"
      ]
     },
     "execution_count": 15,
     "metadata": {},
     "output_type": "execute_result"
    }
   ],
   "source": [
    "# Perform Durbin-Watson test\n",
    "durbin_watson(model_yield_FTSE100.resid)"
   ]
  },
  {
   "cell_type": "code",
   "execution_count": 16,
   "metadata": {},
   "outputs": [
    {
     "data": {
      "text/plain": [
       "[('Lagrange Multiplier statistic:', 1.6689507905144003),\n",
       " (\"LM test's p-value:\", 0.4341021537574996),\n",
       " ('F-statistic:', 0.830038359505138),\n",
       " (\"F-test's p-value:\", 0.437235348499213)]"
      ]
     },
     "execution_count": 16,
     "metadata": {},
     "output_type": "execute_result"
    }
   ],
   "source": [
    "# Perform White test\n",
    "model_yield_FTSE100.resid\n",
    "yield_FTSE100, PE_FTSE100 = dmatrices('Yield ~ PE', FTSE100_data, return_type='dataframe')\n",
    "keys = ['Lagrange Multiplier statistic:', 'LM test\\'s p-value:', 'F-statistic:', 'F-test\\'s p-value:']\n",
    "results_yield_FTSE100 = het_white(model_yield_FTSE100.resid, PE_FTSE100)\n",
    "lzip(keys, results_yield_FTSE100)"
   ]
  },
  {
   "cell_type": "code",
   "execution_count": 17,
   "metadata": {},
   "outputs": [
    {
     "data": {
      "text/html": [
       "<div>\n",
       "<style scoped>\n",
       "    .dataframe tbody tr th:only-of-type {\n",
       "        vertical-align: middle;\n",
       "    }\n",
       "\n",
       "    .dataframe tbody tr th {\n",
       "        vertical-align: top;\n",
       "    }\n",
       "\n",
       "    .dataframe thead th {\n",
       "        text-align: right;\n",
       "    }\n",
       "</style>\n",
       "<table border=\"1\" class=\"dataframe\">\n",
       "  <thead>\n",
       "    <tr style=\"text-align: right;\">\n",
       "      <th></th>\n",
       "      <th>Unnamed: 0</th>\n",
       "      <th>Date</th>\n",
       "      <th>Index</th>\n",
       "      <th>PE</th>\n",
       "      <th>Yield</th>\n",
       "    </tr>\n",
       "  </thead>\n",
       "  <tbody>\n",
       "    <tr>\n",
       "      <th>0</th>\n",
       "      <td>0</td>\n",
       "      <td>2000-01-31</td>\n",
       "      <td>16388.27</td>\n",
       "      <td>6.80</td>\n",
       "      <td>-0.042045</td>\n",
       "    </tr>\n",
       "    <tr>\n",
       "      <th>1</th>\n",
       "      <td>1</td>\n",
       "      <td>2000-02-29</td>\n",
       "      <td>17660.20</td>\n",
       "      <td>6.52</td>\n",
       "      <td>0.074748</td>\n",
       "    </tr>\n",
       "    <tr>\n",
       "      <th>2</th>\n",
       "      <td>2</td>\n",
       "      <td>2000-03-31</td>\n",
       "      <td>17820.37</td>\n",
       "      <td>7.36</td>\n",
       "      <td>0.009029</td>\n",
       "    </tr>\n",
       "    <tr>\n",
       "      <th>3</th>\n",
       "      <td>3</td>\n",
       "      <td>2000-04-30</td>\n",
       "      <td>15537.60</td>\n",
       "      <td>7.42</td>\n",
       "      <td>-0.137079</td>\n",
       "    </tr>\n",
       "    <tr>\n",
       "      <th>4</th>\n",
       "      <td>4</td>\n",
       "      <td>2000-05-31</td>\n",
       "      <td>14956.61</td>\n",
       "      <td>6.47</td>\n",
       "      <td>-0.038110</td>\n",
       "    </tr>\n",
       "    <tr>\n",
       "      <th>...</th>\n",
       "      <td>...</td>\n",
       "      <td>...</td>\n",
       "      <td>...</td>\n",
       "      <td>...</td>\n",
       "      <td>...</td>\n",
       "    </tr>\n",
       "    <tr>\n",
       "      <th>247</th>\n",
       "      <td>247</td>\n",
       "      <td>2020-08-31</td>\n",
       "      <td>99369.15</td>\n",
       "      <td>26.66</td>\n",
       "      <td>-0.035035</td>\n",
       "    </tr>\n",
       "    <tr>\n",
       "      <th>248</th>\n",
       "      <td>248</td>\n",
       "      <td>2020-09-30</td>\n",
       "      <td>94603.38</td>\n",
       "      <td>25.74</td>\n",
       "      <td>-0.049148</td>\n",
       "    </tr>\n",
       "    <tr>\n",
       "      <th>249</th>\n",
       "      <td>249</td>\n",
       "      <td>2020-10-31</td>\n",
       "      <td>93952.40</td>\n",
       "      <td>24.50</td>\n",
       "      <td>-0.006905</td>\n",
       "    </tr>\n",
       "    <tr>\n",
       "      <th>250</th>\n",
       "      <td>250</td>\n",
       "      <td>2020-11-30</td>\n",
       "      <td>108893.30</td>\n",
       "      <td>25.66</td>\n",
       "      <td>0.147580</td>\n",
       "    </tr>\n",
       "    <tr>\n",
       "      <th>251</th>\n",
       "      <td>251</td>\n",
       "      <td>2020-12-31</td>\n",
       "      <td>119017.20</td>\n",
       "      <td>29.74</td>\n",
       "      <td>0.088900</td>\n",
       "    </tr>\n",
       "  </tbody>\n",
       "</table>\n",
       "<p>252 rows × 5 columns</p>\n",
       "</div>"
      ],
      "text/plain": [
       "     Unnamed: 0        Date      Index     PE     Yield\n",
       "0             0  2000-01-31   16388.27   6.80 -0.042045\n",
       "1             1  2000-02-29   17660.20   6.52  0.074748\n",
       "2             2  2000-03-31   17820.37   7.36  0.009029\n",
       "3             3  2000-04-30   15537.60   7.42 -0.137079\n",
       "4             4  2000-05-31   14956.61   6.47 -0.038110\n",
       "..          ...         ...        ...    ...       ...\n",
       "247         247  2020-08-31   99369.15  26.66 -0.035035\n",
       "248         248  2020-09-30   94603.38  25.74 -0.049148\n",
       "249         249  2020-10-31   93952.40  24.50 -0.006905\n",
       "250         250  2020-11-30  108893.30  25.66  0.147580\n",
       "251         251  2020-12-31  119017.20  29.74  0.088900\n",
       "\n",
       "[252 rows x 5 columns]"
      ]
     },
     "execution_count": 17,
     "metadata": {},
     "output_type": "execute_result"
    }
   ],
   "source": [
    "Bovespa_data"
   ]
  },
  {
   "cell_type": "code",
   "execution_count": 18,
   "metadata": {},
   "outputs": [
    {
     "name": "stdout",
     "output_type": "stream",
     "text": [
      "                            OLS Regression Results                            \n",
      "==============================================================================\n",
      "Dep. Variable:                  Index   R-squared:                       0.653\n",
      "Model:                            OLS   Adj. R-squared:                  0.651\n",
      "Method:                 Least Squares   F-statistic:                     469.8\n",
      "Date:                Fri, 12 Mar 2021   Prob (F-statistic):           2.43e-59\n",
      "Time:                        12:15:05   Log-Likelihood:                -2786.5\n",
      "No. Observations:                 252   AIC:                             5577.\n",
      "Df Residuals:                     250   BIC:                             5584.\n",
      "Df Model:                           1                                         \n",
      "Covariance Type:            nonrobust                                         \n",
      "==============================================================================\n",
      "                 coef    std err          t      P>|t|      [0.025      0.975]\n",
      "------------------------------------------------------------------------------\n",
      "Intercept  -1.799e+04   3294.700     -5.460      0.000   -2.45e+04   -1.15e+04\n",
      "PE          5696.5609    262.822     21.675      0.000    5178.934    6214.188\n",
      "==============================================================================\n",
      "Omnibus:                       20.474   Durbin-Watson:                   0.272\n",
      "Prob(Omnibus):                  0.000   Jarque-Bera (JB):               11.313\n",
      "Skew:                           0.352   Prob(JB):                      0.00349\n",
      "Kurtosis:                       2.236   Cond. No.                         42.8\n",
      "==============================================================================\n",
      "\n",
      "Warnings:\n",
      "[1] Standard Errors assume that the covariance matrix of the errors is correctly specified.\n"
     ]
    }
   ],
   "source": [
    "# Fit the linear regression model\n",
    "model_price_Bovespa = ols('Index ~ PE', data=Bovespa_data).fit()\n",
    "\n",
    "# View the regression results' summary\n",
    "print(model_price_Bovespa.summary())"
   ]
  },
  {
   "cell_type": "code",
   "execution_count": 19,
   "metadata": {},
   "outputs": [
    {
     "data": {
      "text/plain": [
       "0.27178444533707236"
      ]
     },
     "execution_count": 19,
     "metadata": {},
     "output_type": "execute_result"
    }
   ],
   "source": [
    "# Perform Durbin-Watson test\n",
    "durbin_watson(model_price_Bovespa.resid)"
   ]
  },
  {
   "cell_type": "code",
   "execution_count": 20,
   "metadata": {},
   "outputs": [
    {
     "data": {
      "text/plain": [
       "[('Lagrange Multiplier statistic:', 36.087339213655454),\n",
       " (\"LM test's p-value:\", 1.4579205463236456e-08),\n",
       " ('F-statistic:', 20.80875533531593),\n",
       " (\"F-test's p-value:\", 4.398020994090431e-09)]"
      ]
     },
     "execution_count": 20,
     "metadata": {},
     "output_type": "execute_result"
    }
   ],
   "source": [
    "# Perform White test\n",
    "model_price_Bovespa.resid\n",
    "price_Bovespa, PE_Bovespa = dmatrices('Index ~ PE', Bovespa_data, return_type='dataframe')\n",
    "keys = ['Lagrange Multiplier statistic:', 'LM test\\'s p-value:', 'F-statistic:', 'F-test\\'s p-value:']\n",
    "results_price_Bovespa = het_white(model_price_Bovespa.resid, PE_Bovespa)\n",
    "lzip(keys, results_price_Bovespa)"
   ]
  },
  {
   "cell_type": "code",
   "execution_count": 21,
   "metadata": {},
   "outputs": [
    {
     "name": "stdout",
     "output_type": "stream",
     "text": [
      "                            OLS Regression Results                            \n",
      "==============================================================================\n",
      "Dep. Variable:                  Yield   R-squared:                       0.000\n",
      "Model:                            OLS   Adj. R-squared:                 -0.004\n",
      "Method:                 Least Squares   F-statistic:                   0.08156\n",
      "Date:                Fri, 12 Mar 2021   Prob (F-statistic):              0.775\n",
      "Time:                        12:15:10   Log-Likelihood:                 300.89\n",
      "No. Observations:                 252   AIC:                            -597.8\n",
      "Df Residuals:                     250   BIC:                            -590.7\n",
      "Df Model:                           1                                         \n",
      "Covariance Type:            nonrobust                                         \n",
      "==============================================================================\n",
      "                 coef    std err          t      P>|t|      [0.025      0.975]\n",
      "------------------------------------------------------------------------------\n",
      "Intercept      0.0120      0.016      0.762      0.447      -0.019       0.043\n",
      "PE            -0.0004      0.001     -0.286      0.775      -0.003       0.002\n",
      "==============================================================================\n",
      "Omnibus:                       39.094   Durbin-Watson:                   1.754\n",
      "Prob(Omnibus):                  0.000   Jarque-Bera (JB):               81.123\n",
      "Skew:                          -0.775   Prob(JB):                     2.42e-18\n",
      "Kurtosis:                       5.307   Cond. No.                         42.8\n",
      "==============================================================================\n",
      "\n",
      "Warnings:\n",
      "[1] Standard Errors assume that the covariance matrix of the errors is correctly specified.\n"
     ]
    }
   ],
   "source": [
    "# Fit the linear regression model\n",
    "model_yield_Bovespa = ols('Yield ~ PE', data=Bovespa_data).fit()\n",
    "\n",
    "# View the regression results' summary\n",
    "print(model_yield_Bovespa.summary())"
   ]
  },
  {
   "cell_type": "code",
   "execution_count": 22,
   "metadata": {},
   "outputs": [
    {
     "data": {
      "text/plain": [
       "1.754025855026183"
      ]
     },
     "execution_count": 22,
     "metadata": {},
     "output_type": "execute_result"
    }
   ],
   "source": [
    "# Perform Durbin-Watson test\n",
    "durbin_watson(model_yield_Bovespa.resid)"
   ]
  },
  {
   "cell_type": "code",
   "execution_count": 23,
   "metadata": {},
   "outputs": [
    {
     "data": {
      "text/plain": [
       "[('Lagrange Multiplier statistic:', 4.636989905907528),\n",
       " (\"LM test's p-value:\", 0.09842160333298058),\n",
       " ('F-statistic:', 2.333838204288869),\n",
       " (\"F-test's p-value:\", 0.09903983988868581)]"
      ]
     },
     "execution_count": 23,
     "metadata": {},
     "output_type": "execute_result"
    }
   ],
   "source": [
    "# Perform White test\n",
    "model_yield_Bovespa.resid\n",
    "yield_Bovespa, PE_Bovespa = dmatrices('Yield ~ PE', Bovespa_data, return_type='dataframe')\n",
    "keys = ['Lagrange Multiplier statistic:', 'LM test\\'s p-value:', 'F-statistic:', 'F-test\\'s p-value:']\n",
    "results_yield_Bovespa = het_white(model_yield_Bovespa.resid, PE_Bovespa)\n",
    "lzip(keys, results_yield_Bovespa)"
   ]
  },
  {
   "cell_type": "code",
   "execution_count": 24,
   "metadata": {},
   "outputs": [
    {
     "data": {
      "text/html": [
       "<div>\n",
       "<style scoped>\n",
       "    .dataframe tbody tr th:only-of-type {\n",
       "        vertical-align: middle;\n",
       "    }\n",
       "\n",
       "    .dataframe tbody tr th {\n",
       "        vertical-align: top;\n",
       "    }\n",
       "\n",
       "    .dataframe thead th {\n",
       "        text-align: right;\n",
       "    }\n",
       "</style>\n",
       "<table border=\"1\" class=\"dataframe\">\n",
       "  <thead>\n",
       "    <tr style=\"text-align: right;\">\n",
       "      <th></th>\n",
       "      <th>Unnamed: 0</th>\n",
       "      <th>Date</th>\n",
       "      <th>Index</th>\n",
       "      <th>PE</th>\n",
       "      <th>Yield</th>\n",
       "    </tr>\n",
       "  </thead>\n",
       "  <tbody>\n",
       "    <tr>\n",
       "      <th>0</th>\n",
       "      <td>0</td>\n",
       "      <td>2000-01-31</td>\n",
       "      <td>15532.34</td>\n",
       "      <td>28.03</td>\n",
       "      <td>-0.088057</td>\n",
       "    </tr>\n",
       "    <tr>\n",
       "      <th>1</th>\n",
       "      <td>1</td>\n",
       "      <td>2000-02-29</td>\n",
       "      <td>17169.44</td>\n",
       "      <td>23.65</td>\n",
       "      <td>0.100207</td>\n",
       "    </tr>\n",
       "    <tr>\n",
       "      <th>2</th>\n",
       "      <td>2</td>\n",
       "      <td>2000-03-31</td>\n",
       "      <td>17406.54</td>\n",
       "      <td>26.15</td>\n",
       "      <td>0.013715</td>\n",
       "    </tr>\n",
       "    <tr>\n",
       "      <th>3</th>\n",
       "      <td>3</td>\n",
       "      <td>2000-04-30</td>\n",
       "      <td>15519.30</td>\n",
       "      <td>26.51</td>\n",
       "      <td>-0.114762</td>\n",
       "    </tr>\n",
       "    <tr>\n",
       "      <th>4</th>\n",
       "      <td>4</td>\n",
       "      <td>2000-05-31</td>\n",
       "      <td>14713.86</td>\n",
       "      <td>11.59</td>\n",
       "      <td>-0.053295</td>\n",
       "    </tr>\n",
       "    <tr>\n",
       "      <th>...</th>\n",
       "      <td>...</td>\n",
       "      <td>...</td>\n",
       "      <td>...</td>\n",
       "      <td>...</td>\n",
       "      <td>...</td>\n",
       "    </tr>\n",
       "    <tr>\n",
       "      <th>247</th>\n",
       "      <td>247</td>\n",
       "      <td>2020-08-31</td>\n",
       "      <td>25177.05</td>\n",
       "      <td>10.39</td>\n",
       "      <td>0.023375</td>\n",
       "    </tr>\n",
       "    <tr>\n",
       "      <th>248</th>\n",
       "      <td>248</td>\n",
       "      <td>2020-09-30</td>\n",
       "      <td>23459.05</td>\n",
       "      <td>10.64</td>\n",
       "      <td>-0.070677</td>\n",
       "    </tr>\n",
       "    <tr>\n",
       "      <th>249</th>\n",
       "      <td>249</td>\n",
       "      <td>2020-10-31</td>\n",
       "      <td>24107.42</td>\n",
       "      <td>10.94</td>\n",
       "      <td>0.027263</td>\n",
       "    </tr>\n",
       "    <tr>\n",
       "      <th>250</th>\n",
       "      <td>250</td>\n",
       "      <td>2020-11-30</td>\n",
       "      <td>26341.49</td>\n",
       "      <td>11.39</td>\n",
       "      <td>0.088626</td>\n",
       "    </tr>\n",
       "    <tr>\n",
       "      <th>251</th>\n",
       "      <td>251</td>\n",
       "      <td>2020-12-31</td>\n",
       "      <td>27231.13</td>\n",
       "      <td>12.45</td>\n",
       "      <td>0.033216</td>\n",
       "    </tr>\n",
       "  </tbody>\n",
       "</table>\n",
       "<p>252 rows × 5 columns</p>\n",
       "</div>"
      ],
      "text/plain": [
       "     Unnamed: 0        Date     Index     PE     Yield\n",
       "0             0  2000-01-31  15532.34  28.03 -0.088057\n",
       "1             1  2000-02-29  17169.44  23.65  0.100207\n",
       "2             2  2000-03-31  17406.54  26.15  0.013715\n",
       "3             3  2000-04-30  15519.30  26.51 -0.114762\n",
       "4             4  2000-05-31  14713.86  11.59 -0.053295\n",
       "..          ...         ...       ...    ...       ...\n",
       "247         247  2020-08-31  25177.05  10.39  0.023375\n",
       "248         248  2020-09-30  23459.05  10.64 -0.070677\n",
       "249         249  2020-10-31  24107.42  10.94  0.027263\n",
       "250         250  2020-11-30  26341.49  11.39  0.088626\n",
       "251         251  2020-12-31  27231.13  12.45  0.033216\n",
       "\n",
       "[252 rows x 5 columns]"
      ]
     },
     "execution_count": 24,
     "metadata": {},
     "output_type": "execute_result"
    }
   ],
   "source": [
    "HangSeng_data"
   ]
  },
  {
   "cell_type": "code",
   "execution_count": 25,
   "metadata": {},
   "outputs": [
    {
     "name": "stdout",
     "output_type": "stream",
     "text": [
      "                            OLS Regression Results                            \n",
      "==============================================================================\n",
      "Dep. Variable:                  Index   R-squared:                       0.069\n",
      "Model:                            OLS   Adj. R-squared:                  0.066\n",
      "Method:                 Least Squares   F-statistic:                     18.66\n",
      "Date:                Fri, 12 Mar 2021   Prob (F-statistic):           2.25e-05\n",
      "Time:                        12:15:20   Log-Likelihood:                -2529.8\n",
      "No. Observations:                 252   AIC:                             5064.\n",
      "Df Residuals:                     250   BIC:                             5071.\n",
      "Df Model:                           1                                         \n",
      "Covariance Type:            nonrobust                                         \n",
      "==============================================================================\n",
      "                 coef    std err          t      P>|t|      [0.025      0.975]\n",
      "------------------------------------------------------------------------------\n",
      "Intercept   2.567e+04   1371.426     18.720      0.000     2.3e+04    2.84e+04\n",
      "PE          -413.3698     95.683     -4.320      0.000    -601.818    -224.922\n",
      "==============================================================================\n",
      "Omnibus:                        6.075   Durbin-Watson:                   0.065\n",
      "Prob(Omnibus):                  0.048   Jarque-Bera (JB):                3.489\n",
      "Skew:                          -0.014   Prob(JB):                        0.175\n",
      "Kurtosis:                       2.424   Cond. No.                         56.3\n",
      "==============================================================================\n",
      "\n",
      "Warnings:\n",
      "[1] Standard Errors assume that the covariance matrix of the errors is correctly specified.\n"
     ]
    }
   ],
   "source": [
    "# Fit the linear regression model\n",
    "model_price_HangSeng = ols('Index ~ PE', data=HangSeng_data).fit()\n",
    "\n",
    "# View the regression results' summary\n",
    "print(model_price_HangSeng.summary())"
   ]
  },
  {
   "cell_type": "code",
   "execution_count": 26,
   "metadata": {},
   "outputs": [
    {
     "data": {
      "text/plain": [
       "0.06506317379988792"
      ]
     },
     "execution_count": 26,
     "metadata": {},
     "output_type": "execute_result"
    }
   ],
   "source": [
    "# Perform Durbin-Watson test\n",
    "durbin_watson(model_price_HangSeng.resid)"
   ]
  },
  {
   "cell_type": "code",
   "execution_count": 27,
   "metadata": {},
   "outputs": [
    {
     "data": {
      "text/plain": [
       "[('Lagrange Multiplier statistic:', 14.675817069581925),\n",
       " (\"LM test's p-value:\", 0.0006504094080648314),\n",
       " ('F-statistic:', 7.698917163021073),\n",
       " (\"F-test's p-value:\", 0.000569784942538433)]"
      ]
     },
     "execution_count": 27,
     "metadata": {},
     "output_type": "execute_result"
    }
   ],
   "source": [
    "# Perform White test\n",
    "model_price_HangSeng.resid\n",
    "price_HangSeng, PE_HangSeng = dmatrices('Index ~ PE', HangSeng_data, return_type='dataframe')\n",
    "keys = ['Lagrange Multiplier statistic:', 'LM test\\'s p-value:', 'F-statistic:', 'F-test\\'s p-value:']\n",
    "results_price_HangSeng = het_white(model_price_HangSeng.resid, PE_HangSeng)\n",
    "lzip(keys, results_price_HangSeng)"
   ]
  },
  {
   "cell_type": "code",
   "execution_count": 28,
   "metadata": {},
   "outputs": [
    {
     "name": "stdout",
     "output_type": "stream",
     "text": [
      "                            OLS Regression Results                            \n",
      "==============================================================================\n",
      "Dep. Variable:                  Yield   R-squared:                       0.003\n",
      "Model:                            OLS   Adj. R-squared:                 -0.001\n",
      "Method:                 Least Squares   F-statistic:                    0.7938\n",
      "Date:                Fri, 12 Mar 2021   Prob (F-statistic):              0.374\n",
      "Time:                        12:15:26   Log-Likelihood:                 351.40\n",
      "No. Observations:                 252   AIC:                            -698.8\n",
      "Df Residuals:                     250   BIC:                            -691.7\n",
      "Df Model:                           1                                         \n",
      "Covariance Type:            nonrobust                                         \n",
      "==============================================================================\n",
      "                 coef    std err          t      P>|t|      [0.025      0.975]\n",
      "------------------------------------------------------------------------------\n",
      "Intercept      0.0147      0.015      0.988      0.324      -0.015       0.044\n",
      "PE            -0.0009      0.001     -0.891      0.374      -0.003       0.001\n",
      "==============================================================================\n",
      "Omnibus:                       20.618   Durbin-Watson:                   1.822\n",
      "Prob(Omnibus):                  0.000   Jarque-Bera (JB):               27.958\n",
      "Skew:                          -0.567   Prob(JB):                     8.49e-07\n",
      "Kurtosis:                       4.174   Cond. No.                         56.3\n",
      "==============================================================================\n",
      "\n",
      "Warnings:\n",
      "[1] Standard Errors assume that the covariance matrix of the errors is correctly specified.\n"
     ]
    }
   ],
   "source": [
    "# Fit the linear regression model\n",
    "model_yield_HangSeng = ols('Yield ~ PE', data=HangSeng_data).fit()\n",
    "\n",
    "# View the regression results' summary\n",
    "print(model_yield_HangSeng.summary())"
   ]
  },
  {
   "cell_type": "code",
   "execution_count": 29,
   "metadata": {},
   "outputs": [
    {
     "data": {
      "text/plain": [
       "1.8219067934814017"
      ]
     },
     "execution_count": 29,
     "metadata": {},
     "output_type": "execute_result"
    }
   ],
   "source": [
    "# Perform Durbin-Watson test\n",
    "durbin_watson(model_yield_HangSeng.resid)"
   ]
  },
  {
   "cell_type": "code",
   "execution_count": 30,
   "metadata": {},
   "outputs": [
    {
     "data": {
      "text/plain": [
       "[('Lagrange Multiplier statistic:', 3.657831850369388),\n",
       " (\"LM test's p-value:\", 0.1605875623785748),\n",
       " ('F-statistic:', 1.8337605279204954),\n",
       " (\"F-test's p-value:\", 0.1619630659151445)]"
      ]
     },
     "execution_count": 30,
     "metadata": {},
     "output_type": "execute_result"
    }
   ],
   "source": [
    "# Perform White test\n",
    "model_yield_HangSeng.resid\n",
    "yield_HangSeng, PE_HangSeng = dmatrices('Yield ~ PE', HangSeng_data, return_type='dataframe')\n",
    "keys = ['Lagrange Multiplier statistic:', 'LM test\\'s p-value:', 'F-statistic:', 'F-test\\'s p-value:']\n",
    "results_yield_HangSeng = het_white(model_yield_HangSeng.resid, PE_HangSeng)\n",
    "lzip(keys, results_yield_HangSeng)"
   ]
  },
  {
   "cell_type": "code",
   "execution_count": 31,
   "metadata": {},
   "outputs": [],
   "source": [
    "# Library to perform Phillips Perron test\n",
    "from arch.unitroot import PhillipsPerron"
   ]
  },
  {
   "cell_type": "code",
   "execution_count": 32,
   "metadata": {},
   "outputs": [
    {
     "name": "stdout",
     "output_type": "stream",
     "text": [
      "     Phillips-Perron Test (Z-tau)    \n",
      "=====================================\n",
      "Test Statistic                  2.198\n",
      "P-value                         0.999\n",
      "Lags                                4\n",
      "-------------------------------------\n",
      "\n",
      "Trend: Constant\n",
      "Critical Values: -3.46 (1%), -2.87 (5%), -2.57 (10%)\n",
      "Null Hypothesis: The process contains a unit root.\n",
      "Alternative Hypothesis: The process is weakly stationary.\n",
      "     Phillips-Perron Test (Z-tau)    \n",
      "=====================================\n",
      "Test Statistic                 -0.518\n",
      "P-value                         0.983\n",
      "Lags                                4\n",
      "-------------------------------------\n",
      "\n",
      "Trend: Constant and Linear Time Trend\n",
      "Critical Values: -4.00 (1%), -3.43 (5%), -3.14 (10%)\n",
      "Null Hypothesis: The process contains a unit root.\n",
      "Alternative Hypothesis: The process is weakly stationary.\n",
      "     Phillips-Perron Test (Z-tau)    \n",
      "=====================================\n",
      "Test Statistic                  2.772\n",
      "P-value                         0.999\n",
      "Lags                                4\n",
      "-------------------------------------\n",
      "\n",
      "Trend: No Trend\n",
      "Critical Values: -2.57 (1%), -1.94 (5%), -1.62 (10%)\n",
      "Null Hypothesis: The process contains a unit root.\n",
      "Alternative Hypothesis: The process is weakly stationary.\n"
     ]
    }
   ],
   "source": [
    "# Perform Phillips Perron test for SP500 price\n",
    "SP500_price = SP500_data['Index']\n",
    "PP_SP500_price_c = PhillipsPerron(SP500_price, lags=4, trend='c', test_type='tau')\n",
    "PP_SP500_price_ct = PhillipsPerron(SP500_price, lags=4, trend='ct', test_type='tau')\n",
    "PP_SP500_price_n = PhillipsPerron(SP500_price, lags=4, trend='n', test_type='tau')\n",
    "print(PP_SP500_price_c.summary().as_text())\n",
    "print(PP_SP500_price_ct.summary().as_text())\n",
    "print(PP_SP500_price_n.summary().as_text())"
   ]
  },
  {
   "cell_type": "code",
   "execution_count": 33,
   "metadata": {},
   "outputs": [
    {
     "name": "stdout",
     "output_type": "stream",
     "text": [
      "     Phillips-Perron Test (Z-tau)    \n",
      "=====================================\n",
      "Test Statistic                -14.643\n",
      "P-value                         0.000\n",
      "Lags                                4\n",
      "-------------------------------------\n",
      "\n",
      "Trend: Constant\n",
      "Critical Values: -3.46 (1%), -2.87 (5%), -2.57 (10%)\n",
      "Null Hypothesis: The process contains a unit root.\n",
      "Alternative Hypothesis: The process is weakly stationary.\n",
      "     Phillips-Perron Test (Z-tau)    \n",
      "=====================================\n",
      "Test Statistic                -14.819\n",
      "P-value                         0.000\n",
      "Lags                                4\n",
      "-------------------------------------\n",
      "\n",
      "Trend: Constant and Linear Time Trend\n",
      "Critical Values: -4.00 (1%), -3.43 (5%), -3.14 (10%)\n",
      "Null Hypothesis: The process contains a unit root.\n",
      "Alternative Hypothesis: The process is weakly stationary.\n",
      "     Phillips-Perron Test (Z-tau)    \n",
      "=====================================\n",
      "Test Statistic                -14.571\n",
      "P-value                         0.000\n",
      "Lags                                4\n",
      "-------------------------------------\n",
      "\n",
      "Trend: No Trend\n",
      "Critical Values: -2.57 (1%), -1.94 (5%), -1.62 (10%)\n",
      "Null Hypothesis: The process contains a unit root.\n",
      "Alternative Hypothesis: The process is weakly stationary.\n"
     ]
    }
   ],
   "source": [
    "# Perform Phillips Perron test for SP500 yield\n",
    "SP500_yield = SP500_data['Yield']\n",
    "PP_SP500_yield_c = PhillipsPerron(SP500_yield, lags=4, trend='c', test_type='tau')\n",
    "PP_SP500_yield_ct = PhillipsPerron(SP500_yield, lags=4, trend='ct', test_type='tau')\n",
    "PP_SP500_yield_n = PhillipsPerron(SP500_yield, lags=4, trend='n', test_type='tau')\n",
    "print(PP_SP500_yield_c.summary().as_text())\n",
    "print(PP_SP500_yield_ct.summary().as_text())\n",
    "print(PP_SP500_yield_n.summary().as_text())"
   ]
  },
  {
   "cell_type": "code",
   "execution_count": 34,
   "metadata": {},
   "outputs": [
    {
     "name": "stdout",
     "output_type": "stream",
     "text": [
      "     Phillips-Perron Test (Z-tau)    \n",
      "=====================================\n",
      "Test Statistic                 -3.608\n",
      "P-value                         0.006\n",
      "Lags                                4\n",
      "-------------------------------------\n",
      "\n",
      "Trend: Constant\n",
      "Critical Values: -3.46 (1%), -2.87 (5%), -2.57 (10%)\n",
      "Null Hypothesis: The process contains a unit root.\n",
      "Alternative Hypothesis: The process is weakly stationary.\n",
      "     Phillips-Perron Test (Z-tau)    \n",
      "=====================================\n",
      "Test Statistic                 -3.609\n",
      "P-value                         0.029\n",
      "Lags                                4\n",
      "-------------------------------------\n",
      "\n",
      "Trend: Constant and Linear Time Trend\n",
      "Critical Values: -4.00 (1%), -3.43 (5%), -3.14 (10%)\n",
      "Null Hypothesis: The process contains a unit root.\n",
      "Alternative Hypothesis: The process is weakly stationary.\n",
      "     Phillips-Perron Test (Z-tau)    \n",
      "=====================================\n",
      "Test Statistic                 -1.964\n",
      "P-value                         0.047\n",
      "Lags                                4\n",
      "-------------------------------------\n",
      "\n",
      "Trend: No Trend\n",
      "Critical Values: -2.57 (1%), -1.94 (5%), -1.62 (10%)\n",
      "Null Hypothesis: The process contains a unit root.\n",
      "Alternative Hypothesis: The process is weakly stationary.\n"
     ]
    }
   ],
   "source": [
    "# Perform Phillips Perron test for SP500 PE\n",
    "SP500_PE = SP500_data['PE']\n",
    "PP_SP500_PE_c = PhillipsPerron(SP500_PE, lags=4, trend='c', test_type='tau')\n",
    "PP_SP500_PE_ct = PhillipsPerron(SP500_PE, lags=4, trend='ct', test_type='tau')\n",
    "PP_SP500_PE_n = PhillipsPerron(SP500_PE, lags=4, trend='n', test_type='tau')\n",
    "print(PP_SP500_PE_c.summary().as_text())\n",
    "print(PP_SP500_PE_ct.summary().as_text())\n",
    "print(PP_SP500_PE_n.summary().as_text())"
   ]
  },
  {
   "cell_type": "code",
   "execution_count": 35,
   "metadata": {},
   "outputs": [
    {
     "name": "stdout",
     "output_type": "stream",
     "text": [
      "     Phillips-Perron Test (Z-tau)    \n",
      "=====================================\n",
      "Test Statistic                 -1.777\n",
      "P-value                         0.392\n",
      "Lags                                4\n",
      "-------------------------------------\n",
      "\n",
      "Trend: Constant\n",
      "Critical Values: -3.46 (1%), -2.87 (5%), -2.57 (10%)\n",
      "Null Hypothesis: The process contains a unit root.\n",
      "Alternative Hypothesis: The process is weakly stationary.\n",
      "     Phillips-Perron Test (Z-tau)    \n",
      "=====================================\n",
      "Test Statistic                 -2.815\n",
      "P-value                         0.191\n",
      "Lags                                4\n",
      "-------------------------------------\n",
      "\n",
      "Trend: Constant and Linear Time Trend\n",
      "Critical Values: -4.00 (1%), -3.43 (5%), -3.14 (10%)\n",
      "Null Hypothesis: The process contains a unit root.\n",
      "Alternative Hypothesis: The process is weakly stationary.\n",
      "     Phillips-Perron Test (Z-tau)    \n",
      "=====================================\n",
      "Test Statistic                 -0.234\n",
      "P-value                         0.601\n",
      "Lags                                4\n",
      "-------------------------------------\n",
      "\n",
      "Trend: No Trend\n",
      "Critical Values: -2.57 (1%), -1.94 (5%), -1.62 (10%)\n",
      "Null Hypothesis: The process contains a unit root.\n",
      "Alternative Hypothesis: The process is weakly stationary.\n"
     ]
    }
   ],
   "source": [
    "# Perform Phillips Perron test for FTSE100 price\n",
    "FTSE100_price = FTSE100_data['Index']\n",
    "PP_FTSE100_price_c = PhillipsPerron(FTSE100_price, lags=4, trend='c', test_type='tau')\n",
    "PP_FTSE100_price_ct = PhillipsPerron(FTSE100_price, lags=4, trend='ct', test_type='tau')\n",
    "PP_FTSE100_price_n = PhillipsPerron(FTSE100_price, lags=4, trend='n', test_type='tau')\n",
    "print(PP_FTSE100_price_c.summary().as_text())\n",
    "print(PP_FTSE100_price_ct.summary().as_text())\n",
    "print(PP_FTSE100_price_n.summary().as_text())"
   ]
  },
  {
   "cell_type": "code",
   "execution_count": 36,
   "metadata": {},
   "outputs": [
    {
     "name": "stdout",
     "output_type": "stream",
     "text": [
      "     Phillips-Perron Test (Z-tau)    \n",
      "=====================================\n",
      "Test Statistic                -15.892\n",
      "P-value                         0.000\n",
      "Lags                                4\n",
      "-------------------------------------\n",
      "\n",
      "Trend: Constant\n",
      "Critical Values: -3.46 (1%), -2.87 (5%), -2.57 (10%)\n",
      "Null Hypothesis: The process contains a unit root.\n",
      "Alternative Hypothesis: The process is weakly stationary.\n",
      "     Phillips-Perron Test (Z-tau)    \n",
      "=====================================\n",
      "Test Statistic                -15.874\n",
      "P-value                         0.000\n",
      "Lags                                4\n",
      "-------------------------------------\n",
      "\n",
      "Trend: Constant and Linear Time Trend\n",
      "Critical Values: -4.00 (1%), -3.43 (5%), -3.14 (10%)\n",
      "Null Hypothesis: The process contains a unit root.\n",
      "Alternative Hypothesis: The process is weakly stationary.\n",
      "     Phillips-Perron Test (Z-tau)    \n",
      "=====================================\n",
      "Test Statistic                -15.925\n",
      "P-value                         0.000\n",
      "Lags                                4\n",
      "-------------------------------------\n",
      "\n",
      "Trend: No Trend\n",
      "Critical Values: -2.57 (1%), -1.94 (5%), -1.62 (10%)\n",
      "Null Hypothesis: The process contains a unit root.\n",
      "Alternative Hypothesis: The process is weakly stationary.\n"
     ]
    }
   ],
   "source": [
    "# Perform Phillips Perron test for FTSE100 yield\n",
    "FTSE100_yield = FTSE100_data['Yield']\n",
    "PP_FTSE100_yield_c = PhillipsPerron(FTSE100_yield, lags=4, trend='c', test_type='tau')\n",
    "PP_FTSE100_yield_ct = PhillipsPerron(FTSE100_yield, lags=4, trend='ct', test_type='tau')\n",
    "PP_FTSE100_yield_n = PhillipsPerron(FTSE100_yield, lags=4, trend='n', test_type='tau')\n",
    "print(PP_FTSE100_yield_c.summary().as_text())\n",
    "print(PP_FTSE100_yield_ct.summary().as_text())\n",
    "print(PP_FTSE100_yield_n.summary().as_text())"
   ]
  },
  {
   "cell_type": "code",
   "execution_count": 37,
   "metadata": {},
   "outputs": [
    {
     "name": "stdout",
     "output_type": "stream",
     "text": [
      "     Phillips-Perron Test (Z-tau)    \n",
      "=====================================\n",
      "Test Statistic                 -2.637\n",
      "P-value                         0.085\n",
      "Lags                                4\n",
      "-------------------------------------\n",
      "\n",
      "Trend: Constant\n",
      "Critical Values: -3.46 (1%), -2.87 (5%), -2.57 (10%)\n",
      "Null Hypothesis: The process contains a unit root.\n",
      "Alternative Hypothesis: The process is weakly stationary.\n",
      "     Phillips-Perron Test (Z-tau)    \n",
      "=====================================\n",
      "Test Statistic                 -2.580\n",
      "P-value                         0.289\n",
      "Lags                                4\n",
      "-------------------------------------\n",
      "\n",
      "Trend: Constant and Linear Time Trend\n",
      "Critical Values: -4.00 (1%), -3.43 (5%), -3.14 (10%)\n",
      "Null Hypothesis: The process contains a unit root.\n",
      "Alternative Hypothesis: The process is weakly stationary.\n",
      "     Phillips-Perron Test (Z-tau)    \n",
      "=====================================\n",
      "Test Statistic                 -1.390\n",
      "P-value                         0.153\n",
      "Lags                                4\n",
      "-------------------------------------\n",
      "\n",
      "Trend: No Trend\n",
      "Critical Values: -2.57 (1%), -1.94 (5%), -1.62 (10%)\n",
      "Null Hypothesis: The process contains a unit root.\n",
      "Alternative Hypothesis: The process is weakly stationary.\n"
     ]
    }
   ],
   "source": [
    "# Perform Phillips Perron test for FTSE100 PE\n",
    "FTSE100_PE = FTSE100_data['PE']\n",
    "PP_FTSE100_PE_c = PhillipsPerron(FTSE100_PE, lags=4, trend='c', test_type='tau')\n",
    "PP_FTSE100_PE_ct = PhillipsPerron(FTSE100_PE, lags=4, trend='ct', test_type='tau')\n",
    "PP_FTSE100_PE_n = PhillipsPerron(FTSE100_PE, lags=4, trend='n', test_type='tau')\n",
    "print(PP_FTSE100_PE_c.summary().as_text())\n",
    "print(PP_FTSE100_PE_ct.summary().as_text())\n",
    "print(PP_FTSE100_PE_n.summary().as_text())"
   ]
  },
  {
   "cell_type": "code",
   "execution_count": 38,
   "metadata": {},
   "outputs": [
    {
     "name": "stdout",
     "output_type": "stream",
     "text": [
      "     Phillips-Perron Test (Z-tau)    \n",
      "=====================================\n",
      "Test Statistic                 -0.127\n",
      "P-value                         0.947\n",
      "Lags                                4\n",
      "-------------------------------------\n",
      "\n",
      "Trend: Constant\n",
      "Critical Values: -3.46 (1%), -2.87 (5%), -2.57 (10%)\n",
      "Null Hypothesis: The process contains a unit root.\n",
      "Alternative Hypothesis: The process is weakly stationary.\n",
      "     Phillips-Perron Test (Z-tau)    \n",
      "=====================================\n",
      "Test Statistic                 -2.159\n",
      "P-value                         0.513\n",
      "Lags                                4\n",
      "-------------------------------------\n",
      "\n",
      "Trend: Constant and Linear Time Trend\n",
      "Critical Values: -4.00 (1%), -3.43 (5%), -3.14 (10%)\n",
      "Null Hypothesis: The process contains a unit root.\n",
      "Alternative Hypothesis: The process is weakly stationary.\n",
      "     Phillips-Perron Test (Z-tau)    \n",
      "=====================================\n",
      "Test Statistic                  1.391\n",
      "P-value                         0.959\n",
      "Lags                                4\n",
      "-------------------------------------\n",
      "\n",
      "Trend: No Trend\n",
      "Critical Values: -2.57 (1%), -1.94 (5%), -1.62 (10%)\n",
      "Null Hypothesis: The process contains a unit root.\n",
      "Alternative Hypothesis: The process is weakly stationary.\n"
     ]
    }
   ],
   "source": [
    "# Perform Phillips Perron test for Bovespa price\n",
    "Bovespa_price = Bovespa_data['Index']\n",
    "PP_Bovespa_price_c = PhillipsPerron(Bovespa_price, lags=4, trend='c', test_type='tau')\n",
    "PP_Bovespa_price_ct = PhillipsPerron(Bovespa_price, lags=4, trend='ct', test_type='tau')\n",
    "PP_Bovespa_price_n = PhillipsPerron(Bovespa_price, lags=4, trend='n', test_type='tau')\n",
    "print(PP_Bovespa_price_c.summary().as_text())\n",
    "print(PP_Bovespa_price_ct.summary().as_text())\n",
    "print(PP_Bovespa_price_n.summary().as_text())"
   ]
  },
  {
   "cell_type": "code",
   "execution_count": 39,
   "metadata": {},
   "outputs": [
    {
     "name": "stdout",
     "output_type": "stream",
     "text": [
      "     Phillips-Perron Test (Z-tau)    \n",
      "=====================================\n",
      "Test Statistic                -13.942\n",
      "P-value                         0.000\n",
      "Lags                                4\n",
      "-------------------------------------\n",
      "\n",
      "Trend: Constant\n",
      "Critical Values: -3.46 (1%), -2.87 (5%), -2.57 (10%)\n",
      "Null Hypothesis: The process contains a unit root.\n",
      "Alternative Hypothesis: The process is weakly stationary.\n",
      "     Phillips-Perron Test (Z-tau)    \n",
      "=====================================\n",
      "Test Statistic                -13.913\n",
      "P-value                         0.000\n",
      "Lags                                4\n",
      "-------------------------------------\n",
      "\n",
      "Trend: Constant and Linear Time Trend\n",
      "Critical Values: -4.00 (1%), -3.43 (5%), -3.14 (10%)\n",
      "Null Hypothesis: The process contains a unit root.\n",
      "Alternative Hypothesis: The process is weakly stationary.\n",
      "     Phillips-Perron Test (Z-tau)    \n",
      "=====================================\n",
      "Test Statistic                -13.832\n",
      "P-value                         0.000\n",
      "Lags                                4\n",
      "-------------------------------------\n",
      "\n",
      "Trend: No Trend\n",
      "Critical Values: -2.57 (1%), -1.94 (5%), -1.62 (10%)\n",
      "Null Hypothesis: The process contains a unit root.\n",
      "Alternative Hypothesis: The process is weakly stationary.\n"
     ]
    }
   ],
   "source": [
    "# Perform Phillips Perron test for Bovespa yield\n",
    "Bovespa_yield = Bovespa_data['Yield']\n",
    "PP_Bovespa_yield_c = PhillipsPerron(Bovespa_yield, lags=4, trend='c', test_type='tau')\n",
    "PP_Bovespa_yield_ct = PhillipsPerron(Bovespa_yield, lags=4, trend='ct', test_type='tau')\n",
    "PP_Bovespa_yield_n = PhillipsPerron(Bovespa_yield, lags=4, trend='n', test_type='tau')\n",
    "print(PP_Bovespa_yield_c.summary().as_text())\n",
    "print(PP_Bovespa_yield_ct.summary().as_text())\n",
    "print(PP_Bovespa_yield_n.summary().as_text())"
   ]
  },
  {
   "cell_type": "code",
   "execution_count": 40,
   "metadata": {},
   "outputs": [
    {
     "name": "stdout",
     "output_type": "stream",
     "text": [
      "     Phillips-Perron Test (Z-tau)    \n",
      "=====================================\n",
      "Test Statistic                 -0.893\n",
      "P-value                         0.790\n",
      "Lags                                4\n",
      "-------------------------------------\n",
      "\n",
      "Trend: Constant\n",
      "Critical Values: -3.46 (1%), -2.87 (5%), -2.57 (10%)\n",
      "Null Hypothesis: The process contains a unit root.\n",
      "Alternative Hypothesis: The process is weakly stationary.\n",
      "     Phillips-Perron Test (Z-tau)    \n",
      "=====================================\n",
      "Test Statistic                 -2.559\n",
      "P-value                         0.299\n",
      "Lags                                4\n",
      "-------------------------------------\n",
      "\n",
      "Trend: Constant and Linear Time Trend\n",
      "Critical Values: -4.00 (1%), -3.43 (5%), -3.14 (10%)\n",
      "Null Hypothesis: The process contains a unit root.\n",
      "Alternative Hypothesis: The process is weakly stationary.\n",
      "     Phillips-Perron Test (Z-tau)    \n",
      "=====================================\n",
      "Test Statistic                  0.884\n",
      "P-value                         0.899\n",
      "Lags                                4\n",
      "-------------------------------------\n",
      "\n",
      "Trend: No Trend\n",
      "Critical Values: -2.57 (1%), -1.94 (5%), -1.62 (10%)\n",
      "Null Hypothesis: The process contains a unit root.\n",
      "Alternative Hypothesis: The process is weakly stationary.\n"
     ]
    }
   ],
   "source": [
    "# Perform Phillips Perron test for Bovespa PE\n",
    "Bovespa_PE = Bovespa_data['PE']\n",
    "PP_Bovespa_PE_c = PhillipsPerron(Bovespa_PE, lags=4, trend='c', test_type='tau')\n",
    "PP_Bovespa_PE_ct = PhillipsPerron(Bovespa_PE, lags=4, trend='ct', test_type='tau')\n",
    "PP_Bovespa_PE_n = PhillipsPerron(Bovespa_PE, lags=4, trend='n', test_type='tau')\n",
    "print(PP_Bovespa_PE_c.summary().as_text())\n",
    "print(PP_Bovespa_PE_ct.summary().as_text())\n",
    "print(PP_Bovespa_PE_n.summary().as_text())"
   ]
  },
  {
   "cell_type": "code",
   "execution_count": 41,
   "metadata": {},
   "outputs": [
    {
     "name": "stdout",
     "output_type": "stream",
     "text": [
      "     Phillips-Perron Test (Z-tau)    \n",
      "=====================================\n",
      "Test Statistic                 -1.616\n",
      "P-value                         0.475\n",
      "Lags                                4\n",
      "-------------------------------------\n",
      "\n",
      "Trend: Constant\n",
      "Critical Values: -3.46 (1%), -2.87 (5%), -2.57 (10%)\n",
      "Null Hypothesis: The process contains a unit root.\n",
      "Alternative Hypothesis: The process is weakly stationary.\n",
      "     Phillips-Perron Test (Z-tau)    \n",
      "=====================================\n",
      "Test Statistic                 -3.494\n",
      "P-value                         0.040\n",
      "Lags                                4\n",
      "-------------------------------------\n",
      "\n",
      "Trend: Constant and Linear Time Trend\n",
      "Critical Values: -4.00 (1%), -3.43 (5%), -3.14 (10%)\n",
      "Null Hypothesis: The process contains a unit root.\n",
      "Alternative Hypothesis: The process is weakly stationary.\n",
      "     Phillips-Perron Test (Z-tau)    \n",
      "=====================================\n",
      "Test Statistic                  0.128\n",
      "P-value                         0.725\n",
      "Lags                                4\n",
      "-------------------------------------\n",
      "\n",
      "Trend: No Trend\n",
      "Critical Values: -2.57 (1%), -1.94 (5%), -1.62 (10%)\n",
      "Null Hypothesis: The process contains a unit root.\n",
      "Alternative Hypothesis: The process is weakly stationary.\n"
     ]
    }
   ],
   "source": [
    "# Perform Phillips Perron test for HangSeng price\n",
    "HangSeng_price = HangSeng_data['Index']\n",
    "PP_HangSeng_price_c = PhillipsPerron(HangSeng_price, lags=4, trend='c', test_type='tau')\n",
    "PP_HangSeng_price_ct = PhillipsPerron(HangSeng_price, lags=4, trend='ct', test_type='tau')\n",
    "PP_HangSeng_price_n = PhillipsPerron(HangSeng_price, lags=4, trend='n', test_type='tau')\n",
    "print(PP_HangSeng_price_c.summary().as_text())\n",
    "print(PP_HangSeng_price_ct.summary().as_text())\n",
    "print(PP_HangSeng_price_n.summary().as_text())"
   ]
  },
  {
   "cell_type": "code",
   "execution_count": 42,
   "metadata": {},
   "outputs": [
    {
     "name": "stdout",
     "output_type": "stream",
     "text": [
      "     Phillips-Perron Test (Z-tau)    \n",
      "=====================================\n",
      "Test Statistic                -14.694\n",
      "P-value                         0.000\n",
      "Lags                                4\n",
      "-------------------------------------\n",
      "\n",
      "Trend: Constant\n",
      "Critical Values: -3.46 (1%), -2.87 (5%), -2.57 (10%)\n",
      "Null Hypothesis: The process contains a unit root.\n",
      "Alternative Hypothesis: The process is weakly stationary.\n",
      "     Phillips-Perron Test (Z-tau)    \n",
      "=====================================\n",
      "Test Statistic                -14.669\n",
      "P-value                         0.000\n",
      "Lags                                4\n",
      "-------------------------------------\n",
      "\n",
      "Trend: Constant and Linear Time Trend\n",
      "Critical Values: -4.00 (1%), -3.43 (5%), -3.14 (10%)\n",
      "Null Hypothesis: The process contains a unit root.\n",
      "Alternative Hypothesis: The process is weakly stationary.\n",
      "     Phillips-Perron Test (Z-tau)    \n",
      "=====================================\n",
      "Test Statistic                -14.706\n",
      "P-value                         0.000\n",
      "Lags                                4\n",
      "-------------------------------------\n",
      "\n",
      "Trend: No Trend\n",
      "Critical Values: -2.57 (1%), -1.94 (5%), -1.62 (10%)\n",
      "Null Hypothesis: The process contains a unit root.\n",
      "Alternative Hypothesis: The process is weakly stationary.\n"
     ]
    }
   ],
   "source": [
    "# Perform Phillips Perron test for HangSeng yield\n",
    "HangSeng_yield = HangSeng_data['Yield']\n",
    "PP_HangSeng_yield_c = PhillipsPerron(HangSeng_yield, lags=4, trend='c', test_type='tau')\n",
    "PP_HangSeng_yield_ct = PhillipsPerron(HangSeng_yield, lags=4, trend='ct', test_type='tau')\n",
    "PP_HangSeng_yield_n = PhillipsPerron(HangSeng_yield, lags=4, trend='n', test_type='tau')\n",
    "print(PP_HangSeng_yield_c.summary().as_text())\n",
    "print(PP_HangSeng_yield_ct.summary().as_text())\n",
    "print(PP_HangSeng_yield_n.summary().as_text())"
   ]
  },
  {
   "cell_type": "code",
   "execution_count": 43,
   "metadata": {},
   "outputs": [
    {
     "name": "stdout",
     "output_type": "stream",
     "text": [
      "     Phillips-Perron Test (Z-tau)    \n",
      "=====================================\n",
      "Test Statistic                 -4.700\n",
      "P-value                         0.000\n",
      "Lags                                4\n",
      "-------------------------------------\n",
      "\n",
      "Trend: Constant\n",
      "Critical Values: -3.46 (1%), -2.87 (5%), -2.57 (10%)\n",
      "Null Hypothesis: The process contains a unit root.\n",
      "Alternative Hypothesis: The process is weakly stationary.\n",
      "     Phillips-Perron Test (Z-tau)    \n",
      "=====================================\n",
      "Test Statistic                 -5.126\n",
      "P-value                         0.000\n",
      "Lags                                4\n",
      "-------------------------------------\n",
      "\n",
      "Trend: Constant and Linear Time Trend\n",
      "Critical Values: -4.00 (1%), -3.43 (5%), -3.14 (10%)\n",
      "Null Hypothesis: The process contains a unit root.\n",
      "Alternative Hypothesis: The process is weakly stationary.\n",
      "     Phillips-Perron Test (Z-tau)    \n",
      "=====================================\n",
      "Test Statistic                 -1.760\n",
      "P-value                         0.074\n",
      "Lags                                4\n",
      "-------------------------------------\n",
      "\n",
      "Trend: No Trend\n",
      "Critical Values: -2.57 (1%), -1.94 (5%), -1.62 (10%)\n",
      "Null Hypothesis: The process contains a unit root.\n",
      "Alternative Hypothesis: The process is weakly stationary.\n"
     ]
    }
   ],
   "source": [
    "# Perform Phillips Perron test for HangSeng PE\n",
    "HangSeng_PE = HangSeng_data['PE']\n",
    "PP_HangSeng_PE_c = PhillipsPerron(HangSeng_PE, lags=4, trend='c', test_type='tau')\n",
    "PP_HangSeng_PE_ct = PhillipsPerron(HangSeng_PE, lags=4, trend='ct', test_type='tau')\n",
    "PP_HangSeng_PE_n = PhillipsPerron(HangSeng_PE, lags=4, trend='n', test_type='tau')\n",
    "print(PP_HangSeng_PE_c.summary().as_text())\n",
    "print(PP_HangSeng_PE_ct.summary().as_text())\n",
    "print(PP_HangSeng_PE_n.summary().as_text())"
   ]
  }
 ],
 "metadata": {
  "kernelspec": {
   "display_name": "Python 3",
   "language": "python",
   "name": "python3"
  },
  "language_info": {
   "codemirror_mode": {
    "name": "ipython",
    "version": 3
   },
   "file_extension": ".py",
   "mimetype": "text/x-python",
   "name": "python",
   "nbconvert_exporter": "python",
   "pygments_lexer": "ipython3",
   "version": "3.8.3"
  }
 },
 "nbformat": 4,
 "nbformat_minor": 4
}

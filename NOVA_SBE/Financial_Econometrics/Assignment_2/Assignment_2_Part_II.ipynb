{
 "cells": [
  {
   "cell_type": "code",
   "execution_count": 1,
   "metadata": {},
   "outputs": [],
   "source": [
    "# Tabular data manipulation\n",
    "import pandas as pd\n",
    "import numpy as np\n",
    "\n",
    "# Data manipulation\n",
    "import re\n",
    "\n",
    "# Modeling\n",
    "import statsmodels.api as sm\n",
    "import statsmodels.formula.api as smf\n",
    "from statsmodels.graphics import tsaplots #ACF PACF\n",
    "\n",
    "# Type-hinting\n",
    "from typing import NewType, List, Tuple, Union\n",
    "from dataenforce import Dataset\n",
    "\n",
    "# Plotting\n",
    "import matplotlib.pyplot as plt\n",
    "\n",
    "# FP\n",
    "import pdpipe as pdp\n",
    "from functools import reduce\n",
    "\n",
    "# Tests\n",
    "#import arch"
   ]
  },
  {
   "cell_type": "code",
   "execution_count": null,
   "metadata": {},
   "outputs": [],
   "source": []
  },
  {
   "cell_type": "code",
   "execution_count": 3,
   "metadata": {},
   "outputs": [],
   "source": [
    "import datetime as dt\n",
    "import pandas_datareader.data as web\n",
    "st = dt.datetime(1990,1,1)\n",
    "en = dt.datetime(2020,1,1)\n",
    "data = web.get_data_yahoo('AAPL', start=st, end=en)\n",
    "data\n",
    "returns = data['Adj Close'].pct_change().dropna()"
   ]
  },
  {
   "cell_type": "code",
   "execution_count": 4,
   "metadata": {},
   "outputs": [
    {
     "data": {
      "text/html": [
       "<div>\n",
       "<style scoped>\n",
       "    .dataframe tbody tr th:only-of-type {\n",
       "        vertical-align: middle;\n",
       "    }\n",
       "\n",
       "    .dataframe tbody tr th {\n",
       "        vertical-align: top;\n",
       "    }\n",
       "\n",
       "    .dataframe thead th {\n",
       "        text-align: right;\n",
       "    }\n",
       "</style>\n",
       "<table border=\"1\" class=\"dataframe\">\n",
       "  <thead>\n",
       "    <tr style=\"text-align: right;\">\n",
       "      <th></th>\n",
       "      <th>Open</th>\n",
       "      <th>High</th>\n",
       "      <th>Low</th>\n",
       "      <th>Close</th>\n",
       "      <th>Volume</th>\n",
       "      <th>Dividends</th>\n",
       "      <th>Stock Splits</th>\n",
       "    </tr>\n",
       "    <tr>\n",
       "      <th>Date</th>\n",
       "      <th></th>\n",
       "      <th></th>\n",
       "      <th></th>\n",
       "      <th></th>\n",
       "      <th></th>\n",
       "      <th></th>\n",
       "      <th></th>\n",
       "    </tr>\n",
       "  </thead>\n",
       "  <tbody>\n",
       "    <tr>\n",
       "      <th>2001-10-12</th>\n",
       "      <td>17.614477</td>\n",
       "      <td>17.911741</td>\n",
       "      <td>17.250802</td>\n",
       "      <td>17.829519</td>\n",
       "      <td>63307000</td>\n",
       "      <td>0.0</td>\n",
       "      <td>0.0</td>\n",
       "    </tr>\n",
       "    <tr>\n",
       "      <th>2001-10-15</th>\n",
       "      <td>17.677727</td>\n",
       "      <td>18.499946</td>\n",
       "      <td>17.661914</td>\n",
       "      <td>18.360802</td>\n",
       "      <td>68437000</td>\n",
       "      <td>0.0</td>\n",
       "      <td>0.0</td>\n",
       "    </tr>\n",
       "    <tr>\n",
       "      <th>2001-10-16</th>\n",
       "      <td>18.300708</td>\n",
       "      <td>18.629596</td>\n",
       "      <td>18.091991</td>\n",
       "      <td>18.484127</td>\n",
       "      <td>66169000</td>\n",
       "      <td>0.0</td>\n",
       "      <td>0.0</td>\n",
       "    </tr>\n",
       "    <tr>\n",
       "      <th>2001-10-17</th>\n",
       "      <td>18.696004</td>\n",
       "      <td>18.752927</td>\n",
       "      <td>17.703017</td>\n",
       "      <td>17.718828</td>\n",
       "      <td>73710600</td>\n",
       "      <td>0.0</td>\n",
       "      <td>0.0</td>\n",
       "    </tr>\n",
       "    <tr>\n",
       "      <th>2001-10-18</th>\n",
       "      <td>17.816868</td>\n",
       "      <td>18.209004</td>\n",
       "      <td>17.551228</td>\n",
       "      <td>17.946526</td>\n",
       "      <td>78348000</td>\n",
       "      <td>0.0</td>\n",
       "      <td>0.0</td>\n",
       "    </tr>\n",
       "  </tbody>\n",
       "</table>\n",
       "</div>"
      ],
      "text/plain": [
       "                 Open       High        Low      Close    Volume  Dividends  \\\n",
       "Date                                                                          \n",
       "2001-10-12  17.614477  17.911741  17.250802  17.829519  63307000        0.0   \n",
       "2001-10-15  17.677727  18.499946  17.661914  18.360802  68437000        0.0   \n",
       "2001-10-16  18.300708  18.629596  18.091991  18.484127  66169000        0.0   \n",
       "2001-10-17  18.696004  18.752927  17.703017  17.718828  73710600        0.0   \n",
       "2001-10-18  17.816868  18.209004  17.551228  17.946526  78348000        0.0   \n",
       "\n",
       "            Stock Splits  \n",
       "Date                      \n",
       "2001-10-12           0.0  \n",
       "2001-10-15           0.0  \n",
       "2001-10-16           0.0  \n",
       "2001-10-17           0.0  \n",
       "2001-10-18           0.0  "
      ]
     },
     "execution_count": 4,
     "metadata": {},
     "output_type": "execute_result"
    }
   ],
   "source": [
    "import yfinance as yf\n",
    "\n",
    "msft = yf.Ticker(\"MSFT\")\n",
    "\n",
    "# get stock info\n",
    "hist = msft.history(period=\"20y\")\n",
    "hist.head()"
   ]
  },
  {
   "cell_type": "code",
   "execution_count": 5,
   "metadata": {},
   "outputs": [
    {
     "data": {
      "text/html": [
       "<div>\n",
       "<style scoped>\n",
       "    .dataframe tbody tr th:only-of-type {\n",
       "        vertical-align: middle;\n",
       "    }\n",
       "\n",
       "    .dataframe tbody tr th {\n",
       "        vertical-align: top;\n",
       "    }\n",
       "\n",
       "    .dataframe thead th {\n",
       "        text-align: right;\n",
       "    }\n",
       "</style>\n",
       "<table border=\"1\" class=\"dataframe\">\n",
       "  <thead>\n",
       "    <tr style=\"text-align: right;\">\n",
       "      <th></th>\n",
       "      <th>High</th>\n",
       "      <th>Low</th>\n",
       "      <th>Open</th>\n",
       "      <th>Close</th>\n",
       "      <th>Volume</th>\n",
       "      <th>Adj Close</th>\n",
       "    </tr>\n",
       "    <tr>\n",
       "      <th>Date</th>\n",
       "      <th></th>\n",
       "      <th></th>\n",
       "      <th></th>\n",
       "      <th></th>\n",
       "      <th></th>\n",
       "      <th></th>\n",
       "    </tr>\n",
       "  </thead>\n",
       "  <tbody>\n",
       "    <tr>\n",
       "      <th>1990-01-02</th>\n",
       "      <td>0.334821</td>\n",
       "      <td>0.312500</td>\n",
       "      <td>0.314732</td>\n",
       "      <td>0.332589</td>\n",
       "      <td>183198400.0</td>\n",
       "      <td>0.266812</td>\n",
       "    </tr>\n",
       "    <tr>\n",
       "      <th>1990-01-03</th>\n",
       "      <td>0.339286</td>\n",
       "      <td>0.334821</td>\n",
       "      <td>0.339286</td>\n",
       "      <td>0.334821</td>\n",
       "      <td>207995200.0</td>\n",
       "      <td>0.268603</td>\n",
       "    </tr>\n",
       "    <tr>\n",
       "      <th>1990-01-04</th>\n",
       "      <td>0.345982</td>\n",
       "      <td>0.332589</td>\n",
       "      <td>0.341518</td>\n",
       "      <td>0.335938</td>\n",
       "      <td>221513600.0</td>\n",
       "      <td>0.269499</td>\n",
       "    </tr>\n",
       "    <tr>\n",
       "      <th>1990-01-05</th>\n",
       "      <td>0.341518</td>\n",
       "      <td>0.330357</td>\n",
       "      <td>0.337054</td>\n",
       "      <td>0.337054</td>\n",
       "      <td>123312000.0</td>\n",
       "      <td>0.270394</td>\n",
       "    </tr>\n",
       "    <tr>\n",
       "      <th>1990-01-08</th>\n",
       "      <td>0.339286</td>\n",
       "      <td>0.330357</td>\n",
       "      <td>0.334821</td>\n",
       "      <td>0.339286</td>\n",
       "      <td>101572800.0</td>\n",
       "      <td>0.272185</td>\n",
       "    </tr>\n",
       "  </tbody>\n",
       "</table>\n",
       "</div>"
      ],
      "text/plain": [
       "                High       Low      Open     Close       Volume  Adj Close\n",
       "Date                                                                      \n",
       "1990-01-02  0.334821  0.312500  0.314732  0.332589  183198400.0   0.266812\n",
       "1990-01-03  0.339286  0.334821  0.339286  0.334821  207995200.0   0.268603\n",
       "1990-01-04  0.345982  0.332589  0.341518  0.335938  221513600.0   0.269499\n",
       "1990-01-05  0.341518  0.330357  0.337054  0.337054  123312000.0   0.270394\n",
       "1990-01-08  0.339286  0.330357  0.334821  0.339286  101572800.0   0.272185"
      ]
     },
     "execution_count": 5,
     "metadata": {},
     "output_type": "execute_result"
    }
   ],
   "source": [
    "data.head()"
   ]
  },
  {
   "cell_type": "code",
   "execution_count": 6,
   "metadata": {},
   "outputs": [
    {
     "data": {
      "text/plain": [
       "<AxesSubplot:xlabel='Date'>"
      ]
     },
     "execution_count": 6,
     "metadata": {},
     "output_type": "execute_result"
    },
    {
     "data": {
      "image/png": "[encoded data removed]",
      "text/plain": [
       "<Figure size 1152x648 with 1 Axes>"
      ]
     },
     "metadata": {
      "needs_background": "light"
     },
     "output_type": "display_data"
    }
   ],
   "source": [
    "import matplotlib.pyplot as plt\n",
    "import seaborn\n",
    "\n",
    "# Plot everything by leveraging the very powerful matplotlib package\n",
    "hist.plot(figsize=(16, 9))"
   ]
  },
  {
   "cell_type": "markdown",
   "metadata": {},
   "source": [
    "# Data Import"
   ]
  },
  {
   "cell_type": "code",
   "execution_count": 7,
   "metadata": {},
   "outputs": [],
   "source": [
    "pd_timestamp = NewType('pd_timestamp', pd._libs.tslibs.timestamps.Timestamp)"
   ]
  },
  {
   "cell_type": "code",
   "execution_count": 8,
   "metadata": {},
   "outputs": [],
   "source": [
    "sheets=['PE (TTM) Ratios', 'Equity Price Indices']\n",
    "indexes=['S&P 500', 'FTSE 100', 'Bovespa', 'Hang Seng']"
   ]
  },
  {
   "cell_type": "code",
   "execution_count": 9,
   "metadata": {},
   "outputs": [],
   "source": [
    "# Importing Indexes\n",
    "\n",
    "def import_index_and_pe_data(excel_filepath: str, sheets: List[str]) -> Tuple[Dataset, Dataset]:\n",
    "    \"\"\"\n",
    "    Params:\n",
    "    -----------\n",
    "    excel_filepath: str\n",
    "      A filepath specifying the filepath to Excel\n",
    "      \n",
    "    sheets: List[str]\n",
    "      A list of sheets names\n",
    "      \n",
    "    Returns:\n",
    "    -----------\n",
    "    \n",
    "    \"\"\"\n",
    "    data = pd.read_excel(excel_filepath, sheet_name=None, skiprows=2)\n",
    "    num_sheets=len(sheets)\n",
    "    \n",
    "    eval_expression = \", \".join(f'data[\\'{sheet}\\'][::-1].reset_index(drop=True)' for sheet in sheets)\n",
    "    \n",
    "    return eval(eval_expression)\n"
   ]
  },
  {
   "cell_type": "code",
   "execution_count": 10,
   "metadata": {},
   "outputs": [
    {
     "ename": "FileNotFoundError",
     "evalue": "[Errno 2] No such file or directory: 'Global_Equity_Valuations_Researcher_Dataset.xlsx'",
     "output_type": "error",
     "traceback": [
      "\u001b[1;31m---------------------------------------------------------------------------\u001b[0m",
      "\u001b[1;31mFileNotFoundError\u001b[0m                         Traceback (most recent call last)",
      "\u001b[1;32m<ipython-input-10-e41baf3023fa>\u001b[0m in \u001b[0;36m<module>\u001b[1;34m\u001b[0m\n\u001b[1;32m----> 1\u001b[1;33m index, pe_ratio = import_index_and_pe_data(\n\u001b[0m\u001b[0;32m      2\u001b[0m     \u001b[0mexcel_filepath\u001b[0m\u001b[1;33m=\u001b[0m\u001b[1;34m'Global_Equity_Valuations_Researcher_Dataset.xlsx'\u001b[0m\u001b[1;33m,\u001b[0m\u001b[1;33m\u001b[0m\u001b[1;33m\u001b[0m\u001b[0m\n\u001b[0;32m      3\u001b[0m     sheets=['Equity Price Indices', 'PE (TTM) Ratios'])\n",
      "\u001b[1;32m<ipython-input-9-f2453cc25f40>\u001b[0m in \u001b[0;36mimport_index_and_pe_data\u001b[1;34m(excel_filepath, sheets)\u001b[0m\n\u001b[0;32m     15\u001b[0m \u001b[1;33m\u001b[0m\u001b[0m\n\u001b[0;32m     16\u001b[0m     \"\"\"\n\u001b[1;32m---> 17\u001b[1;33m     \u001b[0mdata\u001b[0m \u001b[1;33m=\u001b[0m \u001b[0mpd\u001b[0m\u001b[1;33m.\u001b[0m\u001b[0mread_excel\u001b[0m\u001b[1;33m(\u001b[0m\u001b[0mexcel_filepath\u001b[0m\u001b[1;33m,\u001b[0m \u001b[0msheet_name\u001b[0m\u001b[1;33m=\u001b[0m\u001b[1;32mNone\u001b[0m\u001b[1;33m,\u001b[0m \u001b[0mskiprows\u001b[0m\u001b[1;33m=\u001b[0m\u001b[1;36m2\u001b[0m\u001b[1;33m)\u001b[0m\u001b[1;33m\u001b[0m\u001b[1;33m\u001b[0m\u001b[0m\n\u001b[0m\u001b[0;32m     18\u001b[0m     \u001b[0mnum_sheets\u001b[0m\u001b[1;33m=\u001b[0m\u001b[0mlen\u001b[0m\u001b[1;33m(\u001b[0m\u001b[0msheets\u001b[0m\u001b[1;33m)\u001b[0m\u001b[1;33m\u001b[0m\u001b[1;33m\u001b[0m\u001b[0m\n\u001b[0;32m     19\u001b[0m \u001b[1;33m\u001b[0m\u001b[0m\n",
      "\u001b[1;32m~\\.conda\\envs\\mlcourse\\lib\\site-packages\\pandas\\util\\_decorators.py\u001b[0m in \u001b[0;36mwrapper\u001b[1;34m(*args, **kwargs)\u001b[0m\n\u001b[0;32m    297\u001b[0m                 )\n\u001b[0;32m    298\u001b[0m                 \u001b[0mwarnings\u001b[0m\u001b[1;33m.\u001b[0m\u001b[0mwarn\u001b[0m\u001b[1;33m(\u001b[0m\u001b[0mmsg\u001b[0m\u001b[1;33m,\u001b[0m \u001b[0mFutureWarning\u001b[0m\u001b[1;33m,\u001b[0m \u001b[0mstacklevel\u001b[0m\u001b[1;33m=\u001b[0m\u001b[0mstacklevel\u001b[0m\u001b[1;33m)\u001b[0m\u001b[1;33m\u001b[0m\u001b[1;33m\u001b[0m\u001b[0m\n\u001b[1;32m--> 299\u001b[1;33m             \u001b[1;32mreturn\u001b[0m \u001b[0mfunc\u001b[0m\u001b[1;33m(\u001b[0m\u001b[1;33m*\u001b[0m\u001b[0margs\u001b[0m\u001b[1;33m,\u001b[0m \u001b[1;33m**\u001b[0m\u001b[0mkwargs\u001b[0m\u001b[1;33m)\u001b[0m\u001b[1;33m\u001b[0m\u001b[1;33m\u001b[0m\u001b[0m\n\u001b[0m\u001b[0;32m    300\u001b[0m \u001b[1;33m\u001b[0m\u001b[0m\n\u001b[0;32m    301\u001b[0m         \u001b[1;32mreturn\u001b[0m \u001b[0mwrapper\u001b[0m\u001b[1;33m\u001b[0m\u001b[1;33m\u001b[0m\u001b[0m\n",
      "\u001b[1;32m~\\.conda\\envs\\mlcourse\\lib\\site-packages\\pandas\\io\\excel\\_base.py\u001b[0m in \u001b[0;36mread_excel\u001b[1;34m(io, sheet_name, header, names, index_col, usecols, squeeze, dtype, engine, converters, true_values, false_values, skiprows, nrows, na_values, keep_default_na, na_filter, verbose, parse_dates, date_parser, thousands, comment, skipfooter, convert_float, mangle_dupe_cols, storage_options)\u001b[0m\n\u001b[0;32m    334\u001b[0m     \u001b[1;32mif\u001b[0m \u001b[1;32mnot\u001b[0m \u001b[0misinstance\u001b[0m\u001b[1;33m(\u001b[0m\u001b[0mio\u001b[0m\u001b[1;33m,\u001b[0m \u001b[0mExcelFile\u001b[0m\u001b[1;33m)\u001b[0m\u001b[1;33m:\u001b[0m\u001b[1;33m\u001b[0m\u001b[1;33m\u001b[0m\u001b[0m\n\u001b[0;32m    335\u001b[0m         \u001b[0mshould_close\u001b[0m \u001b[1;33m=\u001b[0m \u001b[1;32mTrue\u001b[0m\u001b[1;33m\u001b[0m\u001b[1;33m\u001b[0m\u001b[0m\n\u001b[1;32m--> 336\u001b[1;33m         \u001b[0mio\u001b[0m \u001b[1;33m=\u001b[0m \u001b[0mExcelFile\u001b[0m\u001b[1;33m(\u001b[0m\u001b[0mio\u001b[0m\u001b[1;33m,\u001b[0m \u001b[0mstorage_options\u001b[0m\u001b[1;33m=\u001b[0m\u001b[0mstorage_options\u001b[0m\u001b[1;33m,\u001b[0m \u001b[0mengine\u001b[0m\u001b[1;33m=\u001b[0m\u001b[0mengine\u001b[0m\u001b[1;33m)\u001b[0m\u001b[1;33m\u001b[0m\u001b[1;33m\u001b[0m\u001b[0m\n\u001b[0m\u001b[0;32m    337\u001b[0m     \u001b[1;32melif\u001b[0m \u001b[0mengine\u001b[0m \u001b[1;32mand\u001b[0m \u001b[0mengine\u001b[0m \u001b[1;33m!=\u001b[0m \u001b[0mio\u001b[0m\u001b[1;33m.\u001b[0m\u001b[0mengine\u001b[0m\u001b[1;33m:\u001b[0m\u001b[1;33m\u001b[0m\u001b[1;33m\u001b[0m\u001b[0m\n\u001b[0;32m    338\u001b[0m         raise ValueError(\n",
      "\u001b[1;32m~\\.conda\\envs\\mlcourse\\lib\\site-packages\\pandas\\io\\excel\\_base.py\u001b[0m in \u001b[0;36m__init__\u001b[1;34m(self, path_or_buffer, engine, storage_options)\u001b[0m\n\u001b[0;32m   1069\u001b[0m                 \u001b[0mext\u001b[0m \u001b[1;33m=\u001b[0m \u001b[1;34m\"xls\"\u001b[0m\u001b[1;33m\u001b[0m\u001b[1;33m\u001b[0m\u001b[0m\n\u001b[0;32m   1070\u001b[0m             \u001b[1;32melse\u001b[0m\u001b[1;33m:\u001b[0m\u001b[1;33m\u001b[0m\u001b[1;33m\u001b[0m\u001b[0m\n\u001b[1;32m-> 1071\u001b[1;33m                 ext = inspect_excel_format(\n\u001b[0m\u001b[0;32m   1072\u001b[0m                     \u001b[0mcontent\u001b[0m\u001b[1;33m=\u001b[0m\u001b[0mpath_or_buffer\u001b[0m\u001b[1;33m,\u001b[0m \u001b[0mstorage_options\u001b[0m\u001b[1;33m=\u001b[0m\u001b[0mstorage_options\u001b[0m\u001b[1;33m\u001b[0m\u001b[1;33m\u001b[0m\u001b[0m\n\u001b[0;32m   1073\u001b[0m                 )\n",
      "\u001b[1;32m~\\.conda\\envs\\mlcourse\\lib\\site-packages\\pandas\\io\\excel\\_base.py\u001b[0m in \u001b[0;36minspect_excel_format\u001b[1;34m(path, content, storage_options)\u001b[0m\n\u001b[0;32m    947\u001b[0m     \u001b[1;32massert\u001b[0m \u001b[0mcontent_or_path\u001b[0m \u001b[1;32mis\u001b[0m \u001b[1;32mnot\u001b[0m \u001b[1;32mNone\u001b[0m\u001b[1;33m\u001b[0m\u001b[1;33m\u001b[0m\u001b[0m\n\u001b[0;32m    948\u001b[0m \u001b[1;33m\u001b[0m\u001b[0m\n\u001b[1;32m--> 949\u001b[1;33m     with get_handle(\n\u001b[0m\u001b[0;32m    950\u001b[0m         \u001b[0mcontent_or_path\u001b[0m\u001b[1;33m,\u001b[0m \u001b[1;34m\"rb\"\u001b[0m\u001b[1;33m,\u001b[0m \u001b[0mstorage_options\u001b[0m\u001b[1;33m=\u001b[0m\u001b[0mstorage_options\u001b[0m\u001b[1;33m,\u001b[0m \u001b[0mis_text\u001b[0m\u001b[1;33m=\u001b[0m\u001b[1;32mFalse\u001b[0m\u001b[1;33m\u001b[0m\u001b[1;33m\u001b[0m\u001b[0m\n\u001b[0;32m    951\u001b[0m     ) as handle:\n",
      "\u001b[1;32m~\\.conda\\envs\\mlcourse\\lib\\site-packages\\pandas\\io\\common.py\u001b[0m in \u001b[0;36mget_handle\u001b[1;34m(path_or_buf, mode, encoding, compression, memory_map, is_text, errors, storage_options)\u001b[0m\n\u001b[0;32m    649\u001b[0m         \u001b[1;32melse\u001b[0m\u001b[1;33m:\u001b[0m\u001b[1;33m\u001b[0m\u001b[1;33m\u001b[0m\u001b[0m\n\u001b[0;32m    650\u001b[0m             \u001b[1;31m# Binary mode\u001b[0m\u001b[1;33m\u001b[0m\u001b[1;33m\u001b[0m\u001b[1;33m\u001b[0m\u001b[0m\n\u001b[1;32m--> 651\u001b[1;33m             \u001b[0mhandle\u001b[0m \u001b[1;33m=\u001b[0m \u001b[0mopen\u001b[0m\u001b[1;33m(\u001b[0m\u001b[0mhandle\u001b[0m\u001b[1;33m,\u001b[0m \u001b[0mioargs\u001b[0m\u001b[1;33m.\u001b[0m\u001b[0mmode\u001b[0m\u001b[1;33m)\u001b[0m\u001b[1;33m\u001b[0m\u001b[1;33m\u001b[0m\u001b[0m\n\u001b[0m\u001b[0;32m    652\u001b[0m         \u001b[0mhandles\u001b[0m\u001b[1;33m.\u001b[0m\u001b[0mappend\u001b[0m\u001b[1;33m(\u001b[0m\u001b[0mhandle\u001b[0m\u001b[1;33m)\u001b[0m\u001b[1;33m\u001b[0m\u001b[1;33m\u001b[0m\u001b[0m\n\u001b[0;32m    653\u001b[0m \u001b[1;33m\u001b[0m\u001b[0m\n",
      "\u001b[1;31mFileNotFoundError\u001b[0m: [Errno 2] No such file or directory: 'Global_Equity_Valuations_Researcher_Dataset.xlsx'"
     ]
    }
   ],
   "source": [
    "index, pe_ratio = import_index_and_pe_data(\n",
    "    excel_filepath='Global_Equity_Valuations_Researcher_Dataset.xlsx',\n",
    "    sheets=['Equity Price Indices', 'PE (TTM) Ratios'])"
   ]
  },
  {
   "cell_type": "markdown",
   "metadata": {},
   "source": [
    "# Data Transformation"
   ]
  },
  {
   "cell_type": "code",
   "execution_count": 8,
   "metadata": {},
   "outputs": [
    {
     "ename": "NameError",
     "evalue": "name 'index' is not defined",
     "output_type": "error",
     "traceback": [
      "\u001b[1;31m---------------------------------------------------------------------------\u001b[0m",
      "\u001b[1;31mNameError\u001b[0m                                 Traceback (most recent call last)",
      "\u001b[1;32m<ipython-input-8-2f29dea28f54>\u001b[0m in \u001b[0;36m<module>\u001b[1;34m\u001b[0m\n\u001b[0;32m      1\u001b[0m \u001b[0mpipeline\u001b[0m \u001b[1;33m=\u001b[0m \u001b[0mpdp\u001b[0m\u001b[1;33m.\u001b[0m\u001b[0mPdPipeline\u001b[0m\u001b[1;33m(\u001b[0m\u001b[1;33m[\u001b[0m\u001b[0mpdp\u001b[0m\u001b[1;33m.\u001b[0m\u001b[0mColRename\u001b[0m\u001b[1;33m(\u001b[0m\u001b[1;33m{\u001b[0m\u001b[1;34m'Calculated Using:'\u001b[0m\u001b[1;33m:\u001b[0m \u001b[1;34m'Date'\u001b[0m\u001b[1;33m}\u001b[0m\u001b[1;33m)\u001b[0m\u001b[1;33m,\u001b[0m \u001b[0mpdp\u001b[0m\u001b[1;33m.\u001b[0m\u001b[0mRowDrop\u001b[0m\u001b[1;33m(\u001b[0m\u001b[1;33m{\u001b[0m\u001b[1;34m'Date'\u001b[0m\u001b[1;33m:\u001b[0m \u001b[1;32mlambda\u001b[0m \u001b[0mrow\u001b[0m\u001b[1;33m:\u001b[0m \u001b[0mrow\u001b[0m \u001b[1;33m<\u001b[0m \u001b[0mpd\u001b[0m\u001b[1;33m.\u001b[0m\u001b[0mTimestamp\u001b[0m\u001b[1;33m(\u001b[0m\u001b[1;34m'1999-12-31'\u001b[0m\u001b[1;33m)\u001b[0m\u001b[1;33m}\u001b[0m\u001b[1;33m)\u001b[0m\u001b[1;33m]\u001b[0m\u001b[1;33m)\u001b[0m\u001b[1;33m\u001b[0m\u001b[1;33m\u001b[0m\u001b[0m\n\u001b[0;32m      2\u001b[0m \u001b[1;33m\u001b[0m\u001b[0m\n\u001b[1;32m----> 3\u001b[1;33m \u001b[0mindex_data\u001b[0m\u001b[1;33m,\u001b[0m \u001b[0mpe_ratio_data\u001b[0m \u001b[1;33m=\u001b[0m \u001b[1;33m[\u001b[0m\u001b[0mpipeline\u001b[0m\u001b[1;33m(\u001b[0m\u001b[0mdf\u001b[0m\u001b[1;33m)\u001b[0m\u001b[1;33m.\u001b[0m\u001b[0mreset_index\u001b[0m\u001b[1;33m(\u001b[0m\u001b[0mdrop\u001b[0m\u001b[1;33m=\u001b[0m\u001b[1;32mTrue\u001b[0m\u001b[1;33m)\u001b[0m \u001b[1;32mfor\u001b[0m \u001b[0mdf\u001b[0m \u001b[1;32min\u001b[0m \u001b[1;33m[\u001b[0m\u001b[0mindex\u001b[0m\u001b[1;33m,\u001b[0m \u001b[0mpe_ratio\u001b[0m\u001b[1;33m]\u001b[0m\u001b[1;33m]\u001b[0m\u001b[1;33m\u001b[0m\u001b[1;33m\u001b[0m\u001b[0m\n\u001b[0m",
      "\u001b[1;31mNameError\u001b[0m: name 'index' is not defined"
     ]
    }
   ],
   "source": [
    "pipeline = pdp.PdPipeline([pdp.ColRename({'Calculated Using:': 'Date'}), pdp.RowDrop({'Date': lambda row: row < pd.Timestamp('1999-12-31')})])\n",
    "\n",
    "index_data, pe_ratio_data = [pipeline(df).reset_index(drop=True) for df in [index, pe_ratio]]"
   ]
  },
  {
   "cell_type": "code",
   "execution_count": null,
   "metadata": {},
   "outputs": [],
   "source": [
    "def return_column_names(list_of_indexes: List[str], column_names: List[str]) -> List[str]:\n",
    "    \n",
    "    cols = []\n",
    "    \n",
    "    for index in indexes:\n",
    "        for col in column_names:\n",
    "            if index in col:\n",
    "                cols.append(col)\n",
    "                \n",
    "    cols.insert(0, 'Date')\n",
    "            \n",
    "    return cols"
   ]
  },
  {
   "cell_type": "code",
   "execution_count": null,
   "metadata": {},
   "outputs": [],
   "source": [
    "cols = return_column_names(indexes, index_data.columns.to_list())"
   ]
  },
  {
   "cell_type": "code",
   "execution_count": null,
   "metadata": {},
   "outputs": [],
   "source": [
    "index_sub = index_data.loc[:, cols]\n",
    "pe_sub = pe_ratio_data.loc[:, cols]"
   ]
  },
  {
   "cell_type": "code",
   "execution_count": null,
   "metadata": {},
   "outputs": [],
   "source": [
    "rename_dict = {'S&P 500 Index': 'S&P500', 'FTSE 100 Index': 'FTSE100', 'Bovespa Index (Ibovespa)': 'Bovespa', 'Hang Seng Index': 'HangSeng'}\n",
    "\n",
    "index_filtered, pe_filtered = [pdp.ColRename(rename_dict).apply(df) for df in [index_sub, pe_sub]]"
   ]
  },
  {
   "cell_type": "code",
   "execution_count": null,
   "metadata": {},
   "outputs": [],
   "source": [
    "select_columns=['S&P500', 'FTSE100', 'Bovespa', 'HangSeng']"
   ]
  },
  {
   "cell_type": "code",
   "execution_count": null,
   "metadata": {},
   "outputs": [],
   "source": [
    "# def create_earnings_yield_data(pe_ratio_df: Dataset, columns=List[str]) -> Dataset:\n",
    "    \n",
    "#    pipeline = pdp.PdPipeline([pdp.ApplyByCols(columns=columns, func=np.reciprocal, drop=True)])\n",
    "    \n",
    "#    return pipeline(pe_ratio_df)"
   ]
  },
  {
   "cell_type": "code",
   "execution_count": null,
   "metadata": {},
   "outputs": [],
   "source": [
    "# earnings_yield_filtered = create_earnings_yield_data(pe_filtered, columns = select_columns)"
   ]
  },
  {
   "cell_type": "code",
   "execution_count": null,
   "metadata": {},
   "outputs": [],
   "source": [
    "def shift_columns(data: Dataset, columns:List[str]) -> Dataset:\n",
    "    return_data = data.copy()\n",
    "    \n",
    "    for column in columns:\n",
    "        return_data[column] = return_data[column].shift(1)\n",
    "        \n",
    "    return return_data.dropna()"
   ]
  },
  {
   "cell_type": "code",
   "execution_count": null,
   "metadata": {},
   "outputs": [],
   "source": [
    "def diff_columns(data: Dataset, columns: List[str]) -> Dataset:\n",
    "    return_data = data.copy()\n",
    "    \n",
    "    for column in columns:\n",
    "        return_data[column] = return_data[column].diff(1)\n",
    "        \n",
    "    return return_data.dropna()"
   ]
  },
  {
   "cell_type": "code",
   "execution_count": null,
   "metadata": {},
   "outputs": [],
   "source": [
    "def log_data(data: Dataset, columns:List[str]) -> Dataset:\n",
    "    return_data = data.copy()\n",
    "    \n",
    "    for column in columns:\n",
    "        return_data[column] = np.log(return_data[column])\n",
    "        \n",
    "    return return_data.dropna()"
   ]
  },
  {
   "cell_type": "code",
   "execution_count": null,
   "metadata": {},
   "outputs": [],
   "source": [
    "pe_shifted = shift_columns(pe_filtered, columns=select_columns)"
   ]
  },
  {
   "cell_type": "code",
   "execution_count": null,
   "metadata": {},
   "outputs": [],
   "source": [
    "monthly_yield = diff_columns(log_data(index_filtered, columns=select_columns), select_columns)"
   ]
  },
  {
   "cell_type": "code",
   "execution_count": null,
   "metadata": {},
   "outputs": [],
   "source": [
    "def rename_columns(dataframe: Dataset, column_tag: str, *args) -> Dataset:\n",
    "    # Excluding 'Date' column\n",
    "    present_colnames = dataframe.columns.to_list()[1:]\n",
    "    new_colnames = [name + column_tag for name in present_colnames]\n",
    "    rename_dict = dict(zip(present_colnames, new_colnames))\n",
    "    new_dataframe = dataframe.rename(columns=rename_dict)\n",
    "    \n",
    "    return new_dataframe"
   ]
  },
  {
   "cell_type": "code",
   "execution_count": null,
   "metadata": {},
   "outputs": [],
   "source": [
    "rename_args = [[index_filtered, '_Index'], [pe_shifted, '_PE'], [monthly_yield, '_Yield']]"
   ]
  },
  {
   "cell_type": "code",
   "execution_count": null,
   "metadata": {},
   "outputs": [],
   "source": [
    "[index_cleared, pe_cleared, yield_cleared] = [rename_columns(*arg) for arg in rename_args]"
   ]
  },
  {
   "cell_type": "code",
   "execution_count": null,
   "metadata": {},
   "outputs": [],
   "source": [
    "df_list = [index_cleared, pe_cleared, yield_cleared]"
   ]
  },
  {
   "cell_type": "code",
   "execution_count": null,
   "metadata": {},
   "outputs": [],
   "source": [
    "def join_dataframes(join_dfs: list, join_type: str='inner', join_on: str='Date') -> Dataset:\n",
    "    \"\"\"\n",
    "    Params:\n",
    "    ----------------\n",
    "    join_dfs: list\n",
    "      List containing the dataframes to be joined\n",
    "    join_type: str\n",
    "      Specifies the type of join to be performed. Default is 'inner'.\n",
    "    join_on: str\n",
    "      Specifies the id column for the join. Default is 'Date'.\n",
    "    \n",
    "    Returns:\n",
    "    -----------------\n",
    "    joined_df: Dataset\n",
    "      The joined dataframe\n",
    "    \"\"\"\n",
    "    \n",
    "    return reduce(lambda left, right: pd.merge(left, right, on=join_on, how=join_type), join_dfs)"
   ]
  },
  {
   "cell_type": "code",
   "execution_count": null,
   "metadata": {},
   "outputs": [],
   "source": [
    "joined = join_dataframes(df_list)"
   ]
  },
  {
   "cell_type": "code",
   "execution_count": null,
   "metadata": {},
   "outputs": [],
   "source": [
    "def return_match(string: str, pattern: str):\n",
    "    if re.findall(pattern, string):\n",
    "        return string"
   ]
  },
  {
   "cell_type": "code",
   "execution_count": null,
   "metadata": {},
   "outputs": [],
   "source": [
    "def generate_market_dataframe(fundamentals_dataframe: Dataset, market_name: str):\n",
    "    \n",
    "    matches = [match for match in [return_match(col, market_name) for col in fundamentals_dataframe.columns.to_list()] if match != None]\n",
    "    \n",
    "    # Date column is always generated\n",
    "    final_columns = ['Date'] + matches\n",
    "    \n",
    "    return_data = fundamentals_dataframe[final_columns]\n",
    "    \n",
    "    new_column_names = [el[-1] for el in return_data.columns.str.split(\"_\").to_list()]\n",
    "    \n",
    "    rename_dict = dict(zip(return_data.columns.to_list(), new_column_names))\n",
    "    \n",
    "    final_dataframe = return_data.rename(columns=rename_dict)\n",
    "    \n",
    "    return final_dataframe\n",
    "        "
   ]
  },
  {
   "cell_type": "code",
   "execution_count": 13,
   "metadata": {},
   "outputs": [
    {
     "ename": "NameError",
     "evalue": "name 'select_columns' is not defined",
     "output_type": "error",
     "traceback": [
      "\u001b[1;31m---------------------------------------------------------------------------\u001b[0m",
      "\u001b[1;31mNameError\u001b[0m                                 Traceback (most recent call last)",
      "\u001b[1;32m<ipython-input-13-9333f955f119>\u001b[0m in \u001b[0;36m<module>\u001b[1;34m\u001b[0m\n\u001b[1;32m----> 1\u001b[1;33m \u001b[0msp500\u001b[0m\u001b[1;33m,\u001b[0m \u001b[0mftse100\u001b[0m\u001b[1;33m,\u001b[0m \u001b[0mbovespa\u001b[0m\u001b[1;33m,\u001b[0m \u001b[0mhangseng\u001b[0m \u001b[1;33m=\u001b[0m \u001b[1;33m[\u001b[0m\u001b[0mgenerate_market_dataframe\u001b[0m\u001b[1;33m(\u001b[0m\u001b[0mjoined\u001b[0m\u001b[1;33m,\u001b[0m \u001b[0mmarket\u001b[0m\u001b[1;33m)\u001b[0m \u001b[1;32mfor\u001b[0m \u001b[0mmarket\u001b[0m \u001b[1;32min\u001b[0m \u001b[0mselect_columns\u001b[0m\u001b[1;33m]\u001b[0m\u001b[1;33m\u001b[0m\u001b[1;33m\u001b[0m\u001b[0m\n\u001b[0m",
      "\u001b[1;31mNameError\u001b[0m: name 'select_columns' is not defined"
     ]
    }
   ],
   "source": [
    "sp500, ftse100, bovespa, hangseng = [generate_market_dataframe(joined, market) for market in select_columns]"
   ]
  },
  {
   "cell_type": "markdown",
   "metadata": {},
   "source": [
    "# Regression Analysis"
   ]
  },
  {
   "cell_type": "code",
   "execution_count": 11,
   "metadata": {},
   "outputs": [],
   "source": [
    "def make_regression(dataframe: Dataset, response: str, predictors: Union[str, List[str]], intercept: bool=True):\n",
    "\n",
    "    if intercept:\n",
    "        predictors_w_constant = sm.add_constant(dataframe[predictors])\n",
    "        model = sm.OLS(dataframe[response], predictors_w_constant)\n",
    "        results = model.fit()\n",
    "        return results\n",
    "    else:\n",
    "        model = sm.OLS(dataframe[response], dataframe[predictors])\n",
    "        results = model.fit()\n",
    "        return results"
   ]
  },
  {
   "cell_type": "code",
   "execution_count": 12,
   "metadata": {},
   "outputs": [
    {
     "ename": "NameError",
     "evalue": "name 'sp500' is not defined",
     "output_type": "error",
     "traceback": [
      "\u001b[1;31m---------------------------------------------------------------------------\u001b[0m",
      "\u001b[1;31mNameError\u001b[0m                                 Traceback (most recent call last)",
      "\u001b[1;32m<ipython-input-12-dc9ac0092573>\u001b[0m in \u001b[0;36m<module>\u001b[1;34m\u001b[0m\n\u001b[1;32m----> 1\u001b[1;33m \u001b[0mmarket_data\u001b[0m \u001b[1;33m=\u001b[0m \u001b[1;33m[\u001b[0m\u001b[0msp500\u001b[0m\u001b[1;33m,\u001b[0m \u001b[0mftse100\u001b[0m\u001b[1;33m,\u001b[0m \u001b[0mbovespa\u001b[0m\u001b[1;33m,\u001b[0m \u001b[0mhangseng\u001b[0m\u001b[1;33m]\u001b[0m\u001b[1;33m\u001b[0m\u001b[1;33m\u001b[0m\u001b[0m\n\u001b[0m",
      "\u001b[1;31mNameError\u001b[0m: name 'sp500' is not defined"
     ]
    }
   ],
   "source": [
    "market_data = [sp500, ftse100, bovespa, hangseng]"
   ]
  },
  {
   "cell_type": "markdown",
   "metadata": {},
   "source": [
    "### Exhibit 2a"
   ]
  },
  {
   "cell_type": "code",
   "execution_count": null,
   "metadata": {},
   "outputs": [],
   "source": [
    "[sp500_reg2a, ftse100_reg2a, bovespa_reg2a, hangseng_reg2a] = [make_regression(market, response = 'Index', predictors = 'PE') for market in market_data]"
   ]
  },
  {
   "cell_type": "markdown",
   "metadata": {},
   "source": [
    "### Exhibit 2b"
   ]
  },
  {
   "cell_type": "code",
   "execution_count": null,
   "metadata": {},
   "outputs": [],
   "source": [
    "[sp500_reg2b, ftse100_reg2b, bovespa_reg2b, hangseng_reg2b] = [make_regression(market, response = 'Yield', predictors = 'PE') for market in market_data]"
   ]
  },
  {
   "cell_type": "markdown",
   "metadata": {},
   "source": [
    "### Some Plotting"
   ]
  },
  {
   "cell_type": "code",
   "execution_count": null,
   "metadata": {},
   "outputs": [],
   "source": [
    "pe_cleared"
   ]
  },
  {
   "cell_type": "code",
   "execution_count": null,
   "metadata": {},
   "outputs": [],
   "source": [
    "import matplotlib.pyplot as plt\n",
    "\n",
    "plt.style.use('bmh')\n",
    "\n",
    "plot_data = pe_cleared.rename(columns={'S&P500_PE': 'S&P 500', 'FTSE100_PE': 'FTSE 100', 'Bovespa_PE': 'Bovespa', 'HangSeng_PE': 'Hang Seng'})\n",
    "plot_data.Date = pd.to_datetime(plot_data.Date)\n",
    "\n",
    "ax = plot_data.plot(x = 'Date', colormap='Accent', figsize=(12, 7))\n",
    "ax.set_facecolor(\"white\")\n",
    "ax.set_xlabel('Date', fontsize= 14)\n",
    "ax.set_ylabel('Price/Earnings-Ratio', fontsize= 14)\n",
    "plt.setp(ax.get_legend().get_texts(), fontsize=13)\n",
    "plt.show()"
   ]
  },
  {
   "cell_type": "markdown",
   "metadata": {},
   "source": [
    "### Data Export"
   ]
  },
  {
   "cell_type": "code",
   "execution_count": null,
   "metadata": {},
   "outputs": [],
   "source": [
    "sp500.to_csv(\"sp500_data.csv\")"
   ]
  },
  {
   "cell_type": "code",
   "execution_count": null,
   "metadata": {},
   "outputs": [],
   "source": [
    "bovespa.to_csv(\"bovespa_data.csv\")"
   ]
  },
  {
   "cell_type": "code",
   "execution_count": null,
   "metadata": {},
   "outputs": [],
   "source": [
    "hangseng.to_csv(\"hangseng_data.csv\")"
   ]
  },
  {
   "cell_type": "code",
   "execution_count": null,
   "metadata": {},
   "outputs": [],
   "source": [
    "ftse100.to_csv(\"ftse100_data.csv\")"
   ]
  },
  {
   "cell_type": "code",
   "execution_count": 263,
   "metadata": {},
   "outputs": [
    {
     "data": {
      "image/png": "[encoded data removed]",
      "text/plain": [
       "<Figure size 432x288 with 1 Axes>"
      ]
     },
     "metadata": {
      "needs_background": "light"
     },
     "output_type": "display_data"
    }
   ],
   "source": [
    "sp500[\"Index\"].plot();"
   ]
  },
  {
   "cell_type": "markdown",
   "metadata": {},
   "source": [
    "### Exhibit 5 & 6"
   ]
  },
  {
   "cell_type": "code",
   "execution_count": 14,
   "metadata": {},
   "outputs": [],
   "source": [
    "from arch.unitroot import PhillipsPerron"
   ]
  },
  {
   "cell_type": "code",
   "execution_count": 15,
   "metadata": {},
   "outputs": [
    {
     "data": {
      "text/html": [
       "<div>\n",
       "<style scoped>\n",
       "    .dataframe tbody tr th:only-of-type {\n",
       "        vertical-align: middle;\n",
       "    }\n",
       "\n",
       "    .dataframe tbody tr th {\n",
       "        vertical-align: top;\n",
       "    }\n",
       "\n",
       "    .dataframe thead th {\n",
       "        text-align: right;\n",
       "    }\n",
       "</style>\n",
       "<table border=\"1\" class=\"dataframe\">\n",
       "  <thead>\n",
       "    <tr style=\"text-align: right;\">\n",
       "      <th></th>\n",
       "      <th>Date</th>\n",
       "      <th>Index</th>\n",
       "      <th>PE</th>\n",
       "      <th>Yield</th>\n",
       "    </tr>\n",
       "  </thead>\n",
       "  <tbody>\n",
       "    <tr>\n",
       "      <th>0</th>\n",
       "      <td>2000-01-31</td>\n",
       "      <td>1394.46</td>\n",
       "      <td>31.42</td>\n",
       "      <td>-0.052245</td>\n",
       "    </tr>\n",
       "  </tbody>\n",
       "</table>\n",
       "</div>"
      ],
      "text/plain": [
       "         Date    Index     PE     Yield\n",
       "0  2000-01-31  1394.46  31.42 -0.052245"
      ]
     },
     "execution_count": 15,
     "metadata": {},
     "output_type": "execute_result"
    }
   ],
   "source": [
    "sp500 = pd.read_csv(\"sp500_data.csv\").iloc[:,1:5]\n",
    "bovespa = pd.read_csv(\"bovespa_data.csv\").iloc[:,1:5]\n",
    "hangseng = pd.read_csv(\"hangseng_data.csv\").iloc[:,1:5]\n",
    "ftse100 = pd.read_csv(\"ftse100_data.csv\").iloc[:,1:5]\n",
    "sp500.head(1)"
   ]
  },
  {
   "cell_type": "code",
   "execution_count": 16,
   "metadata": {},
   "outputs": [
    {
     "data": {
      "text/plain": [
       "<AxesSubplot:xlabel='Yield', ylabel='PE'>"
      ]
     },
     "execution_count": 16,
     "metadata": {},
     "output_type": "execute_result"
    },
    {
     "data": {
      "image/png": "[encoded data removed]",
      "text/plain": [
       "<Figure size 432x288 with 1 Axes>"
      ]
     },
     "metadata": {
      "needs_background": "light"
     },
     "output_type": "display_data"
    }
   ],
   "source": [
    "ftse100.plot.scatter(x = \"Yield\", y = \"PE\")"
   ]
  },
  {
   "cell_type": "code",
   "execution_count": 17,
   "metadata": {},
   "outputs": [
    {
     "data": {
      "text/plain": [
       "<AxesSubplot:xlabel='Yield', ylabel='PE'>"
      ]
     },
     "execution_count": 17,
     "metadata": {},
     "output_type": "execute_result"
    },
    {
     "data": {
      "image/png": "[encoded data removed]",
      "text/plain": [
       "<Figure size 432x288 with 1 Axes>"
      ]
     },
     "metadata": {
      "needs_background": "light"
     },
     "output_type": "display_data"
    }
   ],
   "source": [
    "sp500.plot.scatter(x = \"Yield\", y = \"PE\")"
   ]
  },
  {
   "cell_type": "code",
   "execution_count": 18,
   "metadata": {},
   "outputs": [
    {
     "data": {
      "text/html": [
       "<table class=\"simpletable\">\n",
       "<caption>OLS Regression Results</caption>\n",
       "<tr>\n",
       "  <th>Dep. Variable:</th>            <td>y</td>        <th>  R-squared:         </th> <td>   0.003</td>\n",
       "</tr>\n",
       "<tr>\n",
       "  <th>Model:</th>                   <td>OLS</td>       <th>  Adj. R-squared:    </th> <td>  -0.001</td>\n",
       "</tr>\n",
       "<tr>\n",
       "  <th>Method:</th>             <td>Least Squares</td>  <th>  F-statistic:       </th> <td>  0.7938</td>\n",
       "</tr>\n",
       "<tr>\n",
       "  <th>Date:</th>             <td>Tue, 12 Oct 2021</td> <th>  Prob (F-statistic):</th>  <td> 0.374</td> \n",
       "</tr>\n",
       "<tr>\n",
       "  <th>Time:</th>                 <td>16:56:01</td>     <th>  Log-Likelihood:    </th> <td>  351.40</td>\n",
       "</tr>\n",
       "<tr>\n",
       "  <th>No. Observations:</th>      <td>   252</td>      <th>  AIC:               </th> <td>  -698.8</td>\n",
       "</tr>\n",
       "<tr>\n",
       "  <th>Df Residuals:</th>          <td>   250</td>      <th>  BIC:               </th> <td>  -691.7</td>\n",
       "</tr>\n",
       "<tr>\n",
       "  <th>Df Model:</th>              <td>     1</td>      <th>                     </th>     <td> </td>   \n",
       "</tr>\n",
       "<tr>\n",
       "  <th>Covariance Type:</th>      <td>nonrobust</td>    <th>                     </th>     <td> </td>   \n",
       "</tr>\n",
       "</table>\n",
       "<table class=\"simpletable\">\n",
       "<tr>\n",
       "    <td></td>       <th>coef</th>     <th>std err</th>      <th>t</th>      <th>P>|t|</th>  <th>[0.025</th>    <th>0.975]</th>  \n",
       "</tr>\n",
       "<tr>\n",
       "  <th>const</th> <td>    0.0147</td> <td>    0.015</td> <td>    0.988</td> <td> 0.324</td> <td>   -0.015</td> <td>    0.044</td>\n",
       "</tr>\n",
       "<tr>\n",
       "  <th>PE</th>    <td>   -0.0009</td> <td>    0.001</td> <td>   -0.891</td> <td> 0.374</td> <td>   -0.003</td> <td>    0.001</td>\n",
       "</tr>\n",
       "</table>\n",
       "<table class=\"simpletable\">\n",
       "<tr>\n",
       "  <th>Omnibus:</th>       <td>20.618</td> <th>  Durbin-Watson:     </th> <td>   1.822</td>\n",
       "</tr>\n",
       "<tr>\n",
       "  <th>Prob(Omnibus):</th> <td> 0.000</td> <th>  Jarque-Bera (JB):  </th> <td>  27.958</td>\n",
       "</tr>\n",
       "<tr>\n",
       "  <th>Skew:</th>          <td>-0.567</td> <th>  Prob(JB):          </th> <td>8.49e-07</td>\n",
       "</tr>\n",
       "<tr>\n",
       "  <th>Kurtosis:</th>      <td> 4.174</td> <th>  Cond. No.          </th> <td>    56.3</td>\n",
       "</tr>\n",
       "</table><br/><br/>Notes:<br/>[1] Standard Errors assume that the covariance matrix of the errors is correctly specified."
      ],
      "text/plain": [
       "<class 'statsmodels.iolib.summary.Summary'>\n",
       "\"\"\"\n",
       "                            OLS Regression Results                            \n",
       "==============================================================================\n",
       "Dep. Variable:                      y   R-squared:                       0.003\n",
       "Model:                            OLS   Adj. R-squared:                 -0.001\n",
       "Method:                 Least Squares   F-statistic:                    0.7938\n",
       "Date:                Tue, 12 Oct 2021   Prob (F-statistic):              0.374\n",
       "Time:                        16:56:01   Log-Likelihood:                 351.40\n",
       "No. Observations:                 252   AIC:                            -698.8\n",
       "Df Residuals:                     250   BIC:                            -691.7\n",
       "Df Model:                           1                                         \n",
       "Covariance Type:            nonrobust                                         \n",
       "==============================================================================\n",
       "                 coef    std err          t      P>|t|      [0.025      0.975]\n",
       "------------------------------------------------------------------------------\n",
       "const          0.0147      0.015      0.988      0.324      -0.015       0.044\n",
       "PE            -0.0009      0.001     -0.891      0.374      -0.003       0.001\n",
       "==============================================================================\n",
       "Omnibus:                       20.618   Durbin-Watson:                   1.822\n",
       "Prob(Omnibus):                  0.000   Jarque-Bera (JB):               27.958\n",
       "Skew:                          -0.567   Prob(JB):                     8.49e-07\n",
       "Kurtosis:                       4.174   Cond. No.                         56.3\n",
       "==============================================================================\n",
       "\n",
       "Notes:\n",
       "[1] Standard Errors assume that the covariance matrix of the errors is correctly specified.\n",
       "\"\"\""
      ]
     },
     "execution_count": 18,
     "metadata": {},
     "output_type": "execute_result"
    }
   ],
   "source": [
    "from sklearn.linear_model import LinearRegression\n",
    "X = sm.add_constant(hangseng.iloc[:,2])\n",
    "reg = sm.OLS(hangseng.iloc[:,3].values, X).fit()\n",
    "#reg = sm.OLS(ftse100.iloc[:,3].values, ftse100.iloc[:,2]).fit()\n",
    "reg.summary()"
   ]
  },
  {
   "cell_type": "code",
   "execution_count": 19,
   "metadata": {},
   "outputs": [
    {
     "data": {
      "text/plain": [
       "array([[ 31.42,  28.95,  27.83,  29.96,  28.51,  27.71,  28.19,  27.56,\n",
       "         28.9 ,  27.05,  26.62,  25.06,  25.77,  27.32,  25.58,  24.71,\n",
       "         27.5 ,  29.51,  30.86,  32.92,  33.38,  33.43,  37.43,  42.04,\n",
       "         44.33,  45.78,  44.82,  46.46,  43.6 ,  42.05,  37.98,  34.09,\n",
       "         32.9 ,  28.17,  29.49,  32.04,  30.97,  31.01,  29.51,  28.84,\n",
       "         30.24,  30.37,  29.41,  28.75,  28.08,  26.75,  27.23,  25.22,\n",
       "         24.52,  23.21,  22.98,  22.12,  21.29,  20.99,  20.83,  19.62,\n",
       "         19.48,  19.48,  19.56,  20.23,  20.79,  20.18,  20.36,  19.79,\n",
       "         19.21,  19.46,  19.14,  19.51,  18.97,  18.79,  18.16,  18.49,\n",
       "         18.17,  18.33,  18.09,  18.05,  18.04,  17.33,  17.19,  17.14,\n",
       "         17.19,  17.3 ,  17.54,  17.61,  17.61,  17.64,  17.14,  17.2 ,\n",
       "         17.83,  18.28,  17.83,  17.14,  17.8 ,  18.92,  19.71,  19.89,\n",
       "         20.88,  20.83,  20.71,  21.22,  22.94,  24.4 ,  23.54,  24.67,\n",
       "         25.88,  24.42,  21.08,  25.18,  35.79,  55.5 ,  60.22,  83.69,\n",
       "        127.23, 129.88, 126.05, 131.49, 111.1 ,  97.31,  82.63,  43.22,\n",
       "         29.22,  21.07,  20.34,  20.3 ,  19.48,  17.3 ,  15.85,  16.42,\n",
       "         15.28,  16.24,  16.47,  16.02,  16.65,  16.63,  17.04,  16.57,\n",
       "         16.77,  16.37,  15.91,  15.41,  14.36,  13.16,  14.41,  14.34,\n",
       "         14.46,  15.09,  15.61,  16.  ,  15.79,  14.83,  15.46,  15.69,\n",
       "         16.09,  16.56,  16.33,  16.37,  16.49,  17.32,  17.43,  17.97,\n",
       "         18.22,  18.37,  17.87,  18.53,  17.73,  18.04,  18.61,  18.75,\n",
       "         18.81,  17.79,  18.52,  18.61,  18.68,  18.93,  19.15,  18.72,\n",
       "         19.25,  18.78,  19.05,  19.74,  19.89,  19.5 ,  20.78,  20.62,\n",
       "         21.01,  21.55,  21.41,  22.17,  21.09,  20.85,  22.94,  23.3 ,\n",
       "         23.25,  22.42,  22.34,  23.82,  23.89,  24.21,  24.19,  25.01,\n",
       "         24.77,  24.54,  23.87,  24.19,  24.14,  24.1 ,  24.5 ,  24.02,\n",
       "         23.77,  23.75,  23.58,  23.75,  23.53,  23.75,  24.05,  24.51,\n",
       "         24.54,  25.7 ,  24.29,  23.25,  22.94,  22.97,  22.63,  22.99,\n",
       "         23.19,  22.81,  20.8 ,  21.06,  19.03,  20.43,  20.93,  21.2 ,\n",
       "         21.92,  20.43,  21.79,  22.03,  21.76,  22.27,  22.86,  23.25,\n",
       "         23.53,  23.13,  22.42,  20.84,  25.04,  27.35,  29.55,  32.97,\n",
       "         34.68,  33.99,  33.1 ,  36.66]])"
      ]
     },
     "execution_count": 19,
     "metadata": {},
     "output_type": "execute_result"
    }
   ],
   "source": [
    "sp500.iloc[:,2].values.reshape(1,-1)"
   ]
  },
  {
   "cell_type": "code",
   "execution_count": 20,
   "metadata": {},
   "outputs": [
    {
     "data": {
      "text/plain": [
       "array([[ 31.42,  28.95,  27.83,  29.96,  28.51,  27.71,  28.19,  27.56,\n",
       "         28.9 ,  27.05,  26.62,  25.06,  25.77,  27.32,  25.58,  24.71,\n",
       "         27.5 ,  29.51,  30.86,  32.92,  33.38,  33.43,  37.43,  42.04,\n",
       "         44.33,  45.78,  44.82,  46.46,  43.6 ,  42.05,  37.98,  34.09,\n",
       "         32.9 ,  28.17,  29.49,  32.04,  30.97,  31.01,  29.51,  28.84,\n",
       "         30.24,  30.37,  29.41,  28.75,  28.08,  26.75,  27.23,  25.22,\n",
       "         24.52,  23.21,  22.98,  22.12,  21.29,  20.99,  20.83,  19.62,\n",
       "         19.48,  19.48,  19.56,  20.23,  20.79,  20.18,  20.36,  19.79,\n",
       "         19.21,  19.46,  19.14,  19.51,  18.97,  18.79,  18.16,  18.49,\n",
       "         18.17,  18.33,  18.09,  18.05,  18.04,  17.33,  17.19,  17.14,\n",
       "         17.19,  17.3 ,  17.54,  17.61,  17.61,  17.64,  17.14,  17.2 ,\n",
       "         17.83,  18.28,  17.83,  17.14,  17.8 ,  18.92,  19.71,  19.89,\n",
       "         20.88,  20.83,  20.71,  21.22,  22.94,  24.4 ,  23.54,  24.67,\n",
       "         25.88,  24.42,  21.08,  25.18,  35.79,  55.5 ,  60.22,  83.69,\n",
       "        127.23, 129.88, 126.05, 131.49, 111.1 ,  97.31,  82.63,  43.22,\n",
       "         29.22,  21.07,  20.34,  20.3 ,  19.48,  17.3 ,  15.85,  16.42,\n",
       "         15.28,  16.24,  16.47,  16.02,  16.65,  16.63,  17.04,  16.57,\n",
       "         16.77,  16.37,  15.91,  15.41,  14.36,  13.16,  14.41,  14.34,\n",
       "         14.46,  15.09,  15.61,  16.  ,  15.79,  14.83,  15.46,  15.69,\n",
       "         16.09,  16.56,  16.33,  16.37,  16.49,  17.32,  17.43,  17.97,\n",
       "         18.22,  18.37,  17.87,  18.53,  17.73,  18.04,  18.61,  18.75,\n",
       "         18.81,  17.79,  18.52,  18.61,  18.68,  18.93,  19.15,  18.72,\n",
       "         19.25,  18.78,  19.05,  19.74,  19.89,  19.5 ,  20.78,  20.62,\n",
       "         21.01,  21.55,  21.41,  22.17,  21.09,  20.85,  22.94,  23.3 ,\n",
       "         23.25,  22.42,  22.34,  23.82,  23.89,  24.21,  24.19,  25.01,\n",
       "         24.77,  24.54,  23.87,  24.19,  24.14,  24.1 ,  24.5 ,  24.02,\n",
       "         23.77,  23.75,  23.58,  23.75,  23.53,  23.75,  24.05,  24.51,\n",
       "         24.54,  25.7 ,  24.29,  23.25,  22.94,  22.97,  22.63,  22.99,\n",
       "         23.19,  22.81,  20.8 ,  21.06,  19.03,  20.43,  20.93,  21.2 ,\n",
       "         21.92,  20.43,  21.79,  22.03,  21.76,  22.27,  22.86,  23.25,\n",
       "         23.53,  23.13,  22.42,  20.84,  25.04,  27.35,  29.55,  32.97,\n",
       "         34.68,  33.99,  33.1 ,  36.66]])"
      ]
     },
     "execution_count": 20,
     "metadata": {},
     "output_type": "execute_result"
    }
   ],
   "source": [
    "sp500.iloc[:,2].values.reshape(1, -1)"
   ]
  },
  {
   "cell_type": "markdown",
   "metadata": {},
   "source": [
    "Phillips-Perron test: Unit Root Test\n",
    "Similar to the ADF test expect that the regression run does not include lagged values of the first differences, Instead, the PP test fixed the t-statistic using a long run variance estimation, using a Newey-West covariance estimator."
   ]
  },
  {
   "cell_type": "markdown",
   "metadata": {},
   "source": [
    "The Dickey–Fuller test involves fitting the regression modelΔyt= ρyt−1+ (constant, time trend) + ut(1)by ordinary least squares (OLS), but serial correlation will present a problem. To account for this, the augmented Dickey–Fuller test’s regression includes lags of the first differences of yt. The Phillips–Perron test involves fitting (1), and the results are used to calculate the test statistics.They estimate not (1) but:yt= πyt−1+ (constant, time trend) + ut(2)In (1) utis I(0) and may be heteroskedastic. The PP tests correct for any serial correlation and heteroskedasticity in the errors utnon-parametrically by modifying the Dickey Fuller test statistics. Phillips andPerron’s test statistics can be viewed as Dickey–Fuller statistics that have been made robust toserial correlation by using the Newey–West (1987) heteroskedasticity-and autocorrelation-consistentcovariance matrix estimator.Under the null hypothesis that ρ= 0, the PP Zt and Zπ statistics have the same asymptotic distributions as the ADF t-statistic and normalized bias statistics. One advantage of the PP tests over the ADF tests is that the PP tests are robust to general forms of heteroskedasticity in the error term ut. Another advantage is that the user does not have to specify a lag length for the test regression."
   ]
  },
  {
   "cell_type": "code",
   "execution_count": 21,
   "metadata": {},
   "outputs": [],
   "source": [
    "def PhillipsPerronTest(DataFrame, Lags = 5):\n",
    "    for i in range(1,len(list(DataFrame))):\n",
    "        print(\"Phillips-Perron for:\", list(DataFrame)[i] )\n",
    "        pp = PhillipsPerron(DataFrame.iloc[:,i], lags = Lags)\n",
    "        print(\"Intercept\\nTest-statistic\", pp.stat,\"\\np-value\",pp.pvalue)\n",
    "        pp.trend = \"ct\"\n",
    "        print(\"Intercept and Trend\\nTest-statistic\",pp.stat,\"\\np-value\",pp.pvalue)\n",
    "        pp.trend = \"n\"    \n",
    "        print(\"No intercept or trend\\nTest-statistic\",pp.stat,\"\\np-value\",pp.pvalue,\"\\n\")"
   ]
  },
  {
   "cell_type": "code",
   "execution_count": 22,
   "metadata": {},
   "outputs": [
    {
     "name": "stdout",
     "output_type": "stream",
     "text": [
      "\n",
      " 1 - Lags      Phillips-Perron Test (Z-tau)    \n",
      "=====================================\n",
      "Test Statistic                 -1.486\n",
      "P-value                         0.128\n",
      "Lags                                1\n",
      "-------------------------------------\n",
      "\n",
      "Trend: No Trend\n",
      "Critical Values: -2.57 (1%), -1.94 (5%), -1.62 (10%)\n",
      "Null Hypothesis: The process contains a unit root.\n",
      "Alternative Hypothesis: The process is weakly stationary.\n",
      "\n",
      " 2 - Lags      Phillips-Perron Test (Z-tau)    \n",
      "=====================================\n",
      "Test Statistic                 -1.689\n",
      "P-value                         0.086\n",
      "Lags                                2\n",
      "-------------------------------------\n",
      "\n",
      "Trend: No Trend\n",
      "Critical Values: -2.57 (1%), -1.94 (5%), -1.62 (10%)\n",
      "Null Hypothesis: The process contains a unit root.\n",
      "Alternative Hypothesis: The process is weakly stationary.\n",
      "\n",
      " 3 - Lags      Phillips-Perron Test (Z-tau)    \n",
      "=====================================\n",
      "Test Statistic                 -1.864\n",
      "P-value                         0.059\n",
      "Lags                                3\n",
      "-------------------------------------\n",
      "\n",
      "Trend: No Trend\n",
      "Critical Values: -2.57 (1%), -1.94 (5%), -1.62 (10%)\n",
      "Null Hypothesis: The process contains a unit root.\n",
      "Alternative Hypothesis: The process is weakly stationary.\n",
      "\n",
      " 4 - Lags      Phillips-Perron Test (Z-tau)    \n",
      "=====================================\n",
      "Test Statistic                 -1.964\n",
      "P-value                         0.047\n",
      "Lags                                4\n",
      "-------------------------------------\n",
      "\n",
      "Trend: No Trend\n",
      "Critical Values: -2.57 (1%), -1.94 (5%), -1.62 (10%)\n",
      "Null Hypothesis: The process contains a unit root.\n",
      "Alternative Hypothesis: The process is weakly stationary.\n",
      "\n",
      " 5 - Lags      Phillips-Perron Test (Z-tau)    \n",
      "=====================================\n",
      "Test Statistic                 -2.015\n",
      "P-value                         0.042\n",
      "Lags                                5\n",
      "-------------------------------------\n",
      "\n",
      "Trend: No Trend\n",
      "Critical Values: -2.57 (1%), -1.94 (5%), -1.62 (10%)\n",
      "Null Hypothesis: The process contains a unit root.\n",
      "Alternative Hypothesis: The process is weakly stationary.\n",
      "\n",
      " 6 - Lags      Phillips-Perron Test (Z-tau)    \n",
      "=====================================\n",
      "Test Statistic                 -2.032\n",
      "P-value                         0.040\n",
      "Lags                                6\n",
      "-------------------------------------\n",
      "\n",
      "Trend: No Trend\n",
      "Critical Values: -2.57 (1%), -1.94 (5%), -1.62 (10%)\n",
      "Null Hypothesis: The process contains a unit root.\n",
      "Alternative Hypothesis: The process is weakly stationary.\n",
      "\n",
      " 7 - Lags      Phillips-Perron Test (Z-tau)    \n",
      "=====================================\n",
      "Test Statistic                 -2.006\n",
      "P-value                         0.043\n",
      "Lags                                7\n",
      "-------------------------------------\n",
      "\n",
      "Trend: No Trend\n",
      "Critical Values: -2.57 (1%), -1.94 (5%), -1.62 (10%)\n",
      "Null Hypothesis: The process contains a unit root.\n",
      "Alternative Hypothesis: The process is weakly stationary.\n",
      "\n",
      " 8 - Lags      Phillips-Perron Test (Z-tau)    \n",
      "=====================================\n",
      "Test Statistic                 -1.959\n",
      "P-value                         0.048\n",
      "Lags                                8\n",
      "-------------------------------------\n",
      "\n",
      "Trend: No Trend\n",
      "Critical Values: -2.57 (1%), -1.94 (5%), -1.62 (10%)\n",
      "Null Hypothesis: The process contains a unit root.\n",
      "Alternative Hypothesis: The process is weakly stationary.\n",
      "\n",
      " 9 - Lags      Phillips-Perron Test (Z-tau)    \n",
      "=====================================\n",
      "Test Statistic                 -1.903\n",
      "P-value                         0.054\n",
      "Lags                                9\n",
      "-------------------------------------\n",
      "\n",
      "Trend: No Trend\n",
      "Critical Values: -2.57 (1%), -1.94 (5%), -1.62 (10%)\n",
      "Null Hypothesis: The process contains a unit root.\n",
      "Alternative Hypothesis: The process is weakly stationary.\n",
      "\n",
      " 10 - Lags      Phillips-Perron Test (Z-tau)    \n",
      "=====================================\n",
      "Test Statistic                 -1.842\n",
      "P-value                         0.062\n",
      "Lags                               10\n",
      "-------------------------------------\n",
      "\n",
      "Trend: No Trend\n",
      "Critical Values: -2.57 (1%), -1.94 (5%), -1.62 (10%)\n",
      "Null Hypothesis: The process contains a unit root.\n",
      "Alternative Hypothesis: The process is weakly stationary.\n",
      "\n",
      " 11 - Lags      Phillips-Perron Test (Z-tau)    \n",
      "=====================================\n",
      "Test Statistic                 -1.781\n",
      "P-value                         0.071\n",
      "Lags                               11\n",
      "-------------------------------------\n",
      "\n",
      "Trend: No Trend\n",
      "Critical Values: -2.57 (1%), -1.94 (5%), -1.62 (10%)\n",
      "Null Hypothesis: The process contains a unit root.\n",
      "Alternative Hypothesis: The process is weakly stationary.\n",
      "\n",
      " 12 - Lags      Phillips-Perron Test (Z-tau)    \n",
      "=====================================\n",
      "Test Statistic                 -1.724\n",
      "P-value                         0.080\n",
      "Lags                               12\n",
      "-------------------------------------\n",
      "\n",
      "Trend: No Trend\n",
      "Critical Values: -2.57 (1%), -1.94 (5%), -1.62 (10%)\n",
      "Null Hypothesis: The process contains a unit root.\n",
      "Alternative Hypothesis: The process is weakly stationary.\n"
     ]
    }
   ],
   "source": [
    "for i in range(1,13):\n",
    "    pp = PhillipsPerron(sp500.iloc[:,2], lags = i, trend  = \"n\")\n",
    "    print(\"\\n\",i ,\"- Lags\",pp)"
   ]
  },
  {
   "cell_type": "code",
   "execution_count": 23,
   "metadata": {
    "scrolled": true
   },
   "outputs": [
    {
     "name": "stdout",
     "output_type": "stream",
     "text": [
      "Phillips-Perron for: Index\n",
      "Intercept\n",
      "Test-statistic 2.290946838188169 \n",
      "p-value 0.9989493603593826\n"
     ]
    },
    {
     "ename": "AttributeError",
     "evalue": "can't set attribute",
     "output_type": "error",
     "traceback": [
      "\u001b[1;31m---------------------------------------------------------------------------\u001b[0m",
      "\u001b[1;31mAttributeError\u001b[0m                            Traceback (most recent call last)",
      "\u001b[1;32m<ipython-input-23-71b89cf64def>\u001b[0m in \u001b[0;36m<module>\u001b[1;34m\u001b[0m\n\u001b[0;32m      1\u001b[0m \u001b[1;32mfor\u001b[0m \u001b[0mind\u001b[0m \u001b[1;32min\u001b[0m \u001b[1;33m[\u001b[0m\u001b[0msp500\u001b[0m\u001b[1;33m,\u001b[0m \u001b[0mbovespa\u001b[0m\u001b[1;33m,\u001b[0m \u001b[0mhangseng\u001b[0m\u001b[1;33m,\u001b[0m \u001b[0mftse100\u001b[0m\u001b[1;33m]\u001b[0m\u001b[1;33m:\u001b[0m\u001b[1;33m\u001b[0m\u001b[1;33m\u001b[0m\u001b[0m\n\u001b[1;32m----> 2\u001b[1;33m     \u001b[0mPhillipsPerronTest\u001b[0m\u001b[1;33m(\u001b[0m\u001b[0mind\u001b[0m\u001b[1;33m)\u001b[0m\u001b[1;33m\u001b[0m\u001b[1;33m\u001b[0m\u001b[0m\n\u001b[0m",
      "\u001b[1;32m<ipython-input-21-b5ef2807fd98>\u001b[0m in \u001b[0;36mPhillipsPerronTest\u001b[1;34m(DataFrame, Lags)\u001b[0m\n\u001b[0;32m      4\u001b[0m         \u001b[0mpp\u001b[0m \u001b[1;33m=\u001b[0m \u001b[0mPhillipsPerron\u001b[0m\u001b[1;33m(\u001b[0m\u001b[0mDataFrame\u001b[0m\u001b[1;33m.\u001b[0m\u001b[0miloc\u001b[0m\u001b[1;33m[\u001b[0m\u001b[1;33m:\u001b[0m\u001b[1;33m,\u001b[0m\u001b[0mi\u001b[0m\u001b[1;33m]\u001b[0m\u001b[1;33m,\u001b[0m \u001b[0mlags\u001b[0m \u001b[1;33m=\u001b[0m \u001b[0mLags\u001b[0m\u001b[1;33m)\u001b[0m\u001b[1;33m\u001b[0m\u001b[1;33m\u001b[0m\u001b[0m\n\u001b[0;32m      5\u001b[0m         \u001b[0mprint\u001b[0m\u001b[1;33m(\u001b[0m\u001b[1;34m\"Intercept\\nTest-statistic\"\u001b[0m\u001b[1;33m,\u001b[0m \u001b[0mpp\u001b[0m\u001b[1;33m.\u001b[0m\u001b[0mstat\u001b[0m\u001b[1;33m,\u001b[0m\u001b[1;34m\"\\np-value\"\u001b[0m\u001b[1;33m,\u001b[0m\u001b[0mpp\u001b[0m\u001b[1;33m.\u001b[0m\u001b[0mpvalue\u001b[0m\u001b[1;33m)\u001b[0m\u001b[1;33m\u001b[0m\u001b[1;33m\u001b[0m\u001b[0m\n\u001b[1;32m----> 6\u001b[1;33m         \u001b[0mpp\u001b[0m\u001b[1;33m.\u001b[0m\u001b[0mtrend\u001b[0m \u001b[1;33m=\u001b[0m \u001b[1;34m\"ct\"\u001b[0m\u001b[1;33m\u001b[0m\u001b[1;33m\u001b[0m\u001b[0m\n\u001b[0m\u001b[0;32m      7\u001b[0m         \u001b[0mprint\u001b[0m\u001b[1;33m(\u001b[0m\u001b[1;34m\"Intercept and Trend\\nTest-statistic\"\u001b[0m\u001b[1;33m,\u001b[0m\u001b[0mpp\u001b[0m\u001b[1;33m.\u001b[0m\u001b[0mstat\u001b[0m\u001b[1;33m,\u001b[0m\u001b[1;34m\"\\np-value\"\u001b[0m\u001b[1;33m,\u001b[0m\u001b[0mpp\u001b[0m\u001b[1;33m.\u001b[0m\u001b[0mpvalue\u001b[0m\u001b[1;33m)\u001b[0m\u001b[1;33m\u001b[0m\u001b[1;33m\u001b[0m\u001b[0m\n\u001b[0;32m      8\u001b[0m         \u001b[0mpp\u001b[0m\u001b[1;33m.\u001b[0m\u001b[0mtrend\u001b[0m \u001b[1;33m=\u001b[0m \u001b[1;34m\"n\"\u001b[0m\u001b[1;33m\u001b[0m\u001b[1;33m\u001b[0m\u001b[0m\n",
      "\u001b[1;31mAttributeError\u001b[0m: can't set attribute"
     ]
    }
   ],
   "source": [
    "for ind in [sp500, bovespa, hangseng, ftse100]:\n",
    "    PhillipsPerronTest(ind)"
   ]
  },
  {
   "cell_type": "code",
   "execution_count": 24,
   "metadata": {},
   "outputs": [
    {
     "data": {
      "text/html": [
       "<table class=\"simpletable\">\n",
       "<caption>Phillips-Perron Test (Z-tau)</caption>\n",
       "<tr>\n",
       "  <td>Test Statistic</td>     <td>2.772</td>\n",
       "</tr>\n",
       "<tr>\n",
       "  <td>P-value</td>            <td>0.999</td>\n",
       "</tr>\n",
       "<tr>\n",
       "  <td>Lags</td>                   <td>4</td>\n",
       "</tr>\n",
       "</table><br/><br/>Trend: No Trend<br/>Critical Values: -2.57 (1%), -1.94 (5%), -1.62 (10%)<br/>Null Hypothesis: The process contains a unit root.<br/>Alternative Hypothesis: The process is weakly stationary."
      ],
      "text/plain": [
       "<class 'arch.unitroot.unitroot.PhillipsPerron'>\n",
       "\"\"\"\n",
       "     Phillips-Perron Test (Z-tau)    \n",
       "=====================================\n",
       "Test Statistic                  2.772\n",
       "P-value                         0.999\n",
       "Lags                                4\n",
       "-------------------------------------\n",
       "\n",
       "Trend: No Trend\n",
       "Critical Values: -2.57 (1%), -1.94 (5%), -1.62 (10%)\n",
       "Null Hypothesis: The process contains a unit root.\n",
       "Alternative Hypothesis: The process is weakly stationary.\n",
       "\"\"\""
      ]
     },
     "execution_count": 24,
     "metadata": {},
     "output_type": "execute_result"
    }
   ],
   "source": [
    "pp = PhillipsPerron(sp500.iloc[:,1], lags = 4, trend = \"n\")\n",
    "pp"
   ]
  },
  {
   "cell_type": "markdown",
   "metadata": {},
   "source": [
    "### Exhibit 5"
   ]
  },
  {
   "cell_type": "code",
   "execution_count": 25,
   "metadata": {},
   "outputs": [],
   "source": [
    "from statsmodels.tsa.vector_ar.vecm import coint_johansen"
   ]
  },
  {
   "cell_type": "code",
   "execution_count": 26,
   "metadata": {},
   "outputs": [],
   "source": [
    "x = pd.DataFrame({\"PE\":sp500[\"PE\"],\"Index\":sp500[\"Index\"]})\n",
    "y = pd.DataFrame({\"Index\":sp500[\"Index\"],\"Yield\":sp500[\"Yield\"]})"
   ]
  },
  {
   "cell_type": "code",
   "execution_count": 27,
   "metadata": {
    "scrolled": true
   },
   "outputs": [
    {
     "name": "stdout",
     "output_type": "stream",
     "text": [
      "[0.05896482 0.01732895]\n",
      "[19.6422  4.3877]\n",
      "[[13.4294 15.4943 19.9349]\n",
      " [ 2.7055  3.8415  6.6349]] \n",
      "\n",
      "[15.2545  4.3877]\n",
      "[[12.2971 14.2639 18.52  ]\n",
      " [ 2.7055  3.8415  6.6349]] \n",
      "\n",
      "----------------\n",
      "[0.47218025 0.02043119]\n",
      "[165.5704   5.1813]\n",
      "[[13.4294 15.4943 19.9349]\n",
      " [ 2.7055  3.8415  6.6349]] \n",
      "\n",
      "[160.3891   5.1813]\n",
      "[[12.2971 14.2639 18.52  ]\n",
      " [ 2.7055  3.8415  6.6349]] \n",
      "\n",
      "----------------\n",
      "--------------------------------\n",
      "[0.13998007 0.03046156]\n",
      "[45.6155  7.7647]\n",
      "[[13.4294 15.4943 19.9349]\n",
      " [ 2.7055  3.8415  6.6349]] \n",
      "\n",
      "[37.8507  7.7647]\n",
      "[[12.2971 14.2639 18.52  ]\n",
      " [ 2.7055  3.8415  6.6349]] \n",
      "\n",
      "----------------\n",
      "[0.58074219 0.08741935]\n",
      "[241.1478  22.9612]\n",
      "[[13.4294 15.4943 19.9349]\n",
      " [ 2.7055  3.8415  6.6349]] \n",
      "\n",
      "[218.1866  22.9612]\n",
      "[[12.2971 14.2639 18.52  ]\n",
      " [ 2.7055  3.8415  6.6349]] \n",
      "\n",
      "----------------\n",
      "--------------------------------\n",
      "[0.02997138 0.01144461]\n",
      "[10.527   2.8892]\n",
      "[[13.4294 15.4943 19.9349]\n",
      " [ 2.7055  3.8415  6.6349]] \n",
      "\n",
      "[7.6379 2.8892]\n",
      "[[12.2971 14.2639 18.52  ]\n",
      " [ 2.7055  3.8415  6.6349]] \n",
      "\n",
      "----------------\n",
      "[0.62293317 0.02451242]\n",
      "[251.0378   6.2293]\n",
      "[[13.4294 15.4943 19.9349]\n",
      " [ 2.7055  3.8415  6.6349]] \n",
      "\n",
      "[244.8085   6.2293]\n",
      "[[12.2971 14.2639 18.52  ]\n",
      " [ 2.7055  3.8415  6.6349]] \n",
      "\n",
      "----------------\n",
      "--------------------------------\n",
      "[0.01597425 0.00553011]\n",
      "[5.4338 1.3919]\n",
      "[[13.4294 15.4943 19.9349]\n",
      " [ 2.7055  3.8415  6.6349]] \n",
      "\n",
      "[4.0419 1.3919]\n",
      "[[12.2971 14.2639 18.52  ]\n",
      " [ 2.7055  3.8415  6.6349]] \n",
      "\n",
      "----------------\n",
      "[0.55316084 0.00618945]\n",
      "[203.7531   1.5584]\n",
      "[[13.4294 15.4943 19.9349]\n",
      " [ 2.7055  3.8415  6.6349]] \n",
      "\n",
      "[202.1947   1.5584]\n",
      "[[12.2971 14.2639 18.52  ]\n",
      " [ 2.7055  3.8415  6.6349]] \n",
      "\n",
      "----------------\n",
      "--------------------------------\n"
     ]
    }
   ],
   "source": [
    "for ind in [sp500, bovespa, hangseng, ftse100]:\n",
    "    x = pd.DataFrame({\"Index\":ind[\"Index\"],\"PE\":ind[\"PE\"]})\n",
    "    y = pd.DataFrame({\"Yield\":ind[\"Yield\"],\"PE\":ind[\"PE\"]})\n",
    "    for i in [x,y]:\n",
    "        jres = coint_johansen(i, det_order=0, k_ar_diff = 0)\n",
    "        print(jres.eig)\n",
    "        print(jres.trace_stat.round(4))\n",
    "        print(jres.cvt.round(4),\"\\n\")\n",
    "        print(jres.max_eig_stat.round(4))\n",
    "        print(jres.cvm.round(4),\"\\n\")\n",
    "        print(\"----------------\")\n",
    "    print(\"--------------------------------\")"
   ]
  },
  {
   "cell_type": "code",
   "execution_count": 28,
   "metadata": {},
   "outputs": [
    {
     "name": "stdout",
     "output_type": "stream",
     "text": [
      "[0.05896482 0.01732895]\n",
      "[15.25446238  4.38769371]\n",
      "[[12.2971 14.2639 18.52  ]\n",
      " [ 2.7055  3.8415  6.6349]]\n"
     ]
    }
   ],
   "source": [
    "jres = coint_johansen(pd.DataFrame({\"Index\":sp500[\"Index\"],\"PE\":sp500[\"PE\"]}), det_order=0, k_ar_diff = 0)\n",
    "print(jres.eig)\n",
    "print(jres.max_eig_stat)\n",
    "print(jres.max_eig_stat_crit_vals)"
   ]
  },
  {
   "cell_type": "code",
   "execution_count": 31,
   "metadata": {},
   "outputs": [],
   "source": [
    "import pmdarima as pmd\n",
    "from pmdarima.arima import ARIMA"
   ]
  },
  {
   "cell_type": "code",
   "execution_count": 32,
   "metadata": {},
   "outputs": [
    {
     "name": "stdout",
     "output_type": "stream",
     "text": [
      " ARIMA(0,0,0)(0,0,0)[0]             : BIC=2454.347, Time=0.10 sec\n",
      " ARIMA(1,0,0)(0,0,0)[0]             : BIC=1529.017, Time=0.03 sec\n",
      " ARIMA(2,0,0)(0,0,0)[0]             : BIC=1443.820, Time=0.06 sec\n",
      " ARIMA(3,0,0)(0,0,0)[0]             : BIC=1446.817, Time=0.04 sec\n",
      " ARIMA(4,0,0)(0,0,0)[0]             : BIC=1432.638, Time=0.07 sec\n",
      " ARIMA(5,0,0)(0,0,0)[0]             : BIC=1389.511, Time=0.09 sec\n",
      "\n",
      "Best model:  ARIMA(5,0,0)(0,0,0)[0]          \n",
      "Total fit time: 0.390 seconds\n"
     ]
    },
    {
     "data": {
      "text/html": [
       "<table class=\"simpletable\">\n",
       "<caption>SARIMAX Results</caption>\n",
       "<tr>\n",
       "  <th>Dep. Variable:</th>           <td>y</td>        <th>  No. Observations:  </th>    <td>252</td>  \n",
       "</tr>\n",
       "<tr>\n",
       "  <th>Model:</th>           <td>SARIMAX(5, 0, 0)</td> <th>  Log Likelihood     </th> <td>-678.167</td>\n",
       "</tr>\n",
       "<tr>\n",
       "  <th>Date:</th>            <td>Tue, 12 Oct 2021</td> <th>  AIC                </th> <td>1368.335</td>\n",
       "</tr>\n",
       "<tr>\n",
       "  <th>Time:</th>                <td>16:56:57</td>     <th>  BIC                </th> <td>1389.511</td>\n",
       "</tr>\n",
       "<tr>\n",
       "  <th>Sample:</th>                  <td>0</td>        <th>  HQIC               </th> <td>1376.856</td>\n",
       "</tr>\n",
       "<tr>\n",
       "  <th></th>                      <td> - 252</td>      <th>                     </th>     <td> </td>   \n",
       "</tr>\n",
       "<tr>\n",
       "  <th>Covariance Type:</th>        <td>opg</td>       <th>                     </th>     <td> </td>   \n",
       "</tr>\n",
       "</table>\n",
       "<table class=\"simpletable\">\n",
       "<tr>\n",
       "     <td></td>       <th>coef</th>     <th>std err</th>      <th>z</th>      <th>P>|z|</th>  <th>[0.025</th>    <th>0.975]</th>  \n",
       "</tr>\n",
       "<tr>\n",
       "  <th>ar.L1</th>  <td>    1.5638</td> <td>    0.020</td> <td>   78.914</td> <td> 0.000</td> <td>    1.525</td> <td>    1.603</td>\n",
       "</tr>\n",
       "<tr>\n",
       "  <th>ar.L2</th>  <td>   -0.6333</td> <td>    0.035</td> <td>  -18.236</td> <td> 0.000</td> <td>   -0.701</td> <td>   -0.565</td>\n",
       "</tr>\n",
       "<tr>\n",
       "  <th>ar.L3</th>  <td>    0.5181</td> <td>    0.037</td> <td>   14.172</td> <td> 0.000</td> <td>    0.446</td> <td>    0.590</td>\n",
       "</tr>\n",
       "<tr>\n",
       "  <th>ar.L4</th>  <td>   -0.8819</td> <td>    0.039</td> <td>  -22.552</td> <td> 0.000</td> <td>   -0.959</td> <td>   -0.805</td>\n",
       "</tr>\n",
       "<tr>\n",
       "  <th>ar.L5</th>  <td>    0.4184</td> <td>    0.027</td> <td>   15.772</td> <td> 0.000</td> <td>    0.366</td> <td>    0.470</td>\n",
       "</tr>\n",
       "<tr>\n",
       "  <th>sigma2</th> <td>   12.4467</td> <td>    0.391</td> <td>   31.845</td> <td> 0.000</td> <td>   11.681</td> <td>   13.213</td>\n",
       "</tr>\n",
       "</table>\n",
       "<table class=\"simpletable\">\n",
       "<tr>\n",
       "  <th>Ljung-Box (L1) (Q):</th>     <td>0.04</td> <th>  Jarque-Bera (JB):  </th> <td>5162.17</td>\n",
       "</tr>\n",
       "<tr>\n",
       "  <th>Prob(Q):</th>                <td>0.84</td> <th>  Prob(JB):          </th>  <td>0.00</td>  \n",
       "</tr>\n",
       "<tr>\n",
       "  <th>Heteroskedasticity (H):</th> <td>0.69</td> <th>  Skew:              </th>  <td>1.80</td>  \n",
       "</tr>\n",
       "<tr>\n",
       "  <th>Prob(H) (two-sided):</th>    <td>0.10</td> <th>  Kurtosis:          </th>  <td>24.88</td> \n",
       "</tr>\n",
       "</table><br/><br/>Warnings:<br/>[1] Covariance matrix calculated using the outer product of gradients (complex-step)."
      ],
      "text/plain": [
       "<class 'statsmodels.iolib.summary.Summary'>\n",
       "\"\"\"\n",
       "                               SARIMAX Results                                \n",
       "==============================================================================\n",
       "Dep. Variable:                      y   No. Observations:                  252\n",
       "Model:               SARIMAX(5, 0, 0)   Log Likelihood                -678.167\n",
       "Date:                Tue, 12 Oct 2021   AIC                           1368.335\n",
       "Time:                        16:56:57   BIC                           1389.511\n",
       "Sample:                             0   HQIC                          1376.856\n",
       "                                - 252                                         \n",
       "Covariance Type:                  opg                                         \n",
       "==============================================================================\n",
       "                 coef    std err          z      P>|z|      [0.025      0.975]\n",
       "------------------------------------------------------------------------------\n",
       "ar.L1          1.5638      0.020     78.914      0.000       1.525       1.603\n",
       "ar.L2         -0.6333      0.035    -18.236      0.000      -0.701      -0.565\n",
       "ar.L3          0.5181      0.037     14.172      0.000       0.446       0.590\n",
       "ar.L4         -0.8819      0.039    -22.552      0.000      -0.959      -0.805\n",
       "ar.L5          0.4184      0.027     15.772      0.000       0.366       0.470\n",
       "sigma2        12.4467      0.391     31.845      0.000      11.681      13.213\n",
       "===================================================================================\n",
       "Ljung-Box (L1) (Q):                   0.04   Jarque-Bera (JB):              5162.17\n",
       "Prob(Q):                              0.84   Prob(JB):                         0.00\n",
       "Heteroskedasticity (H):               0.69   Skew:                             1.80\n",
       "Prob(H) (two-sided):                  0.10   Kurtosis:                        24.88\n",
       "===================================================================================\n",
       "\n",
       "Warnings:\n",
       "[1] Covariance matrix calculated using the outer product of gradients (complex-step).\n",
       "\"\"\""
      ]
     },
     "execution_count": 32,
     "metadata": {},
     "output_type": "execute_result"
    }
   ],
   "source": [
    "new_cases_FD_arima = pmd.auto_arima(sp500[\"PE\"], start_p = 4, d=0, start_q = 0, max_p = 10, max_q = 0, seasonal = False,\n",
    "                                stepwise = False, trace = True, information_criterion = \"bic\",\n",
    "                                trend = None , with_intercept = False)\n",
    "new_cases_FD_arima.summary()"
   ]
  },
  {
   "cell_type": "code",
   "execution_count": 33,
   "metadata": {},
   "outputs": [],
   "source": [
    "from statsmodels.tsa.ar_model import AutoReg"
   ]
  },
  {
   "cell_type": "code",
   "execution_count": 34,
   "metadata": {},
   "outputs": [],
   "source": [
    "ar_res = AutoReg(sp500.iloc[:,2],lags = 5,\n",
    "                      trend = \"ct\", seasonal = False, old_names = False).fit()"
   ]
  },
  {
   "cell_type": "code",
   "execution_count": 35,
   "metadata": {},
   "outputs": [],
   "source": [
    "ar_res = AutoReg(sp500.iloc[:,2],lags = 5,\n",
    "                      trend = \"t\", seasonal = False, old_names = False).fit()"
   ]
  },
  {
   "cell_type": "code",
   "execution_count": 36,
   "metadata": {},
   "outputs": [],
   "source": [
    "ar_res = AutoReg(sp500.iloc[:,2],lags = 5,\n",
    "                      trend = \"n\", seasonal = False, old_names = False).fit()"
   ]
  },
  {
   "cell_type": "code",
   "execution_count": 37,
   "metadata": {},
   "outputs": [],
   "source": [
    "ar_res = AutoReg(bovespa.iloc[:,1],lags = 9,\n",
    "                      trend = \"ct\", seasonal = False, old_names = False).fit()"
   ]
  },
  {
   "cell_type": "code",
   "execution_count": 38,
   "metadata": {},
   "outputs": [
    {
     "data": {
      "text/html": [
       "<table class=\"simpletable\">\n",
       "<caption>AutoReg Model Results</caption>\n",
       "<tr>\n",
       "  <th>Dep. Variable:</th>       <td>Index</td>      <th>  No. Observations:  </th>    <td>252</td>   \n",
       "</tr>\n",
       "<tr>\n",
       "  <th>Model:</th>            <td>AutoReg(9)</td>    <th>  Log Likelihood     </th> <td>-2349.166</td>\n",
       "</tr>\n",
       "<tr>\n",
       "  <th>Method:</th>         <td>Conditional MLE</td> <th>  S.D. of innovations</th> <td>3821.553</td> \n",
       "</tr>\n",
       "<tr>\n",
       "  <th>Date:</th>          <td>Tue, 12 Oct 2021</td> <th>  AIC                </th>  <td>16.596</td>  \n",
       "</tr>\n",
       "<tr>\n",
       "  <th>Time:</th>              <td>16:57:06</td>     <th>  BIC                </th>  <td>16.768</td>  \n",
       "</tr>\n",
       "<tr>\n",
       "  <th>Sample:</th>                <td>9</td>        <th>  HQIC               </th>  <td>16.665</td>  \n",
       "</tr>\n",
       "<tr>\n",
       "  <th></th>                      <td>252</td>       <th>                     </th>     <td> </td>    \n",
       "</tr>\n",
       "</table>\n",
       "<table class=\"simpletable\">\n",
       "<tr>\n",
       "      <td></td>        <th>coef</th>     <th>std err</th>      <th>z</th>      <th>P>|z|</th>  <th>[0.025</th>    <th>0.975]</th>  \n",
       "</tr>\n",
       "<tr>\n",
       "  <th>const</th>    <td>  425.4346</td> <td>  556.564</td> <td>    0.764</td> <td> 0.445</td> <td> -665.410</td> <td> 1516.279</td>\n",
       "</tr>\n",
       "<tr>\n",
       "  <th>trend</th>    <td>   15.8503</td> <td>    7.721</td> <td>    2.053</td> <td> 0.040</td> <td>    0.717</td> <td>   30.984</td>\n",
       "</tr>\n",
       "<tr>\n",
       "  <th>Index.L1</th> <td>    1.1534</td> <td>    0.064</td> <td>   18.033</td> <td> 0.000</td> <td>    1.028</td> <td>    1.279</td>\n",
       "</tr>\n",
       "<tr>\n",
       "  <th>Index.L2</th> <td>   -0.2962</td> <td>    0.097</td> <td>   -3.045</td> <td> 0.002</td> <td>   -0.487</td> <td>   -0.106</td>\n",
       "</tr>\n",
       "<tr>\n",
       "  <th>Index.L3</th> <td>    0.0614</td> <td>    0.100</td> <td>    0.613</td> <td> 0.540</td> <td>   -0.135</td> <td>    0.258</td>\n",
       "</tr>\n",
       "<tr>\n",
       "  <th>Index.L4</th> <td>   -0.0181</td> <td>    0.100</td> <td>   -0.181</td> <td> 0.856</td> <td>   -0.214</td> <td>    0.178</td>\n",
       "</tr>\n",
       "<tr>\n",
       "  <th>Index.L5</th> <td>    0.0302</td> <td>    0.100</td> <td>    0.302</td> <td> 0.762</td> <td>   -0.166</td> <td>    0.226</td>\n",
       "</tr>\n",
       "<tr>\n",
       "  <th>Index.L6</th> <td>    0.1136</td> <td>    0.101</td> <td>    1.129</td> <td> 0.259</td> <td>   -0.084</td> <td>    0.311</td>\n",
       "</tr>\n",
       "<tr>\n",
       "  <th>Index.L7</th> <td>   -0.0104</td> <td>    0.101</td> <td>   -0.103</td> <td> 0.918</td> <td>   -0.208</td> <td>    0.187</td>\n",
       "</tr>\n",
       "<tr>\n",
       "  <th>Index.L8</th> <td>   -0.2110</td> <td>    0.100</td> <td>   -2.118</td> <td> 0.034</td> <td>   -0.406</td> <td>   -0.016</td>\n",
       "</tr>\n",
       "<tr>\n",
       "  <th>Index.L9</th> <td>    0.1361</td> <td>    0.067</td> <td>    2.023</td> <td> 0.043</td> <td>    0.004</td> <td>    0.268</td>\n",
       "</tr>\n",
       "</table>\n",
       "<table class=\"simpletable\">\n",
       "<caption>Roots</caption>\n",
       "<tr>\n",
       "    <td></td>   <th>            Real</th>  <th>         Imaginary</th> <th>         Modulus</th>  <th>        Frequency</th>\n",
       "</tr>\n",
       "<tr>\n",
       "  <th>AR.1</th> <td>          -1.2075</td> <td>          -0.5124j</td> <td>           1.3117</td> <td>          -0.4361</td>\n",
       "</tr>\n",
       "<tr>\n",
       "  <th>AR.2</th> <td>          -1.2075</td> <td>          +0.5124j</td> <td>           1.3117</td> <td>           0.4361</td>\n",
       "</tr>\n",
       "<tr>\n",
       "  <th>AR.3</th> <td>          -0.4182</td> <td>          -1.1440j</td> <td>           1.2180</td> <td>          -0.3058</td>\n",
       "</tr>\n",
       "<tr>\n",
       "  <th>AR.4</th> <td>          -0.4182</td> <td>          +1.1440j</td> <td>           1.2180</td> <td>           0.3058</td>\n",
       "</tr>\n",
       "<tr>\n",
       "  <th>AR.5</th> <td>           0.5863</td> <td>          -1.0439j</td> <td>           1.1973</td> <td>          -0.1685</td>\n",
       "</tr>\n",
       "<tr>\n",
       "  <th>AR.6</th> <td>           0.5863</td> <td>          +1.0439j</td> <td>           1.1973</td> <td>           0.1685</td>\n",
       "</tr>\n",
       "<tr>\n",
       "  <th>AR.7</th> <td>           1.0410</td> <td>          -0.0000j</td> <td>           1.0410</td> <td>          -0.0000</td>\n",
       "</tr>\n",
       "<tr>\n",
       "  <th>AR.8</th> <td>           1.2938</td> <td>          -0.5042j</td> <td>           1.3886</td> <td>          -0.0591</td>\n",
       "</tr>\n",
       "<tr>\n",
       "  <th>AR.9</th> <td>           1.2938</td> <td>          +0.5042j</td> <td>           1.3886</td> <td>           0.0591</td>\n",
       "</tr>\n",
       "</table>"
      ],
      "text/plain": [
       "<class 'statsmodels.iolib.summary.Summary'>\n",
       "\"\"\"\n",
       "                            AutoReg Model Results                             \n",
       "==============================================================================\n",
       "Dep. Variable:                  Index   No. Observations:                  252\n",
       "Model:                     AutoReg(9)   Log Likelihood               -2349.166\n",
       "Method:               Conditional MLE   S.D. of innovations           3821.553\n",
       "Date:                Tue, 12 Oct 2021   AIC                             16.596\n",
       "Time:                        16:57:06   BIC                             16.768\n",
       "Sample:                             9   HQIC                            16.665\n",
       "                                  252                                         \n",
       "==============================================================================\n",
       "                 coef    std err          z      P>|z|      [0.025      0.975]\n",
       "------------------------------------------------------------------------------\n",
       "const        425.4346    556.564      0.764      0.445    -665.410    1516.279\n",
       "trend         15.8503      7.721      2.053      0.040       0.717      30.984\n",
       "Index.L1       1.1534      0.064     18.033      0.000       1.028       1.279\n",
       "Index.L2      -0.2962      0.097     -3.045      0.002      -0.487      -0.106\n",
       "Index.L3       0.0614      0.100      0.613      0.540      -0.135       0.258\n",
       "Index.L4      -0.0181      0.100     -0.181      0.856      -0.214       0.178\n",
       "Index.L5       0.0302      0.100      0.302      0.762      -0.166       0.226\n",
       "Index.L6       0.1136      0.101      1.129      0.259      -0.084       0.311\n",
       "Index.L7      -0.0104      0.101     -0.103      0.918      -0.208       0.187\n",
       "Index.L8      -0.2110      0.100     -2.118      0.034      -0.406      -0.016\n",
       "Index.L9       0.1361      0.067      2.023      0.043       0.004       0.268\n",
       "                                    Roots                                    \n",
       "=============================================================================\n",
       "                  Real          Imaginary           Modulus         Frequency\n",
       "-----------------------------------------------------------------------------\n",
       "AR.1           -1.2075           -0.5124j            1.3117           -0.4361\n",
       "AR.2           -1.2075           +0.5124j            1.3117            0.4361\n",
       "AR.3           -0.4182           -1.1440j            1.2180           -0.3058\n",
       "AR.4           -0.4182           +1.1440j            1.2180            0.3058\n",
       "AR.5            0.5863           -1.0439j            1.1973           -0.1685\n",
       "AR.6            0.5863           +1.0439j            1.1973            0.1685\n",
       "AR.7            1.0410           -0.0000j            1.0410           -0.0000\n",
       "AR.8            1.2938           -0.5042j            1.3886           -0.0591\n",
       "AR.9            1.2938           +0.5042j            1.3886            0.0591\n",
       "-----------------------------------------------------------------------------\n",
       "\"\"\""
      ]
     },
     "execution_count": 38,
     "metadata": {},
     "output_type": "execute_result"
    }
   ],
   "source": [
    "ar_res.summary()\n"
   ]
  },
  {
   "cell_type": "code",
   "execution_count": 39,
   "metadata": {},
   "outputs": [
    {
     "data": {
      "text/plain": [
       "0.9178377208320029"
      ]
     },
     "execution_count": 39,
     "metadata": {},
     "output_type": "execute_result"
    }
   ],
   "source": [
    "ar_res.pvalues[8]"
   ]
  },
  {
   "cell_type": "code",
   "execution_count": 40,
   "metadata": {},
   "outputs": [
    {
     "name": "stdout",
     "output_type": "stream",
     "text": [
      "0.725439850880285 16.592993702662472 16.81118179169583\n",
      "0.3531110456550257 16.58548049269503 16.78851776322331\n",
      "0.04919830244148824 16.585892690372 16.77386928844411\n",
      "0.5632775956260128 16.574348192761324 16.74735336926496\n",
      "0.03464331998206404 16.58976070003679 16.747882822986362\n",
      "0.6766769687486067 16.594382524949744 16.73770909156012\n",
      "0.16099290316651882 16.58557652227995 16.71419417083057\n",
      "0.6364761166305946 16.5838695670481 16.697864088541834\n",
      "0.7859653763740531 16.572957508449804 16.67241385807084\n",
      "0.48220293483067567 16.564821310480845 16.649823618855805\n",
      "0.000705140240536623 16.555340692940067 16.625972277206426\n",
      "1.866281295288244e-73 16.557669307449473 16.614012682135268\n",
      "0.021240595697002377 16.580859329527424 16.62299621724613\n",
      "0.0 19.0083333366581 19.036344678622477\n"
     ]
    }
   ],
   "source": [
    "for l in range(13,-1,-1):\n",
    "    ar_res = AutoReg(bovespa.iloc[:,1],lags = l,\n",
    "                      trend = \"t\", seasonal = False, old_names = False).fit()\n",
    "    print(ar_res.pvalues[(l-1)],ar_res.aic,ar_res.bic)"
   ]
  },
  {
   "cell_type": "code",
   "execution_count": 41,
   "metadata": {},
   "outputs": [
    {
     "data": {
      "text/plain": [
       "[13, 12, 11, 10, 9, 8, 7, 6, 5, 4, 3, 2, 1]"
      ]
     },
     "execution_count": 41,
     "metadata": {},
     "output_type": "execute_result"
    }
   ],
   "source": [
    "list(range(13,0,-1))"
   ]
  },
  {
   "cell_type": "code",
   "execution_count": 44,
   "metadata": {},
   "outputs": [
    {
     "data": {
      "text/plain": [
       "pandas.core.series.Series"
      ]
     },
     "execution_count": 44,
     "metadata": {},
     "output_type": "execute_result"
    }
   ],
   "source": []
  },
  {
   "cell_type": "code",
   "execution_count": null,
   "metadata": {},
   "outputs": [],
   "source": []
  }
 ],
 "metadata": {
  "@webio": {
   "lastCommId": null,
   "lastKernelId": null
  },
  "kernelspec": {
   "display_name": "Python [conda env:.conda-mlcourse]",
   "language": "python",
   "name": "conda-env-.conda-mlcourse-py"
  },
  "language_info": {
   "codemirror_mode": {
    "name": "ipython",
    "version": 3
   },
   "file_extension": ".py",
   "mimetype": "text/x-python",
   "name": "python",
   "nbconvert_exporter": "python",
   "pygments_lexer": "ipython3",
   "version": "3.8.8"
  }
 },
 "nbformat": 4,
 "nbformat_minor": 4
}
